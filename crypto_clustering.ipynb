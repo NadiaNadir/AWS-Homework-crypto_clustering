{
 "cells": [
  {
   "cell_type": "markdown",
   "metadata": {},
   "source": [
    "# Clustering Crypto"
   ]
  },
  {
   "cell_type": "code",
   "execution_count": 18,
   "metadata": {},
   "outputs": [],
   "source": [
    "# Initial imports\n",
    "import requests\n",
    "import pandas as pd\n",
    "import matplotlib.pyplot as plt\n",
    "import hvplot.pandas\n",
    "import plotly.express as px\n",
    "from sklearn.preprocessing import StandardScaler, MinMaxScaler\n",
    "from sklearn.decomposition import PCA\n",
    "from sklearn.cluster import KMeans"
   ]
  },
  {
   "cell_type": "markdown",
   "metadata": {},
   "source": [
    "### Fetching Cryptocurrency Data"
   ]
  },
  {
   "cell_type": "code",
   "execution_count": 19,
   "metadata": {},
   "outputs": [],
   "source": [
    "# Use the following endpoint to fetch json data\n",
    "url = \"https://min-api.cryptocompare.com/data/all/coinlist\""
   ]
  },
  {
   "cell_type": "code",
   "execution_count": 20,
   "metadata": {},
   "outputs": [
    {
     "data": {
      "text/html": [
       "<div>\n",
       "<style scoped>\n",
       "    .dataframe tbody tr th:only-of-type {\n",
       "        vertical-align: middle;\n",
       "    }\n",
       "\n",
       "    .dataframe tbody tr th {\n",
       "        vertical-align: top;\n",
       "    }\n",
       "\n",
       "    .dataframe thead th {\n",
       "        text-align: right;\n",
       "    }\n",
       "</style>\n",
       "<table border=\"1\" class=\"dataframe\">\n",
       "  <thead>\n",
       "    <tr style=\"text-align: right;\">\n",
       "      <th></th>\n",
       "      <th>Id</th>\n",
       "      <th>Url</th>\n",
       "      <th>ImageUrl</th>\n",
       "      <th>ContentCreatedOn</th>\n",
       "      <th>Name</th>\n",
       "      <th>Symbol</th>\n",
       "      <th>CoinName</th>\n",
       "      <th>FullName</th>\n",
       "      <th>Description</th>\n",
       "      <th>AssetTokenStatus</th>\n",
       "      <th>...</th>\n",
       "      <th>MaxSupply</th>\n",
       "      <th>MktCapPenalty</th>\n",
       "      <th>IsUsedInDefi</th>\n",
       "      <th>IsUsedInNft</th>\n",
       "      <th>PlatformType</th>\n",
       "      <th>BuiltOn</th>\n",
       "      <th>SmartContractAddress</th>\n",
       "      <th>DecimalPoints</th>\n",
       "      <th>Difficulty</th>\n",
       "      <th>AlgorithmType</th>\n",
       "    </tr>\n",
       "  </thead>\n",
       "  <tbody>\n",
       "    <tr>\n",
       "      <th>42</th>\n",
       "      <td>4321</td>\n",
       "      <td>/coins/42/overview</td>\n",
       "      <td>/media/35650717/42.jpg</td>\n",
       "      <td>1427211129</td>\n",
       "      <td>42</td>\n",
       "      <td>42</td>\n",
       "      <td>42 Coin</td>\n",
       "      <td>42 Coin (42)</td>\n",
       "      <td>Everything about 42 coin is 42 - apart from th...</td>\n",
       "      <td>N/A</td>\n",
       "      <td>...</td>\n",
       "      <td>0</td>\n",
       "      <td>0</td>\n",
       "      <td>0</td>\n",
       "      <td>0</td>\n",
       "      <td>NaN</td>\n",
       "      <td>NaN</td>\n",
       "      <td>NaN</td>\n",
       "      <td>NaN</td>\n",
       "      <td>NaN</td>\n",
       "      <td>NaN</td>\n",
       "    </tr>\n",
       "    <tr>\n",
       "      <th>300</th>\n",
       "      <td>749869</td>\n",
       "      <td>/coins/300/overview</td>\n",
       "      <td>/media/27010595/300.png</td>\n",
       "      <td>1517935016</td>\n",
       "      <td>300</td>\n",
       "      <td>300</td>\n",
       "      <td>300 token</td>\n",
       "      <td>300 token (300)</td>\n",
       "      <td>300 token is an ERC20 token. This Token was cr...</td>\n",
       "      <td>N/A</td>\n",
       "      <td>...</td>\n",
       "      <td>300</td>\n",
       "      <td>0</td>\n",
       "      <td>0</td>\n",
       "      <td>0</td>\n",
       "      <td>token</td>\n",
       "      <td>ETH</td>\n",
       "      <td>0xaec98a708810414878c3bcdf46aad31ded4a4557</td>\n",
       "      <td>18</td>\n",
       "      <td>NaN</td>\n",
       "      <td>NaN</td>\n",
       "    </tr>\n",
       "    <tr>\n",
       "      <th>365</th>\n",
       "      <td>33639</td>\n",
       "      <td>/coins/365/overview</td>\n",
       "      <td>/media/352070/365.png</td>\n",
       "      <td>1480032918</td>\n",
       "      <td>365</td>\n",
       "      <td>365</td>\n",
       "      <td>365Coin</td>\n",
       "      <td>365Coin (365)</td>\n",
       "      <td>365Coin is a Proof of Work and Proof of Stake ...</td>\n",
       "      <td>N/A</td>\n",
       "      <td>...</td>\n",
       "      <td>0</td>\n",
       "      <td>0</td>\n",
       "      <td>0</td>\n",
       "      <td>0</td>\n",
       "      <td>NaN</td>\n",
       "      <td>NaN</td>\n",
       "      <td>NaN</td>\n",
       "      <td>NaN</td>\n",
       "      <td>NaN</td>\n",
       "      <td>NaN</td>\n",
       "    </tr>\n",
       "    <tr>\n",
       "      <th>404</th>\n",
       "      <td>21227</td>\n",
       "      <td>/coins/404/overview</td>\n",
       "      <td>/media/35650851/404-300x300.jpg</td>\n",
       "      <td>1466100361</td>\n",
       "      <td>404</td>\n",
       "      <td>404</td>\n",
       "      <td>404Coin</td>\n",
       "      <td>404Coin (404)</td>\n",
       "      <td>404 is a PoW/PoS hybrid cryptocurrency that al...</td>\n",
       "      <td>N/A</td>\n",
       "      <td>...</td>\n",
       "      <td>0</td>\n",
       "      <td>0</td>\n",
       "      <td>0</td>\n",
       "      <td>0</td>\n",
       "      <td>NaN</td>\n",
       "      <td>NaN</td>\n",
       "      <td>NaN</td>\n",
       "      <td>NaN</td>\n",
       "      <td>NaN</td>\n",
       "      <td>NaN</td>\n",
       "    </tr>\n",
       "    <tr>\n",
       "      <th>433</th>\n",
       "      <td>926547</td>\n",
       "      <td>/coins/433/overview</td>\n",
       "      <td>/media/34836095/433.png</td>\n",
       "      <td>1541597321</td>\n",
       "      <td>433</td>\n",
       "      <td>433</td>\n",
       "      <td>433 Token</td>\n",
       "      <td>433 Token (433)</td>\n",
       "      <td>433 Token is a decentralised soccer platform t...</td>\n",
       "      <td>Finished</td>\n",
       "      <td>...</td>\n",
       "      <td>NaN</td>\n",
       "      <td>NaN</td>\n",
       "      <td>NaN</td>\n",
       "      <td>NaN</td>\n",
       "      <td>NaN</td>\n",
       "      <td>NaN</td>\n",
       "      <td>NaN</td>\n",
       "      <td>NaN</td>\n",
       "      <td>NaN</td>\n",
       "      <td>NaN</td>\n",
       "    </tr>\n",
       "  </tbody>\n",
       "</table>\n",
       "<p>5 rows × 36 columns</p>\n",
       "</div>"
      ],
      "text/plain": [
       "         Id                  Url                         ImageUrl  \\\n",
       "42     4321   /coins/42/overview           /media/35650717/42.jpg   \n",
       "300  749869  /coins/300/overview          /media/27010595/300.png   \n",
       "365   33639  /coins/365/overview            /media/352070/365.png   \n",
       "404   21227  /coins/404/overview  /media/35650851/404-300x300.jpg   \n",
       "433  926547  /coins/433/overview          /media/34836095/433.png   \n",
       "\n",
       "    ContentCreatedOn Name Symbol   CoinName         FullName  \\\n",
       "42        1427211129   42     42    42 Coin     42 Coin (42)   \n",
       "300       1517935016  300    300  300 token  300 token (300)   \n",
       "365       1480032918  365    365    365Coin    365Coin (365)   \n",
       "404       1466100361  404    404    404Coin    404Coin (404)   \n",
       "433       1541597321  433    433  433 Token  433 Token (433)   \n",
       "\n",
       "                                           Description AssetTokenStatus  ...  \\\n",
       "42   Everything about 42 coin is 42 - apart from th...              N/A  ...   \n",
       "300  300 token is an ERC20 token. This Token was cr...              N/A  ...   \n",
       "365  365Coin is a Proof of Work and Proof of Stake ...              N/A  ...   \n",
       "404  404 is a PoW/PoS hybrid cryptocurrency that al...              N/A  ...   \n",
       "433  433 Token is a decentralised soccer platform t...         Finished  ...   \n",
       "\n",
       "    MaxSupply MktCapPenalty IsUsedInDefi IsUsedInNft PlatformType BuiltOn  \\\n",
       "42          0             0            0           0          NaN     NaN   \n",
       "300       300             0            0           0        token     ETH   \n",
       "365         0             0            0           0          NaN     NaN   \n",
       "404         0             0            0           0          NaN     NaN   \n",
       "433       NaN           NaN          NaN         NaN          NaN     NaN   \n",
       "\n",
       "                           SmartContractAddress DecimalPoints Difficulty  \\\n",
       "42                                          NaN           NaN        NaN   \n",
       "300  0xaec98a708810414878c3bcdf46aad31ded4a4557            18        NaN   \n",
       "365                                         NaN           NaN        NaN   \n",
       "404                                         NaN           NaN        NaN   \n",
       "433                                         NaN           NaN        NaN   \n",
       "\n",
       "    AlgorithmType  \n",
       "42            NaN  \n",
       "300           NaN  \n",
       "365           NaN  \n",
       "404           NaN  \n",
       "433           NaN  \n",
       "\n",
       "[5 rows x 36 columns]"
      ]
     },
     "execution_count": 20,
     "metadata": {},
     "output_type": "execute_result"
    }
   ],
   "source": [
    "# Create a DataFrame \n",
    "# HINT: You will need to use the 'Data' key from the json response, then transpose the DataFrame.\n",
    "r = requests.get(url)\n",
    "data = r.json()\n",
    "list(data.keys())\n",
    "df = pd.DataFrame(data['Data'])\n",
    "df = df.transpose()\n",
    "df.head()\n"
   ]
  },
  {
   "cell_type": "code",
   "execution_count": 21,
   "metadata": {},
   "outputs": [
    {
     "data": {
      "text/html": [
       "<div>\n",
       "<style scoped>\n",
       "    .dataframe tbody tr th:only-of-type {\n",
       "        vertical-align: middle;\n",
       "    }\n",
       "\n",
       "    .dataframe tbody tr th {\n",
       "        vertical-align: top;\n",
       "    }\n",
       "\n",
       "    .dataframe thead th {\n",
       "        text-align: right;\n",
       "    }\n",
       "</style>\n",
       "<table border=\"1\" class=\"dataframe\">\n",
       "  <thead>\n",
       "    <tr style=\"text-align: right;\">\n",
       "      <th></th>\n",
       "      <th>CoinName</th>\n",
       "      <th>Algorithm</th>\n",
       "      <th>IsTrading</th>\n",
       "      <th>ProofType</th>\n",
       "      <th>TotalCoinsMined</th>\n",
       "      <th>TotalCoinSupply</th>\n",
       "    </tr>\n",
       "  </thead>\n",
       "  <tbody>\n",
       "    <tr>\n",
       "      <th>42</th>\n",
       "      <td>42 Coin</td>\n",
       "      <td>Scrypt</td>\n",
       "      <td>True</td>\n",
       "      <td>PoW/PoS</td>\n",
       "      <td>4.199995e+01</td>\n",
       "      <td>42</td>\n",
       "    </tr>\n",
       "    <tr>\n",
       "      <th>365</th>\n",
       "      <td>365Coin</td>\n",
       "      <td>X11</td>\n",
       "      <td>True</td>\n",
       "      <td>PoW/PoS</td>\n",
       "      <td>NaN</td>\n",
       "      <td>2300000000</td>\n",
       "    </tr>\n",
       "    <tr>\n",
       "      <th>404</th>\n",
       "      <td>404Coin</td>\n",
       "      <td>Scrypt</td>\n",
       "      <td>True</td>\n",
       "      <td>PoW/PoS</td>\n",
       "      <td>1.055185e+09</td>\n",
       "      <td>532000000</td>\n",
       "    </tr>\n",
       "    <tr>\n",
       "      <th>611</th>\n",
       "      <td>SixEleven</td>\n",
       "      <td>SHA-256</td>\n",
       "      <td>True</td>\n",
       "      <td>PoW</td>\n",
       "      <td>NaN</td>\n",
       "      <td>611000</td>\n",
       "    </tr>\n",
       "    <tr>\n",
       "      <th>808</th>\n",
       "      <td>808</td>\n",
       "      <td>SHA-256</td>\n",
       "      <td>True</td>\n",
       "      <td>PoW/PoS</td>\n",
       "      <td>0.000000e+00</td>\n",
       "      <td>0</td>\n",
       "    </tr>\n",
       "  </tbody>\n",
       "</table>\n",
       "</div>"
      ],
      "text/plain": [
       "      CoinName Algorithm  IsTrading ProofType  TotalCoinsMined TotalCoinSupply\n",
       "42     42 Coin    Scrypt       True   PoW/PoS     4.199995e+01              42\n",
       "365    365Coin       X11       True   PoW/PoS              NaN      2300000000\n",
       "404    404Coin    Scrypt       True   PoW/PoS     1.055185e+09       532000000\n",
       "611  SixEleven   SHA-256       True       PoW              NaN          611000\n",
       "808        808   SHA-256       True   PoW/PoS     0.000000e+00               0"
      ]
     },
     "execution_count": 21,
     "metadata": {},
     "output_type": "execute_result"
    }
   ],
   "source": [
    "# Alternatively, use the provided csv file:\n",
    "file_path = open(\"Resources/crypto_data.csv\")\n",
    "df = pd.read_csv(file_path, index_col=0)\n",
    "df.head()"
   ]
  },
  {
   "cell_type": "markdown",
   "metadata": {},
   "source": [
    "### Data Preprocessing"
   ]
  },
  {
   "cell_type": "code",
   "execution_count": 22,
   "metadata": {},
   "outputs": [
    {
     "data": {
      "text/plain": [
       "Index(['CoinName', 'Algorithm', 'IsTrading', 'ProofType', 'TotalCoinsMined',\n",
       "       'TotalCoinSupply'],\n",
       "      dtype='object')"
      ]
     },
     "execution_count": 22,
     "metadata": {},
     "output_type": "execute_result"
    }
   ],
   "source": [
    "# Keep only necessary columns:\n",
    "# 'CoinName','Algorithm','IsTrading','ProofType','TotalCoinsMined','TotalCoinSupply'\n",
    "# data is already cleaned in CSV FILE\n",
    "df.columns"
   ]
  },
  {
   "cell_type": "code",
   "execution_count": 23,
   "metadata": {},
   "outputs": [
    {
     "data": {
      "text/plain": [
       "(1144, 6)"
      ]
     },
     "execution_count": 23,
     "metadata": {},
     "output_type": "execute_result"
    }
   ],
   "source": [
    "# Keep only cryptocurrencies that are trading\n",
    "df_crypto = df[df.IsTrading.eq(True)]\n",
    "df_crypto.shape\n"
   ]
  },
  {
   "cell_type": "code",
   "execution_count": 24,
   "metadata": {},
   "outputs": [
    {
     "data": {
      "text/plain": [
       "42      False\n",
       "365     False\n",
       "404     False\n",
       "611     False\n",
       "808     False\n",
       "        ...  \n",
       "SERO    False\n",
       "UOS     False\n",
       "BDX     False\n",
       "ZEN     False\n",
       "XBC     False\n",
       "Name: Algorithm, Length: 1144, dtype: bool"
      ]
     },
     "execution_count": 24,
     "metadata": {},
     "output_type": "execute_result"
    }
   ],
   "source": [
    "# Keep only cryptocurrencies with a working algorithm\n",
    "pd.isna(df_crypto['Algorithm'])"
   ]
  },
  {
   "cell_type": "code",
   "execution_count": 25,
   "metadata": {},
   "outputs": [
    {
     "data": {
      "text/html": [
       "<div>\n",
       "<style scoped>\n",
       "    .dataframe tbody tr th:only-of-type {\n",
       "        vertical-align: middle;\n",
       "    }\n",
       "\n",
       "    .dataframe tbody tr th {\n",
       "        vertical-align: top;\n",
       "    }\n",
       "\n",
       "    .dataframe thead th {\n",
       "        text-align: right;\n",
       "    }\n",
       "</style>\n",
       "<table border=\"1\" class=\"dataframe\">\n",
       "  <thead>\n",
       "    <tr style=\"text-align: right;\">\n",
       "      <th></th>\n",
       "      <th>CoinName</th>\n",
       "      <th>Algorithm</th>\n",
       "      <th>ProofType</th>\n",
       "      <th>TotalCoinsMined</th>\n",
       "      <th>TotalCoinSupply</th>\n",
       "    </tr>\n",
       "  </thead>\n",
       "  <tbody>\n",
       "    <tr>\n",
       "      <th>42</th>\n",
       "      <td>42 Coin</td>\n",
       "      <td>Scrypt</td>\n",
       "      <td>PoW/PoS</td>\n",
       "      <td>4.199995e+01</td>\n",
       "      <td>42</td>\n",
       "    </tr>\n",
       "    <tr>\n",
       "      <th>365</th>\n",
       "      <td>365Coin</td>\n",
       "      <td>X11</td>\n",
       "      <td>PoW/PoS</td>\n",
       "      <td>NaN</td>\n",
       "      <td>2300000000</td>\n",
       "    </tr>\n",
       "    <tr>\n",
       "      <th>404</th>\n",
       "      <td>404Coin</td>\n",
       "      <td>Scrypt</td>\n",
       "      <td>PoW/PoS</td>\n",
       "      <td>1.055185e+09</td>\n",
       "      <td>532000000</td>\n",
       "    </tr>\n",
       "    <tr>\n",
       "      <th>611</th>\n",
       "      <td>SixEleven</td>\n",
       "      <td>SHA-256</td>\n",
       "      <td>PoW</td>\n",
       "      <td>NaN</td>\n",
       "      <td>611000</td>\n",
       "    </tr>\n",
       "    <tr>\n",
       "      <th>808</th>\n",
       "      <td>808</td>\n",
       "      <td>SHA-256</td>\n",
       "      <td>PoW/PoS</td>\n",
       "      <td>0.000000e+00</td>\n",
       "      <td>0</td>\n",
       "    </tr>\n",
       "  </tbody>\n",
       "</table>\n",
       "</div>"
      ],
      "text/plain": [
       "      CoinName Algorithm ProofType  TotalCoinsMined TotalCoinSupply\n",
       "42     42 Coin    Scrypt   PoW/PoS     4.199995e+01              42\n",
       "365    365Coin       X11   PoW/PoS              NaN      2300000000\n",
       "404    404Coin    Scrypt   PoW/PoS     1.055185e+09       532000000\n",
       "611  SixEleven   SHA-256       PoW              NaN          611000\n",
       "808        808   SHA-256   PoW/PoS     0.000000e+00               0"
      ]
     },
     "execution_count": 25,
     "metadata": {},
     "output_type": "execute_result"
    }
   ],
   "source": [
    "# Remove the \"IsTrading\" column\n",
    "df_crypto = df_crypto.drop(['IsTrading'], axis = 1)\n",
    "df_crypto.head()"
   ]
  },
  {
   "cell_type": "code",
   "execution_count": 26,
   "metadata": {},
   "outputs": [
    {
     "data": {
      "text/html": [
       "<div>\n",
       "<style scoped>\n",
       "    .dataframe tbody tr th:only-of-type {\n",
       "        vertical-align: middle;\n",
       "    }\n",
       "\n",
       "    .dataframe tbody tr th {\n",
       "        vertical-align: top;\n",
       "    }\n",
       "\n",
       "    .dataframe thead th {\n",
       "        text-align: right;\n",
       "    }\n",
       "</style>\n",
       "<table border=\"1\" class=\"dataframe\">\n",
       "  <thead>\n",
       "    <tr style=\"text-align: right;\">\n",
       "      <th></th>\n",
       "      <th>CoinName</th>\n",
       "      <th>Algorithm</th>\n",
       "      <th>ProofType</th>\n",
       "      <th>TotalCoinsMined</th>\n",
       "      <th>TotalCoinSupply</th>\n",
       "    </tr>\n",
       "  </thead>\n",
       "  <tbody>\n",
       "    <tr>\n",
       "      <th>42</th>\n",
       "      <td>42 Coin</td>\n",
       "      <td>Scrypt</td>\n",
       "      <td>PoW/PoS</td>\n",
       "      <td>4.199995e+01</td>\n",
       "      <td>42</td>\n",
       "    </tr>\n",
       "    <tr>\n",
       "      <th>404</th>\n",
       "      <td>404Coin</td>\n",
       "      <td>Scrypt</td>\n",
       "      <td>PoW/PoS</td>\n",
       "      <td>1.055185e+09</td>\n",
       "      <td>532000000</td>\n",
       "    </tr>\n",
       "    <tr>\n",
       "      <th>808</th>\n",
       "      <td>808</td>\n",
       "      <td>SHA-256</td>\n",
       "      <td>PoW/PoS</td>\n",
       "      <td>0.000000e+00</td>\n",
       "      <td>0</td>\n",
       "    </tr>\n",
       "    <tr>\n",
       "      <th>1337</th>\n",
       "      <td>EliteCoin</td>\n",
       "      <td>X13</td>\n",
       "      <td>PoW/PoS</td>\n",
       "      <td>2.927942e+10</td>\n",
       "      <td>314159265359</td>\n",
       "    </tr>\n",
       "    <tr>\n",
       "      <th>BTC</th>\n",
       "      <td>Bitcoin</td>\n",
       "      <td>SHA-256</td>\n",
       "      <td>PoW</td>\n",
       "      <td>1.792718e+07</td>\n",
       "      <td>21000000</td>\n",
       "    </tr>\n",
       "  </tbody>\n",
       "</table>\n",
       "</div>"
      ],
      "text/plain": [
       "       CoinName Algorithm ProofType  TotalCoinsMined TotalCoinSupply\n",
       "42      42 Coin    Scrypt   PoW/PoS     4.199995e+01              42\n",
       "404     404Coin    Scrypt   PoW/PoS     1.055185e+09       532000000\n",
       "808         808   SHA-256   PoW/PoS     0.000000e+00               0\n",
       "1337  EliteCoin       X13   PoW/PoS     2.927942e+10    314159265359\n",
       "BTC     Bitcoin   SHA-256       PoW     1.792718e+07        21000000"
      ]
     },
     "execution_count": 26,
     "metadata": {},
     "output_type": "execute_result"
    }
   ],
   "source": [
    "# Remove rows with at least 1 null value\n",
    "df_crypto = df_crypto.dropna(how='any', axis=0)\n",
    "df_crypto.head()\n"
   ]
  },
  {
   "cell_type": "code",
   "execution_count": 27,
   "metadata": {},
   "outputs": [
    {
     "data": {
      "text/html": [
       "<div>\n",
       "<style scoped>\n",
       "    .dataframe tbody tr th:only-of-type {\n",
       "        vertical-align: middle;\n",
       "    }\n",
       "\n",
       "    .dataframe tbody tr th {\n",
       "        vertical-align: top;\n",
       "    }\n",
       "\n",
       "    .dataframe thead th {\n",
       "        text-align: right;\n",
       "    }\n",
       "</style>\n",
       "<table border=\"1\" class=\"dataframe\">\n",
       "  <thead>\n",
       "    <tr style=\"text-align: right;\">\n",
       "      <th></th>\n",
       "      <th>CoinName</th>\n",
       "      <th>Algorithm</th>\n",
       "      <th>ProofType</th>\n",
       "      <th>TotalCoinsMined</th>\n",
       "      <th>TotalCoinSupply</th>\n",
       "    </tr>\n",
       "  </thead>\n",
       "  <tbody>\n",
       "    <tr>\n",
       "      <th>42</th>\n",
       "      <td>42 Coin</td>\n",
       "      <td>Scrypt</td>\n",
       "      <td>PoW/PoS</td>\n",
       "      <td>4.199995e+01</td>\n",
       "      <td>42</td>\n",
       "    </tr>\n",
       "    <tr>\n",
       "      <th>404</th>\n",
       "      <td>404Coin</td>\n",
       "      <td>Scrypt</td>\n",
       "      <td>PoW/PoS</td>\n",
       "      <td>1.055185e+09</td>\n",
       "      <td>532000000</td>\n",
       "    </tr>\n",
       "    <tr>\n",
       "      <th>1337</th>\n",
       "      <td>EliteCoin</td>\n",
       "      <td>X13</td>\n",
       "      <td>PoW/PoS</td>\n",
       "      <td>2.927942e+10</td>\n",
       "      <td>314159265359</td>\n",
       "    </tr>\n",
       "    <tr>\n",
       "      <th>BTC</th>\n",
       "      <td>Bitcoin</td>\n",
       "      <td>SHA-256</td>\n",
       "      <td>PoW</td>\n",
       "      <td>1.792718e+07</td>\n",
       "      <td>21000000</td>\n",
       "    </tr>\n",
       "    <tr>\n",
       "      <th>ETH</th>\n",
       "      <td>Ethereum</td>\n",
       "      <td>Ethash</td>\n",
       "      <td>PoW</td>\n",
       "      <td>1.076842e+08</td>\n",
       "      <td>0</td>\n",
       "    </tr>\n",
       "  </tbody>\n",
       "</table>\n",
       "</div>"
      ],
      "text/plain": [
       "       CoinName Algorithm ProofType  TotalCoinsMined TotalCoinSupply\n",
       "42      42 Coin    Scrypt   PoW/PoS     4.199995e+01              42\n",
       "404     404Coin    Scrypt   PoW/PoS     1.055185e+09       532000000\n",
       "1337  EliteCoin       X13   PoW/PoS     2.927942e+10    314159265359\n",
       "BTC     Bitcoin   SHA-256       PoW     1.792718e+07        21000000\n",
       "ETH    Ethereum    Ethash       PoW     1.076842e+08               0"
      ]
     },
     "execution_count": 27,
     "metadata": {},
     "output_type": "execute_result"
    }
   ],
   "source": [
    "# Remove rows with cryptocurrencies having no coins mined\n",
    "df_crypto = df_crypto[df_crypto.TotalCoinsMined > 0]\n",
    "df_crypto.head()\n"
   ]
  },
  {
   "cell_type": "code",
   "execution_count": 28,
   "metadata": {},
   "outputs": [
    {
     "data": {
      "text/html": [
       "<div>\n",
       "<style scoped>\n",
       "    .dataframe tbody tr th:only-of-type {\n",
       "        vertical-align: middle;\n",
       "    }\n",
       "\n",
       "    .dataframe tbody tr th {\n",
       "        vertical-align: top;\n",
       "    }\n",
       "\n",
       "    .dataframe thead th {\n",
       "        text-align: right;\n",
       "    }\n",
       "</style>\n",
       "<table border=\"1\" class=\"dataframe\">\n",
       "  <thead>\n",
       "    <tr style=\"text-align: right;\">\n",
       "      <th></th>\n",
       "      <th>CoinName</th>\n",
       "      <th>Algorithm</th>\n",
       "      <th>ProofType</th>\n",
       "      <th>TotalCoinsMined</th>\n",
       "      <th>TotalCoinSupply</th>\n",
       "    </tr>\n",
       "  </thead>\n",
       "  <tbody>\n",
       "    <tr>\n",
       "      <th>42</th>\n",
       "      <td>42 Coin</td>\n",
       "      <td>Scrypt</td>\n",
       "      <td>PoW/PoS</td>\n",
       "      <td>4.199995e+01</td>\n",
       "      <td>42</td>\n",
       "    </tr>\n",
       "    <tr>\n",
       "      <th>404</th>\n",
       "      <td>404Coin</td>\n",
       "      <td>Scrypt</td>\n",
       "      <td>PoW/PoS</td>\n",
       "      <td>1.055185e+09</td>\n",
       "      <td>532000000</td>\n",
       "    </tr>\n",
       "    <tr>\n",
       "      <th>1337</th>\n",
       "      <td>EliteCoin</td>\n",
       "      <td>X13</td>\n",
       "      <td>PoW/PoS</td>\n",
       "      <td>2.927942e+10</td>\n",
       "      <td>314159265359</td>\n",
       "    </tr>\n",
       "    <tr>\n",
       "      <th>BTC</th>\n",
       "      <td>Bitcoin</td>\n",
       "      <td>SHA-256</td>\n",
       "      <td>PoW</td>\n",
       "      <td>1.792718e+07</td>\n",
       "      <td>21000000</td>\n",
       "    </tr>\n",
       "    <tr>\n",
       "      <th>ETH</th>\n",
       "      <td>Ethereum</td>\n",
       "      <td>Ethash</td>\n",
       "      <td>PoW</td>\n",
       "      <td>1.076842e+08</td>\n",
       "      <td>0</td>\n",
       "    </tr>\n",
       "  </tbody>\n",
       "</table>\n",
       "</div>"
      ],
      "text/plain": [
       "       CoinName Algorithm ProofType  TotalCoinsMined TotalCoinSupply\n",
       "42      42 Coin    Scrypt   PoW/PoS     4.199995e+01              42\n",
       "404     404Coin    Scrypt   PoW/PoS     1.055185e+09       532000000\n",
       "1337  EliteCoin       X13   PoW/PoS     2.927942e+10    314159265359\n",
       "BTC     Bitcoin   SHA-256       PoW     1.792718e+07        21000000\n",
       "ETH    Ethereum    Ethash       PoW     1.076842e+08               0"
      ]
     },
     "execution_count": 28,
     "metadata": {},
     "output_type": "execute_result"
    }
   ],
   "source": [
    "# Drop rows where there are 'N/A' text values\n",
    "df_crypto = df_crypto[df_crypto!='N/A']\n",
    "df_crypto.head()"
   ]
  },
  {
   "cell_type": "code",
   "execution_count": 29,
   "metadata": {},
   "outputs": [
    {
     "data": {
      "text/html": [
       "<div>\n",
       "<style scoped>\n",
       "    .dataframe tbody tr th:only-of-type {\n",
       "        vertical-align: middle;\n",
       "    }\n",
       "\n",
       "    .dataframe tbody tr th {\n",
       "        vertical-align: top;\n",
       "    }\n",
       "\n",
       "    .dataframe thead th {\n",
       "        text-align: right;\n",
       "    }\n",
       "</style>\n",
       "<table border=\"1\" class=\"dataframe\">\n",
       "  <thead>\n",
       "    <tr style=\"text-align: right;\">\n",
       "      <th></th>\n",
       "      <th>CoinName</th>\n",
       "    </tr>\n",
       "  </thead>\n",
       "  <tbody>\n",
       "    <tr>\n",
       "      <th>42</th>\n",
       "      <td>42 Coin</td>\n",
       "    </tr>\n",
       "    <tr>\n",
       "      <th>404</th>\n",
       "      <td>404Coin</td>\n",
       "    </tr>\n",
       "    <tr>\n",
       "      <th>1337</th>\n",
       "      <td>EliteCoin</td>\n",
       "    </tr>\n",
       "    <tr>\n",
       "      <th>BTC</th>\n",
       "      <td>Bitcoin</td>\n",
       "    </tr>\n",
       "    <tr>\n",
       "      <th>ETH</th>\n",
       "      <td>Ethereum</td>\n",
       "    </tr>\n",
       "  </tbody>\n",
       "</table>\n",
       "</div>"
      ],
      "text/plain": [
       "       CoinName\n",
       "42      42 Coin\n",
       "404     404Coin\n",
       "1337  EliteCoin\n",
       "BTC     Bitcoin\n",
       "ETH    Ethereum"
      ]
     },
     "execution_count": 29,
     "metadata": {},
     "output_type": "execute_result"
    }
   ],
   "source": [
    "# Store the 'CoinName'column in its own DataFrame prior to dropping it from crypto_df\n",
    "coinName = df_crypto.filter(['CoinName'], axis=1)\n",
    "coinName.head()"
   ]
  },
  {
   "cell_type": "code",
   "execution_count": 30,
   "metadata": {},
   "outputs": [
    {
     "data": {
      "text/html": [
       "<div>\n",
       "<style scoped>\n",
       "    .dataframe tbody tr th:only-of-type {\n",
       "        vertical-align: middle;\n",
       "    }\n",
       "\n",
       "    .dataframe tbody tr th {\n",
       "        vertical-align: top;\n",
       "    }\n",
       "\n",
       "    .dataframe thead th {\n",
       "        text-align: right;\n",
       "    }\n",
       "</style>\n",
       "<table border=\"1\" class=\"dataframe\">\n",
       "  <thead>\n",
       "    <tr style=\"text-align: right;\">\n",
       "      <th></th>\n",
       "      <th>Algorithm</th>\n",
       "      <th>ProofType</th>\n",
       "      <th>TotalCoinsMined</th>\n",
       "      <th>TotalCoinSupply</th>\n",
       "    </tr>\n",
       "  </thead>\n",
       "  <tbody>\n",
       "    <tr>\n",
       "      <th>42</th>\n",
       "      <td>Scrypt</td>\n",
       "      <td>PoW/PoS</td>\n",
       "      <td>4.199995e+01</td>\n",
       "      <td>42</td>\n",
       "    </tr>\n",
       "    <tr>\n",
       "      <th>404</th>\n",
       "      <td>Scrypt</td>\n",
       "      <td>PoW/PoS</td>\n",
       "      <td>1.055185e+09</td>\n",
       "      <td>532000000</td>\n",
       "    </tr>\n",
       "    <tr>\n",
       "      <th>1337</th>\n",
       "      <td>X13</td>\n",
       "      <td>PoW/PoS</td>\n",
       "      <td>2.927942e+10</td>\n",
       "      <td>314159265359</td>\n",
       "    </tr>\n",
       "    <tr>\n",
       "      <th>BTC</th>\n",
       "      <td>SHA-256</td>\n",
       "      <td>PoW</td>\n",
       "      <td>1.792718e+07</td>\n",
       "      <td>21000000</td>\n",
       "    </tr>\n",
       "    <tr>\n",
       "      <th>ETH</th>\n",
       "      <td>Ethash</td>\n",
       "      <td>PoW</td>\n",
       "      <td>1.076842e+08</td>\n",
       "      <td>0</td>\n",
       "    </tr>\n",
       "  </tbody>\n",
       "</table>\n",
       "</div>"
      ],
      "text/plain": [
       "     Algorithm ProofType  TotalCoinsMined TotalCoinSupply\n",
       "42      Scrypt   PoW/PoS     4.199995e+01              42\n",
       "404     Scrypt   PoW/PoS     1.055185e+09       532000000\n",
       "1337       X13   PoW/PoS     2.927942e+10    314159265359\n",
       "BTC    SHA-256       PoW     1.792718e+07        21000000\n",
       "ETH     Ethash       PoW     1.076842e+08               0"
      ]
     },
     "execution_count": 30,
     "metadata": {},
     "output_type": "execute_result"
    }
   ],
   "source": [
    "# Drop the 'CoinName' column since it's not going to be used on the clustering algorithm\n",
    "df_crypto = df_crypto.drop(['CoinName'], axis=1)\n",
    "df_crypto.head()\n"
   ]
  },
  {
   "cell_type": "code",
   "execution_count": 31,
   "metadata": {},
   "outputs": [
    {
     "data": {
      "text/html": [
       "<div>\n",
       "<style scoped>\n",
       "    .dataframe tbody tr th:only-of-type {\n",
       "        vertical-align: middle;\n",
       "    }\n",
       "\n",
       "    .dataframe tbody tr th {\n",
       "        vertical-align: top;\n",
       "    }\n",
       "\n",
       "    .dataframe thead th {\n",
       "        text-align: right;\n",
       "    }\n",
       "</style>\n",
       "<table border=\"1\" class=\"dataframe\">\n",
       "  <thead>\n",
       "    <tr style=\"text-align: right;\">\n",
       "      <th></th>\n",
       "      <th>TotalCoinsMined</th>\n",
       "      <th>TotalCoinSupply</th>\n",
       "      <th>1GB AES Pattern Search</th>\n",
       "      <th>536</th>\n",
       "      <th>Argon2d</th>\n",
       "      <th>BLAKE256</th>\n",
       "      <th>Blake</th>\n",
       "      <th>Blake2S</th>\n",
       "      <th>Blake2b</th>\n",
       "      <th>C11</th>\n",
       "      <th>...</th>\n",
       "      <th>PoW/PoS</th>\n",
       "      <th>PoW/PoS</th>\n",
       "      <th>PoW/PoW</th>\n",
       "      <th>PoW/nPoS</th>\n",
       "      <th>Pos</th>\n",
       "      <th>Proof of Authority</th>\n",
       "      <th>Proof of Trust</th>\n",
       "      <th>TPoS</th>\n",
       "      <th>Zero-Knowledge Proof</th>\n",
       "      <th>dPoW/PoW</th>\n",
       "    </tr>\n",
       "  </thead>\n",
       "  <tbody>\n",
       "    <tr>\n",
       "      <th>42</th>\n",
       "      <td>4.199995e+01</td>\n",
       "      <td>42</td>\n",
       "      <td>0</td>\n",
       "      <td>0</td>\n",
       "      <td>0</td>\n",
       "      <td>0</td>\n",
       "      <td>0</td>\n",
       "      <td>0</td>\n",
       "      <td>0</td>\n",
       "      <td>0</td>\n",
       "      <td>...</td>\n",
       "      <td>1</td>\n",
       "      <td>0</td>\n",
       "      <td>0</td>\n",
       "      <td>0</td>\n",
       "      <td>0</td>\n",
       "      <td>0</td>\n",
       "      <td>0</td>\n",
       "      <td>0</td>\n",
       "      <td>0</td>\n",
       "      <td>0</td>\n",
       "    </tr>\n",
       "    <tr>\n",
       "      <th>404</th>\n",
       "      <td>1.055185e+09</td>\n",
       "      <td>532000000</td>\n",
       "      <td>0</td>\n",
       "      <td>0</td>\n",
       "      <td>0</td>\n",
       "      <td>0</td>\n",
       "      <td>0</td>\n",
       "      <td>0</td>\n",
       "      <td>0</td>\n",
       "      <td>0</td>\n",
       "      <td>...</td>\n",
       "      <td>1</td>\n",
       "      <td>0</td>\n",
       "      <td>0</td>\n",
       "      <td>0</td>\n",
       "      <td>0</td>\n",
       "      <td>0</td>\n",
       "      <td>0</td>\n",
       "      <td>0</td>\n",
       "      <td>0</td>\n",
       "      <td>0</td>\n",
       "    </tr>\n",
       "    <tr>\n",
       "      <th>1337</th>\n",
       "      <td>2.927942e+10</td>\n",
       "      <td>314159265359</td>\n",
       "      <td>0</td>\n",
       "      <td>0</td>\n",
       "      <td>0</td>\n",
       "      <td>0</td>\n",
       "      <td>0</td>\n",
       "      <td>0</td>\n",
       "      <td>0</td>\n",
       "      <td>0</td>\n",
       "      <td>...</td>\n",
       "      <td>1</td>\n",
       "      <td>0</td>\n",
       "      <td>0</td>\n",
       "      <td>0</td>\n",
       "      <td>0</td>\n",
       "      <td>0</td>\n",
       "      <td>0</td>\n",
       "      <td>0</td>\n",
       "      <td>0</td>\n",
       "      <td>0</td>\n",
       "    </tr>\n",
       "    <tr>\n",
       "      <th>BTC</th>\n",
       "      <td>1.792718e+07</td>\n",
       "      <td>21000000</td>\n",
       "      <td>0</td>\n",
       "      <td>0</td>\n",
       "      <td>0</td>\n",
       "      <td>0</td>\n",
       "      <td>0</td>\n",
       "      <td>0</td>\n",
       "      <td>0</td>\n",
       "      <td>0</td>\n",
       "      <td>...</td>\n",
       "      <td>0</td>\n",
       "      <td>0</td>\n",
       "      <td>0</td>\n",
       "      <td>0</td>\n",
       "      <td>0</td>\n",
       "      <td>0</td>\n",
       "      <td>0</td>\n",
       "      <td>0</td>\n",
       "      <td>0</td>\n",
       "      <td>0</td>\n",
       "    </tr>\n",
       "    <tr>\n",
       "      <th>ETH</th>\n",
       "      <td>1.076842e+08</td>\n",
       "      <td>0</td>\n",
       "      <td>0</td>\n",
       "      <td>0</td>\n",
       "      <td>0</td>\n",
       "      <td>0</td>\n",
       "      <td>0</td>\n",
       "      <td>0</td>\n",
       "      <td>0</td>\n",
       "      <td>0</td>\n",
       "      <td>...</td>\n",
       "      <td>0</td>\n",
       "      <td>0</td>\n",
       "      <td>0</td>\n",
       "      <td>0</td>\n",
       "      <td>0</td>\n",
       "      <td>0</td>\n",
       "      <td>0</td>\n",
       "      <td>0</td>\n",
       "      <td>0</td>\n",
       "      <td>0</td>\n",
       "    </tr>\n",
       "  </tbody>\n",
       "</table>\n",
       "<p>5 rows × 98 columns</p>\n",
       "</div>"
      ],
      "text/plain": [
       "      TotalCoinsMined TotalCoinSupply  1GB AES Pattern Search  536  Argon2d  \\\n",
       "42       4.199995e+01              42                       0    0        0   \n",
       "404      1.055185e+09       532000000                       0    0        0   \n",
       "1337     2.927942e+10    314159265359                       0    0        0   \n",
       "BTC      1.792718e+07        21000000                       0    0        0   \n",
       "ETH      1.076842e+08               0                       0    0        0   \n",
       "\n",
       "      BLAKE256  Blake  Blake2S  Blake2b  C11  ...  PoW/PoS  PoW/PoS   PoW/PoW  \\\n",
       "42           0      0        0        0    0  ...        1         0        0   \n",
       "404          0      0        0        0    0  ...        1         0        0   \n",
       "1337         0      0        0        0    0  ...        1         0        0   \n",
       "BTC          0      0        0        0    0  ...        0         0        0   \n",
       "ETH          0      0        0        0    0  ...        0         0        0   \n",
       "\n",
       "      PoW/nPoS  Pos  Proof of Authority  Proof of Trust  TPoS  \\\n",
       "42           0    0                   0               0     0   \n",
       "404          0    0                   0               0     0   \n",
       "1337         0    0                   0               0     0   \n",
       "BTC          0    0                   0               0     0   \n",
       "ETH          0    0                   0               0     0   \n",
       "\n",
       "      Zero-Knowledge Proof  dPoW/PoW  \n",
       "42                       0         0  \n",
       "404                      0         0  \n",
       "1337                     0         0  \n",
       "BTC                      0         0  \n",
       "ETH                      0         0  \n",
       "\n",
       "[5 rows x 98 columns]"
      ]
     },
     "execution_count": 31,
     "metadata": {},
     "output_type": "execute_result"
    }
   ],
   "source": [
    "# Create dummy variables for text features\n",
    "crypto = pd.get_dummies(df_crypto['Algorithm'])\n",
    "dummy = pd.get_dummies(df_crypto['ProofType'])\n",
    "combined = pd.concat([crypto, dummy], axis=1)\n",
    "df = df_crypto.merge(combined, left_index=True, right_index=True)\n",
    "df = df.drop(['Algorithm', 'ProofType'], axis=1)\n",
    "df.head()\n"
   ]
  },
  {
   "cell_type": "code",
   "execution_count": 32,
   "metadata": {},
   "outputs": [],
   "source": [
    "# Standardize data\n",
    "df_scaled = StandardScaler().fit_transform(df)\n",
    "# print(df_scaled)\n"
   ]
  },
  {
   "cell_type": "markdown",
   "metadata": {},
   "source": [
    "### Reducing Dimensions Using PCA"
   ]
  },
  {
   "cell_type": "code",
   "execution_count": 33,
   "metadata": {},
   "outputs": [
    {
     "data": {
      "text/plain": [
       "array([[-0.33104148,  0.93570102, -0.58573496],\n",
       "       [-0.31439083,  0.93632938, -0.58602555],\n",
       "       [ 2.29447393,  1.70275584, -0.67142676],\n",
       "       ...,\n",
       "       [ 0.32123255, -2.28038357,  0.41920867],\n",
       "       [-0.15329326, -1.8994442 ,  0.41318124],\n",
       "       [-0.28561044,  0.8414177 , -0.26488698]])"
      ]
     },
     "execution_count": 33,
     "metadata": {},
     "output_type": "execute_result"
    }
   ],
   "source": [
    "# Use PCA to reduce dimensions to 3 principal components\n",
    "pca = PCA(n_components=3)\n",
    "df_pca = pca.fit_transform(df_scaled)\n",
    "df_pca\n"
   ]
  },
  {
   "cell_type": "code",
   "execution_count": 34,
   "metadata": {},
   "outputs": [
    {
     "data": {
      "text/html": [
       "<div>\n",
       "<style scoped>\n",
       "    .dataframe tbody tr th:only-of-type {\n",
       "        vertical-align: middle;\n",
       "    }\n",
       "\n",
       "    .dataframe tbody tr th {\n",
       "        vertical-align: top;\n",
       "    }\n",
       "\n",
       "    .dataframe thead th {\n",
       "        text-align: right;\n",
       "    }\n",
       "</style>\n",
       "<table border=\"1\" class=\"dataframe\">\n",
       "  <thead>\n",
       "    <tr style=\"text-align: right;\">\n",
       "      <th></th>\n",
       "      <th>PC1</th>\n",
       "      <th>PC2</th>\n",
       "      <th>PC3</th>\n",
       "    </tr>\n",
       "  </thead>\n",
       "  <tbody>\n",
       "    <tr>\n",
       "      <th>42</th>\n",
       "      <td>-0.331041</td>\n",
       "      <td>0.935701</td>\n",
       "      <td>-0.585735</td>\n",
       "    </tr>\n",
       "    <tr>\n",
       "      <th>404</th>\n",
       "      <td>-0.314391</td>\n",
       "      <td>0.936329</td>\n",
       "      <td>-0.586026</td>\n",
       "    </tr>\n",
       "    <tr>\n",
       "      <th>1337</th>\n",
       "      <td>2.294474</td>\n",
       "      <td>1.702756</td>\n",
       "      <td>-0.671427</td>\n",
       "    </tr>\n",
       "    <tr>\n",
       "      <th>BTC</th>\n",
       "      <td>-0.152382</td>\n",
       "      <td>-1.293933</td>\n",
       "      <td>0.204551</td>\n",
       "    </tr>\n",
       "    <tr>\n",
       "      <th>ETH</th>\n",
       "      <td>-0.159560</td>\n",
       "      <td>-1.957341</td>\n",
       "      <td>0.403593</td>\n",
       "    </tr>\n",
       "    <tr>\n",
       "      <th>...</th>\n",
       "      <td>...</td>\n",
       "      <td>...</td>\n",
       "      <td>...</td>\n",
       "    </tr>\n",
       "    <tr>\n",
       "      <th>ZEPH</th>\n",
       "      <td>2.474360</td>\n",
       "      <td>0.491837</td>\n",
       "      <td>0.066039</td>\n",
       "    </tr>\n",
       "    <tr>\n",
       "      <th>GAP</th>\n",
       "      <td>-0.329088</td>\n",
       "      <td>0.935647</td>\n",
       "      <td>-0.585754</td>\n",
       "    </tr>\n",
       "    <tr>\n",
       "      <th>BDX</th>\n",
       "      <td>0.321233</td>\n",
       "      <td>-2.280384</td>\n",
       "      <td>0.419209</td>\n",
       "    </tr>\n",
       "    <tr>\n",
       "      <th>ZEN</th>\n",
       "      <td>-0.153293</td>\n",
       "      <td>-1.899444</td>\n",
       "      <td>0.413181</td>\n",
       "    </tr>\n",
       "    <tr>\n",
       "      <th>XBC</th>\n",
       "      <td>-0.285610</td>\n",
       "      <td>0.841418</td>\n",
       "      <td>-0.264887</td>\n",
       "    </tr>\n",
       "  </tbody>\n",
       "</table>\n",
       "<p>532 rows × 3 columns</p>\n",
       "</div>"
      ],
      "text/plain": [
       "           PC1       PC2       PC3\n",
       "42   -0.331041  0.935701 -0.585735\n",
       "404  -0.314391  0.936329 -0.586026\n",
       "1337  2.294474  1.702756 -0.671427\n",
       "BTC  -0.152382 -1.293933  0.204551\n",
       "ETH  -0.159560 -1.957341  0.403593\n",
       "...        ...       ...       ...\n",
       "ZEPH  2.474360  0.491837  0.066039\n",
       "GAP  -0.329088  0.935647 -0.585754\n",
       "BDX   0.321233 -2.280384  0.419209\n",
       "ZEN  -0.153293 -1.899444  0.413181\n",
       "XBC  -0.285610  0.841418 -0.264887\n",
       "\n",
       "[532 rows x 3 columns]"
      ]
     },
     "execution_count": 34,
     "metadata": {},
     "output_type": "execute_result"
    }
   ],
   "source": [
    "# Create a DataFrame with the principal components data\n",
    "pcs_df = pd.DataFrame(data=df_pca, columns=['PC1', 'PC2', 'PC3'], index=df_crypto.index)\n",
    "pcs_df"
   ]
  },
  {
   "cell_type": "markdown",
   "metadata": {},
   "source": [
    "### Clustering Crytocurrencies Using K-Means\n",
    "\n",
    "#### Find the Best Value for `k` Using the Elbow Curve"
   ]
  },
  {
   "cell_type": "code",
   "execution_count": 35,
   "metadata": {},
   "outputs": [
    {
     "data": {},
     "metadata": {},
     "output_type": "display_data"
    },
    {
     "data": {
      "application/vnd.holoviews_exec.v0+json": "",
      "text/html": [
       "<div id='1002'>\n",
       "\n",
       "\n",
       "\n",
       "\n",
       "\n",
       "  <div class=\"bk-root\" id=\"f9b978d1-91f3-4d2f-a75d-5cbb4ab38c45\" data-root-id=\"1002\"></div>\n",
       "</div>\n",
       "<script type=\"application/javascript\">(function(root) {\n",
       "  function embed_document(root) {\n",
       "    var docs_json = {\"735d1803-43f1-4982-ba79-2287bac52f10\":{\"defs\":[{\"extends\":null,\"module\":null,\"name\":\"ReactiveHTML1\",\"overrides\":[],\"properties\":[]},{\"extends\":null,\"module\":null,\"name\":\"FlexBox1\",\"overrides\":[],\"properties\":[{\"default\":\"flex-start\",\"kind\":null,\"name\":\"align_content\"},{\"default\":\"flex-start\",\"kind\":null,\"name\":\"align_items\"},{\"default\":\"row\",\"kind\":null,\"name\":\"flex_direction\"},{\"default\":\"wrap\",\"kind\":null,\"name\":\"flex_wrap\"},{\"default\":\"flex-start\",\"kind\":null,\"name\":\"justify_content\"}]},{\"extends\":null,\"module\":null,\"name\":\"TemplateActions1\",\"overrides\":[],\"properties\":[{\"default\":0,\"kind\":null,\"name\":\"open_modal\"},{\"default\":0,\"kind\":null,\"name\":\"close_modal\"}]},{\"extends\":null,\"module\":null,\"name\":\"MaterialTemplateActions1\",\"overrides\":[],\"properties\":[{\"default\":0,\"kind\":null,\"name\":\"open_modal\"},{\"default\":0,\"kind\":null,\"name\":\"close_modal\"}]}],\"roots\":{\"references\":[{\"attributes\":{\"axis\":{\"id\":\"1020\"},\"coordinates\":null,\"dimension\":1,\"grid_line_color\":null,\"group\":null,\"ticker\":null},\"id\":\"1023\",\"type\":\"Grid\"},{\"attributes\":{},\"id\":\"1025\",\"type\":\"PanTool\"},{\"attributes\":{\"source\":{\"id\":\"1037\"}},\"id\":\"1044\",\"type\":\"CDSView\"},{\"attributes\":{\"axis_label\":\"inertia\",\"coordinates\":null,\"formatter\":{\"id\":\"1053\"},\"group\":null,\"major_label_policy\":{\"id\":\"1054\"},\"ticker\":{\"id\":\"1021\"}},\"id\":\"1020\",\"type\":\"LinearAxis\"},{\"attributes\":{\"line_color\":\"#30a2da\",\"line_width\":2,\"x\":{\"field\":\"k\"},\"y\":{\"field\":\"inertia\"}},\"id\":\"1045\",\"type\":\"Line\"},{\"attributes\":{},\"id\":\"1021\",\"type\":\"BasicTicker\"},{\"attributes\":{\"coordinates\":null,\"data_source\":{\"id\":\"1037\"},\"glyph\":{\"id\":\"1040\"},\"group\":null,\"hover_glyph\":null,\"muted_glyph\":{\"id\":\"1042\"},\"nonselection_glyph\":{\"id\":\"1041\"},\"selection_glyph\":{\"id\":\"1045\"},\"view\":{\"id\":\"1044\"}},\"id\":\"1043\",\"type\":\"GlyphRenderer\"},{\"attributes\":{},\"id\":\"1026\",\"type\":\"WheelZoomTool\"},{\"attributes\":{\"line_alpha\":0.2,\"line_color\":\"#30a2da\",\"line_width\":2,\"x\":{\"field\":\"k\"},\"y\":{\"field\":\"inertia\"}},\"id\":\"1042\",\"type\":\"Line\"},{\"attributes\":{\"children\":[{\"id\":\"1003\"},{\"id\":\"1007\"},{\"id\":\"1073\"}],\"margin\":[0,0,0,0],\"name\":\"Row01627\",\"tags\":[\"embedded\"]},\"id\":\"1002\",\"type\":\"Row\"},{\"attributes\":{\"end\":10.0,\"reset_end\":10.0,\"reset_start\":1.0,\"start\":1.0,\"tags\":[[[\"k\",\"k\",null]]]},\"id\":\"1004\",\"type\":\"Range1d\"},{\"attributes\":{},\"id\":\"1024\",\"type\":\"SaveTool\"},{\"attributes\":{\"overlay\":{\"id\":\"1029\"}},\"id\":\"1027\",\"type\":\"BoxZoomTool\"},{\"attributes\":{},\"id\":\"1028\",\"type\":\"ResetTool\"},{\"attributes\":{},\"id\":\"1048\",\"type\":\"BasicTickFormatter\"},{\"attributes\":{\"bottom_units\":\"screen\",\"coordinates\":null,\"fill_alpha\":0.5,\"fill_color\":\"lightgrey\",\"group\":null,\"left_units\":\"screen\",\"level\":\"overlay\",\"line_alpha\":1.0,\"line_color\":\"black\",\"line_dash\":[4,4],\"line_width\":2,\"right_units\":\"screen\",\"syncable\":false,\"top_units\":\"screen\"},\"id\":\"1029\",\"type\":\"BoxAnnotation\"},{\"attributes\":{\"callback\":null,\"renderers\":[{\"id\":\"1043\"}],\"tags\":[\"hv_created\"],\"tooltips\":[[\"k\",\"@{k}\"],[\"inertia\",\"@{inertia}\"]]},\"id\":\"1006\",\"type\":\"HoverTool\"},{\"attributes\":{\"axis_label\":\"k\",\"coordinates\":null,\"formatter\":{\"id\":\"1048\"},\"group\":null,\"major_label_policy\":{\"id\":\"1049\"},\"ticker\":{\"id\":\"1046\"}},\"id\":\"1016\",\"type\":\"LinearAxis\"},{\"attributes\":{\"margin\":[5,5,5,5],\"name\":\"HSpacer01631\",\"sizing_mode\":\"stretch_width\"},\"id\":\"1003\",\"type\":\"Spacer\"},{\"attributes\":{\"tools\":[{\"id\":\"1006\"},{\"id\":\"1024\"},{\"id\":\"1025\"},{\"id\":\"1026\"},{\"id\":\"1027\"},{\"id\":\"1028\"}]},\"id\":\"1030\",\"type\":\"Toolbar\"},{\"attributes\":{\"axis\":{\"id\":\"1016\"},\"coordinates\":null,\"grid_line_color\":null,\"group\":null,\"ticker\":null},\"id\":\"1019\",\"type\":\"Grid\"},{\"attributes\":{},\"id\":\"1049\",\"type\":\"AllLabels\"},{\"attributes\":{\"ticks\":[1,2,3,4,5,6,7,8,9,10]},\"id\":\"1046\",\"type\":\"FixedTicker\"},{\"attributes\":{\"data\":{\"inertia\":{\"__ndarray__\":\"wuJrJn1trEAeR0jpsGWkQCgJ7Sz/kJZACKzWm1XsfEAYcujmMjFwQCF2lUTqZ2lAHs7/6zq9Y0DHe8b5fR1fQJj0qGRNGVlA1HO/OOvwVEA=\",\"dtype\":\"float64\",\"order\":\"little\",\"shape\":[10]},\"k\":[1,2,3,4,5,6,7,8,9,10]},\"selected\":{\"id\":\"1038\"},\"selection_policy\":{\"id\":\"1061\"}},\"id\":\"1037\",\"type\":\"ColumnDataSource\"},{\"attributes\":{\"margin\":[5,5,5,5],\"name\":\"HSpacer01632\",\"sizing_mode\":\"stretch_width\"},\"id\":\"1073\",\"type\":\"Spacer\"},{\"attributes\":{\"end\":3994.2424414538164,\"reset_end\":3994.2424414538164,\"reset_start\":-271.7336509051144,\"start\":-271.7336509051144,\"tags\":[[[\"inertia\",\"inertia\",null]]]},\"id\":\"1005\",\"type\":\"Range1d\"},{\"attributes\":{\"line_color\":\"#30a2da\",\"line_width\":2,\"x\":{\"field\":\"k\"},\"y\":{\"field\":\"inertia\"}},\"id\":\"1040\",\"type\":\"Line\"},{\"attributes\":{\"below\":[{\"id\":\"1016\"}],\"center\":[{\"id\":\"1019\"},{\"id\":\"1023\"}],\"height\":300,\"left\":[{\"id\":\"1020\"}],\"margin\":[5,5,5,5],\"min_border_bottom\":10,\"min_border_left\":10,\"min_border_right\":10,\"min_border_top\":10,\"renderers\":[{\"id\":\"1043\"}],\"sizing_mode\":\"fixed\",\"title\":{\"id\":\"1008\"},\"toolbar\":{\"id\":\"1030\"},\"width\":700,\"x_range\":{\"id\":\"1004\"},\"x_scale\":{\"id\":\"1012\"},\"y_range\":{\"id\":\"1005\"},\"y_scale\":{\"id\":\"1014\"}},\"id\":\"1007\",\"subtype\":\"Figure\",\"type\":\"Plot\"},{\"attributes\":{\"line_alpha\":0.1,\"line_color\":\"#30a2da\",\"line_width\":2,\"x\":{\"field\":\"k\"},\"y\":{\"field\":\"inertia\"}},\"id\":\"1041\",\"type\":\"Line\"},{\"attributes\":{},\"id\":\"1061\",\"type\":\"UnionRenderers\"},{\"attributes\":{},\"id\":\"1014\",\"type\":\"LinearScale\"},{\"attributes\":{},\"id\":\"1054\",\"type\":\"AllLabels\"},{\"attributes\":{},\"id\":\"1012\",\"type\":\"LinearScale\"},{\"attributes\":{},\"id\":\"1038\",\"type\":\"Selection\"},{\"attributes\":{\"coordinates\":null,\"group\":null,\"text\":\"Elbow Curve\",\"text_color\":\"black\",\"text_font_size\":\"12pt\"},\"id\":\"1008\",\"type\":\"Title\"},{\"attributes\":{},\"id\":\"1053\",\"type\":\"BasicTickFormatter\"}],\"root_ids\":[\"1002\"]},\"title\":\"Bokeh Application\",\"version\":\"2.4.2\"}};\n",
       "    var render_items = [{\"docid\":\"735d1803-43f1-4982-ba79-2287bac52f10\",\"root_ids\":[\"1002\"],\"roots\":{\"1002\":\"f9b978d1-91f3-4d2f-a75d-5cbb4ab38c45\"}}];\n",
       "    root.Bokeh.embed.embed_items_notebook(docs_json, render_items);\n",
       "  }\n",
       "  if (root.Bokeh !== undefined && root.Bokeh.Panel !== undefined) {\n",
       "    embed_document(root);\n",
       "  } else {\n",
       "    var attempts = 0;\n",
       "    var timer = setInterval(function(root) {\n",
       "      if (root.Bokeh !== undefined && root.Bokeh.Panel !== undefined) {\n",
       "        clearInterval(timer);\n",
       "        embed_document(root);\n",
       "      } else if (document.readyState == \"complete\") {\n",
       "        attempts++;\n",
       "        if (attempts > 200) {\n",
       "          clearInterval(timer);\n",
       "          console.log(\"Bokeh: ERROR: Unable to run BokehJS code because BokehJS library is missing\");\n",
       "        }\n",
       "      }\n",
       "    }, 25, root)\n",
       "  }\n",
       "})(window);</script>"
      ],
      "text/plain": [
       ":Curve   [k]   (inertia)"
      ]
     },
     "execution_count": 35,
     "metadata": {
      "application/vnd.holoviews_exec.v0+json": {
       "id": "1002"
      }
     },
     "output_type": "execute_result"
    }
   ],
   "source": [
    "inertia = []\n",
    "k = list(range(1, 11))\n",
    "\n",
    "# Calculate the inertia for the range of k values\n",
    "for i in k:\n",
    "    km = KMeans(n_clusters=i, random_state=0)\n",
    "    km.fit(pcs_df)\n",
    "    inertia.append(km.inertia_)\n",
    "\n",
    "# Create the Elbow Curve using hvPlot\n",
    "elbow_data = {\"k\":k,\"inertia\":inertia}\n",
    "elbow = pd.DataFrame(elbow_data)\n",
    "elbow.hvplot.line(x=\"k\",y=\"inertia\",xticks=k,title=\"Elbow Curve\")"
   ]
  },
  {
   "cell_type": "markdown",
   "metadata": {},
   "source": [
    "Running K-Means with `k=<your best value for k here>`"
   ]
  },
  {
   "cell_type": "code",
   "execution_count": 36,
   "metadata": {},
   "outputs": [
    {
     "name": "stdout",
     "output_type": "stream",
     "text": [
      "(532, 9)\n"
     ]
    },
    {
     "data": {
      "text/html": [
       "<div>\n",
       "<style scoped>\n",
       "    .dataframe tbody tr th:only-of-type {\n",
       "        vertical-align: middle;\n",
       "    }\n",
       "\n",
       "    .dataframe tbody tr th {\n",
       "        vertical-align: top;\n",
       "    }\n",
       "\n",
       "    .dataframe thead th {\n",
       "        text-align: right;\n",
       "    }\n",
       "</style>\n",
       "<table border=\"1\" class=\"dataframe\">\n",
       "  <thead>\n",
       "    <tr style=\"text-align: right;\">\n",
       "      <th></th>\n",
       "      <th>Algorithm</th>\n",
       "      <th>ProofType</th>\n",
       "      <th>TotalCoinsMined</th>\n",
       "      <th>TotalCoinSupply</th>\n",
       "      <th>PC1</th>\n",
       "      <th>PC2</th>\n",
       "      <th>PC3</th>\n",
       "      <th>CoinName</th>\n",
       "      <th>Class</th>\n",
       "    </tr>\n",
       "  </thead>\n",
       "  <tbody>\n",
       "    <tr>\n",
       "      <th>42</th>\n",
       "      <td>Scrypt</td>\n",
       "      <td>PoW/PoS</td>\n",
       "      <td>4.199995e+01</td>\n",
       "      <td>42</td>\n",
       "      <td>-0.331041</td>\n",
       "      <td>0.935701</td>\n",
       "      <td>-0.585735</td>\n",
       "      <td>42 Coin</td>\n",
       "      <td>3</td>\n",
       "    </tr>\n",
       "    <tr>\n",
       "      <th>404</th>\n",
       "      <td>Scrypt</td>\n",
       "      <td>PoW/PoS</td>\n",
       "      <td>1.055185e+09</td>\n",
       "      <td>532000000</td>\n",
       "      <td>-0.314391</td>\n",
       "      <td>0.936329</td>\n",
       "      <td>-0.586026</td>\n",
       "      <td>404Coin</td>\n",
       "      <td>3</td>\n",
       "    </tr>\n",
       "    <tr>\n",
       "      <th>1337</th>\n",
       "      <td>X13</td>\n",
       "      <td>PoW/PoS</td>\n",
       "      <td>2.927942e+10</td>\n",
       "      <td>314159265359</td>\n",
       "      <td>2.294474</td>\n",
       "      <td>1.702756</td>\n",
       "      <td>-0.671427</td>\n",
       "      <td>EliteCoin</td>\n",
       "      <td>3</td>\n",
       "    </tr>\n",
       "    <tr>\n",
       "      <th>BTC</th>\n",
       "      <td>SHA-256</td>\n",
       "      <td>PoW</td>\n",
       "      <td>1.792718e+07</td>\n",
       "      <td>21000000</td>\n",
       "      <td>-0.152382</td>\n",
       "      <td>-1.293933</td>\n",
       "      <td>0.204551</td>\n",
       "      <td>Bitcoin</td>\n",
       "      <td>0</td>\n",
       "    </tr>\n",
       "    <tr>\n",
       "      <th>ETH</th>\n",
       "      <td>Ethash</td>\n",
       "      <td>PoW</td>\n",
       "      <td>1.076842e+08</td>\n",
       "      <td>0</td>\n",
       "      <td>-0.159560</td>\n",
       "      <td>-1.957341</td>\n",
       "      <td>0.403593</td>\n",
       "      <td>Ethereum</td>\n",
       "      <td>0</td>\n",
       "    </tr>\n",
       "    <tr>\n",
       "      <th>LTC</th>\n",
       "      <td>Scrypt</td>\n",
       "      <td>PoW</td>\n",
       "      <td>6.303924e+07</td>\n",
       "      <td>84000000</td>\n",
       "      <td>-0.161216</td>\n",
       "      <td>-1.187782</td>\n",
       "      <td>-0.032735</td>\n",
       "      <td>Litecoin</td>\n",
       "      <td>0</td>\n",
       "    </tr>\n",
       "    <tr>\n",
       "      <th>DASH</th>\n",
       "      <td>X11</td>\n",
       "      <td>PoW/PoS</td>\n",
       "      <td>9.031294e+06</td>\n",
       "      <td>22000000</td>\n",
       "      <td>-0.391807</td>\n",
       "      <td>1.212097</td>\n",
       "      <td>-0.479576</td>\n",
       "      <td>Dash</td>\n",
       "      <td>3</td>\n",
       "    </tr>\n",
       "    <tr>\n",
       "      <th>XMR</th>\n",
       "      <td>CryptoNight-V7</td>\n",
       "      <td>PoW</td>\n",
       "      <td>1.720114e+07</td>\n",
       "      <td>0</td>\n",
       "      <td>-0.150076</td>\n",
       "      <td>-2.180496</td>\n",
       "      <td>0.350764</td>\n",
       "      <td>Monero</td>\n",
       "      <td>0</td>\n",
       "    </tr>\n",
       "    <tr>\n",
       "      <th>ETC</th>\n",
       "      <td>Ethash</td>\n",
       "      <td>PoW</td>\n",
       "      <td>1.133597e+08</td>\n",
       "      <td>210000000</td>\n",
       "      <td>-0.158003</td>\n",
       "      <td>-1.957391</td>\n",
       "      <td>0.403579</td>\n",
       "      <td>Ethereum Classic</td>\n",
       "      <td>0</td>\n",
       "    </tr>\n",
       "    <tr>\n",
       "      <th>ZEC</th>\n",
       "      <td>Equihash</td>\n",
       "      <td>PoW</td>\n",
       "      <td>7.383056e+06</td>\n",
       "      <td>21000000</td>\n",
       "      <td>-0.153292</td>\n",
       "      <td>-1.899444</td>\n",
       "      <td>0.413181</td>\n",
       "      <td>ZCash</td>\n",
       "      <td>0</td>\n",
       "    </tr>\n",
       "  </tbody>\n",
       "</table>\n",
       "</div>"
      ],
      "text/plain": [
       "           Algorithm ProofType  TotalCoinsMined TotalCoinSupply       PC1  \\\n",
       "42            Scrypt   PoW/PoS     4.199995e+01              42 -0.331041   \n",
       "404           Scrypt   PoW/PoS     1.055185e+09       532000000 -0.314391   \n",
       "1337             X13   PoW/PoS     2.927942e+10    314159265359  2.294474   \n",
       "BTC          SHA-256       PoW     1.792718e+07        21000000 -0.152382   \n",
       "ETH           Ethash       PoW     1.076842e+08               0 -0.159560   \n",
       "LTC           Scrypt       PoW     6.303924e+07        84000000 -0.161216   \n",
       "DASH             X11   PoW/PoS     9.031294e+06        22000000 -0.391807   \n",
       "XMR   CryptoNight-V7       PoW     1.720114e+07               0 -0.150076   \n",
       "ETC           Ethash       PoW     1.133597e+08       210000000 -0.158003   \n",
       "ZEC         Equihash       PoW     7.383056e+06        21000000 -0.153292   \n",
       "\n",
       "           PC2       PC3          CoinName  Class  \n",
       "42    0.935701 -0.585735           42 Coin      3  \n",
       "404   0.936329 -0.586026           404Coin      3  \n",
       "1337  1.702756 -0.671427         EliteCoin      3  \n",
       "BTC  -1.293933  0.204551           Bitcoin      0  \n",
       "ETH  -1.957341  0.403593          Ethereum      0  \n",
       "LTC  -1.187782 -0.032735          Litecoin      0  \n",
       "DASH  1.212097 -0.479576              Dash      3  \n",
       "XMR  -2.180496  0.350764            Monero      0  \n",
       "ETC  -1.957391  0.403579  Ethereum Classic      0  \n",
       "ZEC  -1.899444  0.413181             ZCash      0  "
      ]
     },
     "execution_count": 36,
     "metadata": {},
     "output_type": "execute_result"
    }
   ],
   "source": [
    "# Initialize the K-Means model\n",
    "kmeans = KMeans(n_clusters=4, random_state=0)\n",
    "# Fit the model\n",
    "kmeans.fit(pcs_df)\n",
    "# Predict clusters\n",
    "pred = kmeans.predict(pcs_df)\n",
    "# Create a new DataFrame including predicted clusters and cryptocurrencies features\n",
    "clustered_df = pd.concat([df_crypto,pcs_df],axis =1)\n",
    "clustered_df['CoinName'] = coinName['CoinName']\n",
    "clustered_df[\"Class\"] = kmeans.labels_\n",
    "print(clustered_df.shape)\n",
    "clustered_df.head(10)\n"
   ]
  },
  {
   "cell_type": "markdown",
   "metadata": {},
   "source": [
    "### Visualizing Results"
   ]
  },
  {
   "cell_type": "markdown",
   "metadata": {},
   "source": [
    "#### Scatter Plot with Tradable Cryptocurrencies"
   ]
  },
  {
   "cell_type": "code",
   "execution_count": 37,
   "metadata": {},
   "outputs": [
    {
     "data": {
      "application/vnd.plotly.v1+json": {
       "config": {
        "plotlyServerURL": "https://plot.ly"
       },
       "data": [
        {
         "customdata": [
          [
           "Scrypt"
          ],
          [
           "Scrypt"
          ],
          [
           "X13"
          ],
          [
           "X11"
          ],
          [
           "SHA-512"
          ],
          [
           "SHA-256"
          ],
          [
           "SHA-256"
          ],
          [
           "X15"
          ],
          [
           "Scrypt"
          ],
          [
           "Scrypt"
          ],
          [
           "Scrypt"
          ],
          [
           "Scrypt"
          ],
          [
           "Scrypt"
          ],
          [
           "Scrypt"
          ],
          [
           "Groestl"
          ],
          [
           "PoS"
          ],
          [
           "Scrypt"
          ],
          [
           "Scrypt"
          ],
          [
           "X11"
          ],
          [
           "X11"
          ],
          [
           "SHA3"
          ],
          [
           "Scrypt"
          ],
          [
           "SHA-256"
          ],
          [
           "Scrypt"
          ],
          [
           "X13"
          ],
          [
           "X13"
          ],
          [
           "NeoScrypt"
          ],
          [
           "Scrypt"
          ],
          [
           "Scrypt"
          ],
          [
           "Scrypt"
          ],
          [
           "X11"
          ],
          [
           "X11"
          ],
          [
           "Multiple"
          ],
          [
           "PHI1612"
          ],
          [
           "X11"
          ],
          [
           "Scrypt"
          ],
          [
           "Scrypt"
          ],
          [
           "Scrypt"
          ],
          [
           "X11"
          ],
          [
           "Multiple"
          ],
          [
           "X13"
          ],
          [
           "Scrypt"
          ],
          [
           "Shabal256"
          ],
          [
           "Counterparty"
          ],
          [
           "SHA-256"
          ],
          [
           "Groestl"
          ],
          [
           "Scrypt"
          ],
          [
           "X13"
          ],
          [
           "Scrypt"
          ],
          [
           "Scrypt"
          ],
          [
           "X13"
          ],
          [
           "X11"
          ],
          [
           "Scrypt"
          ],
          [
           "X11"
          ],
          [
           "SHA3"
          ],
          [
           "QUAIT"
          ],
          [
           "X11"
          ],
          [
           "Scrypt"
          ],
          [
           "X13"
          ],
          [
           "SHA-256"
          ],
          [
           "X15"
          ],
          [
           "BLAKE256"
          ],
          [
           "SHA-256"
          ],
          [
           "X11"
          ],
          [
           "SHA-256"
          ],
          [
           "NIST5"
          ],
          [
           "Scrypt"
          ],
          [
           "Scrypt"
          ],
          [
           "X11"
          ],
          [
           "Scrypt"
          ],
          [
           "SHA-256"
          ],
          [
           "Scrypt"
          ],
          [
           "PoS"
          ],
          [
           "X11"
          ],
          [
           "SHA-256"
          ],
          [
           "SHA-256"
          ],
          [
           "NIST5"
          ],
          [
           "X11"
          ],
          [
           "POS 3.0"
          ],
          [
           "Scrypt"
          ],
          [
           "Scrypt"
          ],
          [
           "Scrypt"
          ],
          [
           "X13"
          ],
          [
           "X11"
          ],
          [
           "X11"
          ],
          [
           "Scrypt"
          ],
          [
           "SHA-256"
          ],
          [
           "X11"
          ],
          [
           "Scrypt"
          ],
          [
           "Scrypt"
          ],
          [
           "Scrypt"
          ],
          [
           "Scrypt"
          ],
          [
           "SHA-256D"
          ],
          [
           "PoS"
          ],
          [
           "Scrypt"
          ],
          [
           "X11"
          ],
          [
           "PoS"
          ],
          [
           "X13"
          ],
          [
           "X14"
          ],
          [
           "PoS"
          ],
          [
           "SHA-256D"
          ],
          [
           "DPoS"
          ],
          [
           "X11"
          ],
          [
           "X13"
          ],
          [
           "X11"
          ],
          [
           "PoS"
          ],
          [
           "Scrypt"
          ],
          [
           "Scrypt"
          ],
          [
           "PoS"
          ],
          [
           "X11"
          ],
          [
           "SHA-256"
          ],
          [
           "Scrypt"
          ],
          [
           "X11"
          ],
          [
           "Scrypt"
          ],
          [
           "Scrypt"
          ],
          [
           "X11"
          ],
          [
           "Scrypt"
          ],
          [
           "Scrypt"
          ],
          [
           "Scrypt"
          ],
          [
           "Scrypt"
          ],
          [
           "Quark"
          ],
          [
           "QuBit"
          ],
          [
           "Scrypt"
          ],
          [
           "SHA-256"
          ],
          [
           "X11"
          ],
          [
           "Scrypt"
          ],
          [
           "Scrypt"
          ],
          [
           "Scrypt"
          ],
          [
           "Scrypt"
          ],
          [
           "X13"
          ],
          [
           "Scrypt"
          ],
          [
           "Scrypt"
          ],
          [
           "X11"
          ],
          [
           "Blake2S"
          ],
          [
           "X11"
          ],
          [
           "PoS"
          ],
          [
           "X11"
          ],
          [
           "PoS"
          ],
          [
           "X11"
          ],
          [
           "Scrypt"
          ],
          [
           "Scrypt"
          ],
          [
           "Scrypt"
          ],
          [
           "SHA-256"
          ],
          [
           "X11"
          ],
          [
           "Scrypt"
          ],
          [
           "PoS"
          ],
          [
           "Scrypt"
          ],
          [
           "X15"
          ],
          [
           "SHA-256"
          ],
          [
           "POS 3.0"
          ],
          [
           "536"
          ],
          [
           "NIST5"
          ],
          [
           "NIST5"
          ],
          [
           "Skein"
          ],
          [
           "X13"
          ],
          [
           "Scrypt"
          ],
          [
           "X13"
          ],
          [
           "SkunkHash v2 Raptor"
          ],
          [
           "Skein"
          ],
          [
           "X11"
          ],
          [
           "Scrypt"
          ],
          [
           "VeChainThor Authority"
          ],
          [
           "PoS"
          ],
          [
           "Scrypt"
          ],
          [
           "Scrypt"
          ],
          [
           "SHA-512"
          ],
          [
           "Ouroboros"
          ],
          [
           "X11"
          ],
          [
           "NeoScrypt"
          ],
          [
           "Scrypt"
          ],
          [
           "Lyra2REv2"
          ],
          [
           "Scrypt"
          ],
          [
           "SHA-256"
          ],
          [
           "NIST5"
          ],
          [
           "PHI1612"
          ],
          [
           "Scrypt"
          ],
          [
           "Quark"
          ],
          [
           "POS 2.0"
          ],
          [
           "Scrypt"
          ],
          [
           "SHA-256"
          ],
          [
           "X11"
          ],
          [
           "DPoS"
          ],
          [
           "NIST5"
          ],
          [
           "X13"
          ],
          [
           "Scrypt"
          ],
          [
           "NIST5"
          ],
          [
           "Quark"
          ],
          [
           "Scrypt"
          ],
          [
           "Scrypt"
          ],
          [
           "X11"
          ],
          [
           "Quark"
          ],
          [
           "Scrypt"
          ],
          [
           "Scrypt"
          ],
          [
           "X11"
          ],
          [
           "POS 3.0"
          ],
          [
           "Ethash"
          ],
          [
           "Scrypt"
          ],
          [
           "Scrypt"
          ],
          [
           "X13"
          ],
          [
           "C11"
          ],
          [
           "X11"
          ],
          [
           "XEVAN"
          ],
          [
           "Scrypt"
          ],
          [
           "VBFT"
          ],
          [
           "NIST5"
          ],
          [
           "Scrypt"
          ],
          [
           "Scrypt"
          ],
          [
           "Scrypt"
          ],
          [
           "Green Protocol"
          ],
          [
           "PoS"
          ],
          [
           "Scrypt"
          ],
          [
           "Semux BFT consensus"
          ],
          [
           "Quark"
          ],
          [
           "PoS"
          ],
          [
           "X16R"
          ],
          [
           "Scrypt"
          ],
          [
           "XEVAN"
          ],
          [
           "Scrypt"
          ],
          [
           "Scrypt"
          ],
          [
           "Scrypt"
          ],
          [
           "SHA-256D"
          ],
          [
           "Scrypt"
          ],
          [
           "X15"
          ],
          [
           "Scrypt"
          ],
          [
           "Quark"
          ],
          [
           "SHA-256"
          ],
          [
           "DPoS"
          ],
          [
           "X16R"
          ],
          [
           "Quark"
          ],
          [
           "Quark"
          ],
          [
           "Scrypt"
          ],
          [
           "Lyra2REv2"
          ],
          [
           "Quark"
          ],
          [
           "Scrypt"
          ],
          [
           "X11"
          ],
          [
           "X11"
          ],
          [
           "Scrypt"
          ],
          [
           "PoS"
          ],
          [
           "Keccak"
          ],
          [
           "X11"
          ],
          [
           "Scrypt"
          ],
          [
           "SHA-512"
          ],
          [
           "XEVAN"
          ],
          [
           "XEVAN"
          ],
          [
           "X11"
          ],
          [
           "Quark"
          ],
          [
           "Equihash"
          ],
          [
           "Scrypt"
          ],
          [
           "Quark"
          ],
          [
           "Quark"
          ],
          [
           "Scrypt"
          ],
          [
           "X11"
          ],
          [
           "Scrypt"
          ],
          [
           "XEVAN"
          ],
          [
           "SHA-256D"
          ],
          [
           "X11"
          ],
          [
           "X11"
          ],
          [
           "DPoS"
          ],
          [
           "Scrypt"
          ],
          [
           "X11"
          ],
          [
           "Scrypt"
          ],
          [
           "Scrypt"
          ],
          [
           "SHA-256"
          ],
          [
           "Scrypt"
          ],
          [
           "X11"
          ],
          [
           "Scrypt"
          ],
          [
           "SHA-256"
          ],
          [
           "X11"
          ],
          [
           "Scrypt"
          ],
          [
           "Scrypt"
          ],
          [
           "X11"
          ],
          [
           "Scrypt"
          ],
          [
           "PoS"
          ],
          [
           "X11"
          ],
          [
           "SHA-256"
          ],
          [
           "DPoS"
          ],
          [
           "Scrypt"
          ],
          [
           "Scrypt"
          ],
          [
           "NeoScrypt"
          ],
          [
           "X13"
          ],
          [
           "DPoS"
          ],
          [
           "DPoS"
          ],
          [
           "SHA-256"
          ],
          [
           "PoS"
          ],
          [
           "PoS"
          ],
          [
           "SHA-256"
          ],
          [
           "Scrypt"
          ],
          [
           "Scrypt"
          ]
         ],
         "hovertemplate": "<b>%{hovertext}</b><br><br>Class=%{marker.color}<br>PC1=%{x}<br>PC2=%{y}<br>PC3=%{z}<br>Algorithm=%{customdata[0]}<extra></extra>",
         "hovertext": [
          "42 Coin",
          "404Coin",
          "EliteCoin",
          "Dash",
          "Bitshares",
          "BitcoinDark",
          "PayCoin",
          "KoboCoin",
          "Aurora Coin",
          "BlueCoin",
          "EnergyCoin",
          "BitBar",
          "CryptoBullion",
          "CasinoCoin",
          "Diamond",
          "Exclusive Coin",
          "FlutterCoin",
          "HoboNickels",
          "HyperStake",
          "IOCoin",
          "MaxCoin",
          "MintCoin",
          "MazaCoin",
          "Nautilus Coin",
          "NavCoin",
          "OpalCoin",
          "Orbitcoin",
          "PotCoin",
          "PhoenixCoin",
          "Reddcoin",
          "SuperCoin",
          "SyncCoin",
          "TeslaCoin",
          "TittieCoin",
          "TorCoin",
          "UnitaryStatus Dollar",
          "UltraCoin",
          "VeriCoin",
          "X11 Coin",
          "Crypti",
          "StealthCoin",
          "ZCC Coin",
          "BurstCoin",
          "StorjCoin",
          "Neutron",
          "FairCoin",
          "RubyCoin",
          "Kore",
          "Dnotes",
          "8BIT Coin",
          "Sativa Coin",
          "Ucoin",
          "Vtorrent",
          "IslaCoin",
          "Nexus",
          "Droidz",
          "Squall Coin",
          "Diggits",
          "Paycon",
          "Emercoin",
          "EverGreenCoin",
          "Decred",
          "EDRCoin",
          "Hitcoin",
          "DubaiCoin",
          "PWR Coin",
          "BillaryCoin",
          "GPU Coin",
          "EuropeCoin",
          "ZeitCoin",
          "SwingCoin",
          "SafeExchangeCoin",
          "Nebuchadnezzar",
          "Ratecoin",
          "Revenu",
          "Clockcoin",
          "VIP Tokens",
          "BitSend",
          "Let it Ride",
          "PutinCoin",
          "iBankCoin",
          "Frankywillcoin",
          "MudraCoin",
          "Lutetium Coin",
          "GoldBlocks",
          "CarterCoin",
          "BitTokens",
          "MustangCoin",
          "ZoneCoin",
          "RootCoin",
          "BitCurrency",
          "Swiscoin",
          "BuzzCoin",
          "Opair",
          "PesoBit",
          "Halloween Coin",
          "CoffeeCoin",
          "RoyalCoin",
          "GanjaCoin V2",
          "TeamUP",
          "LanaCoin",
          "ARK",
          "InsaneCoin",
          "EmberCoin",
          "XenixCoin",
          "FreeCoin",
          "PLNCoin",
          "AquariusCoin",
          "Creatio",
          "Eternity",
          "Eurocoin",
          "BitcoinFast",
          "Stakenet",
          "BitConnect Coin",
          "MoneyCoin",
          "Enigma",
          "Russiacoin",
          "PandaCoin",
          "GameUnits",
          "GAKHcoin",
          "Allsafe",
          "LiteCreed",
          "Klingon Empire Darsek",
          "Internet of People",
          "KushCoin",
          "Printerium",
          "Impeach",
          "Zilbercoin",
          "FirstCoin",
          "FindCoin",
          "OpenChat",
          "RenosCoin",
          "VirtacoinPlus",
          "TajCoin",
          "Impact",
          "Atmos",
          "HappyCoin",
          "MacronCoin",
          "Condensate",
          "Independent Money System",
          "ArgusCoin",
          "LomoCoin",
          "ProCurrency",
          "GoldReserve",
          "GrowthCoin",
          "Phreak",
          "Degas Coin",
          "HTML5 Coin",
          "Ultimate Secure Cash",
          "QTUM",
          "Espers",
          "Denarius",
          "Virta Unique Coin",
          "Bitcoin Planet",
          "BritCoin",
          "Linda",
          "DeepOnion",
          "Signatum",
          "Cream",
          "Monoeci",
          "Draftcoin",
          "Vechain",
          "Stakecoin",
          "CoinonatX",
          "Ethereum Dark",
          "Obsidian",
          "Cardano",
          "Regalcoin",
          "TrezarCoin",
          "TerraNovaCoin",
          "Rupee",
          "WomenCoin",
          "Theresa May Coin",
          "NamoCoin",
          "LUXCoin",
          "Xios",
          "Bitcloud 2.0",
          "KekCoin",
          "BlackholeCoin",
          "Infinity Economics",
          "Magnet",
          "Lamden Tau",
          "Electra",
          "Bitcoin Diamond",
          "Cash & Back Coin",
          "Bulwark",
          "Kalkulus",
          "GermanCoin",
          "LiteCoin Ultra",
          "PhantomX",
          "Digiwage",
          "Trollcoin",
          "Litecoin Plus",
          "Monkey Project",
          "TokenPay",
          "1717 Masonic Commemorative Token",
          "My Big Coin",
          "Unified Society USDEX",
          "Tokyo Coin",
          "Stipend",
          "Pushi",
          "Ellerium",
          "Velox",
          "Ontology",
          "Bitspace",
          "Briacoin",
          "Ignition",
          "MedicCoin",
          "Bitcoin Green",
          "Deviant Coin",
          "Abjcoin",
          "Semux",
          "Carebit",
          "Zealium",
          "Proton",
          "iDealCash",
          "Bitcoin Incognito",
          "HollyWoodCoin",
          "Swisscoin",
          "Xt3ch",
          "TheVig",
          "EmaratCoin",
          "Dekado",
          "Lynx",
          "Poseidon Quark",
          "BitcoinWSpectrum",
          "Muse",
          "Trivechain",
          "Dystem",
          "Giant",
          "Peony Coin",
          "Absolute Coin",
          "Vitae",
          "TPCash",
          "ARENON",
          "EUNO",
          "MMOCoin",
          "Ketan",
          "XDNA",
          "PAXEX",
          "ThunderStake",
          "Kcash",
          "Bettex coin",
          "BitMoney",
          "Junson Ming Chan Coin",
          "HerbCoin",
          "PirateCash",
          "Oduwa",
          "Galilel",
          "Crypto Sports",
          "Credit",
          "Dash Platinum",
          "Nasdacoin",
          "Beetle Coin",
          "Titan Coin",
          "Award",
          "Insane Coin",
          "ALAX",
          "LiteDoge",
          "TruckCoin",
          "OrangeCoin",
          "BitstarCoin",
          "NeosCoin",
          "HyperCoin",
          "PinkCoin",
          "AudioCoin",
          "IncaKoin",
          "Piggy Coin",
          "Genstake",
          "XiaoMiCoin",
          "CapriCoin",
          " ClubCoin",
          "Radium",
          "Creditbit ",
          "OKCash",
          "Lisk",
          "HiCoin",
          "WhiteCoin",
          "FriendshipCoin",
          "Triangles Coin",
          "EOS",
          "Oxycoin",
          "TigerCash",
          "Particl",
          "Nxt",
          "ZEPHYR",
          "Gapcoin",
          "BitcoinPlus"
         ],
         "legendgroup": "3",
         "marker": {
          "color": [
           3,
           3,
           3,
           3,
           3,
           3,
           3,
           3,
           3,
           3,
           3,
           3,
           3,
           3,
           3,
           3,
           3,
           3,
           3,
           3,
           3,
           3,
           3,
           3,
           3,
           3,
           3,
           3,
           3,
           3,
           3,
           3,
           3,
           3,
           3,
           3,
           3,
           3,
           3,
           3,
           3,
           3,
           3,
           3,
           3,
           3,
           3,
           3,
           3,
           3,
           3,
           3,
           3,
           3,
           3,
           3,
           3,
           3,
           3,
           3,
           3,
           3,
           3,
           3,
           3,
           3,
           3,
           3,
           3,
           3,
           3,
           3,
           3,
           3,
           3,
           3,
           3,
           3,
           3,
           3,
           3,
           3,
           3,
           3,
           3,
           3,
           3,
           3,
           3,
           3,
           3,
           3,
           3,
           3,
           3,
           3,
           3,
           3,
           3,
           3,
           3,
           3,
           3,
           3,
           3,
           3,
           3,
           3,
           3,
           3,
           3,
           3,
           3,
           3,
           3,
           3,
           3,
           3,
           3,
           3,
           3,
           3,
           3,
           3,
           3,
           3,
           3,
           3,
           3,
           3,
           3,
           3,
           3,
           3,
           3,
           3,
           3,
           3,
           3,
           3,
           3,
           3,
           3,
           3,
           3,
           3,
           3,
           3,
           3,
           3,
           3,
           3,
           3,
           3,
           3,
           3,
           3,
           3,
           3,
           3,
           3,
           3,
           3,
           3,
           3,
           3,
           3,
           3,
           3,
           3,
           3,
           3,
           3,
           3,
           3,
           3,
           3,
           3,
           3,
           3,
           3,
           3,
           3,
           3,
           3,
           3,
           3,
           3,
           3,
           3,
           3,
           3,
           3,
           3,
           3,
           3,
           3,
           3,
           3,
           3,
           3,
           3,
           3,
           3,
           3,
           3,
           3,
           3,
           3,
           3,
           3,
           3,
           3,
           3,
           3,
           3,
           3,
           3,
           3,
           3,
           3,
           3,
           3,
           3,
           3,
           3,
           3,
           3,
           3,
           3,
           3,
           3,
           3,
           3,
           3,
           3,
           3,
           3,
           3,
           3,
           3,
           3,
           3,
           3,
           3,
           3,
           3,
           3,
           3,
           3,
           3,
           3,
           3,
           3,
           3,
           3,
           3,
           3,
           3,
           3,
           3,
           3,
           3,
           3,
           3,
           3,
           3,
           3,
           3,
           3,
           3,
           3,
           3,
           3,
           3,
           3,
           3,
           3,
           3,
           3,
           3,
           3,
           3,
           3,
           3,
           3,
           3,
           3
          ],
          "coloraxis": "coloraxis",
          "symbol": "circle"
         },
         "mode": "markers",
         "name": "3",
         "scene": "scene",
         "showlegend": true,
         "type": "scatter3d",
         "x": [
          -0.3310414755190502,
          -0.31439083454607225,
          2.2944739273639403,
          -0.3918067105408682,
          -0.2833083283107391,
          -0.321038746380916,
          -0.27555294250506296,
          -0.25519601801954195,
          -0.3307012966132556,
          -0.32328378783805745,
          -0.3295390416931233,
          -0.33103741492553074,
          -0.3310217069553435,
          0.6928434489212637,
          -0.38345265337275025,
          -0.3598678643695572,
          -0.2514113313003875,
          -0.3291016692274948,
          -0.3261578994616362,
          -0.39170147634404306,
          -0.4281685011978871,
          -0.02564832496468379,
          -0.2843719928402365,
          -0.2853069531489328,
          -0.287413012095817,
          -0.2880348092182317,
          -0.3570523794770169,
          -0.3253479666773072,
          -0.32944438440966345,
          0.026862968313119878,
          -0.3460313441755234,
          -0.39207277812815483,
          -0.2575019453037797,
          -0.33731218565312315,
          -0.3919844872776154,
          -0.30629170701179004,
          -0.32971985770460616,
          -0.27589375574366276,
          -0.39194898188347577,
          -0.25796926447160967,
          -0.2878158176763227,
          -0.32215158159784424,
          0.05961097953091528,
          -0.35925465260763456,
          -0.3202510334250738,
          -0.38287459433790777,
          -0.2852872078486187,
          -0.2881101592760135,
          -0.2799453312725332,
          -0.33102355592493726,
          -0.2880623741737556,
          -0.34647591626681185,
          -0.33075813538698096,
          -0.3920543192497412,
          -0.4401297979860804,
          -0.4528015252032735,
          -0.31379096211718377,
          -0.28368991353476175,
          -0.2875843721769656,
          -0.3136014782321516,
          -0.25763549146040265,
          -0.09385154105216494,
          -0.3210096795858398,
          -0.06976517261318663,
          -0.3210733191681467,
          -0.25085177559587246,
          -0.3306341221169393,
          -0.2835591790148509,
          -0.38922581901820735,
          0.8669807437528686,
          -0.3208735469680657,
          -0.03740011676365256,
          -0.3595513698593409,
          -0.38989882638832307,
          -0.31961812484633173,
          -0.3172882367562035,
          -0.3721301782336775,
          -0.39079050267901255,
          -0.3442558095499241,
          -0.3069484324462605,
          -0.3306721971638609,
          -0.32911229521003593,
          -0.2413197975800403,
          -0.33397569795203447,
          -0.3915286287538456,
          -0.3298770008509546,
          -0.3210542954130163,
          -0.3920435213209042,
          -0.33086120817025966,
          -0.3310177928408968,
          -0.28354851904068845,
          -0.2074787590443166,
          0.026176345649325344,
          -0.35850919931851827,
          -0.3306322051991006,
          -0.3782167309752752,
          -0.35783824529583297,
          -0.2427492348590194,
          -0.41469856092014384,
          -0.3575876416437074,
          -0.28812747142347533,
          3.7433306040950893,
          -0.39163636413717223,
          0.8433536898031483,
          -0.3919984619282556,
          -0.3589726155235605,
          -0.3305598510437446,
          -0.33071407880153125,
          -0.3595513698593409,
          -0.3915737114664164,
          -0.32091705818295424,
          -0.3305605802221467,
          -0.3615269060546901,
          -0.3307078677003643,
          -0.32629951817513925,
          -0.3920274378768258,
          -0.3299192229726164,
          0.3575021830937898,
          -0.33090699510717414,
          -0.3309775087539617,
          -0.35147084851856,
          -0.35563729160473967,
          -0.3272073262477777,
          -0.3210307247270305,
          -0.39193745387621143,
          -0.3307554860296799,
          -0.33088235724410664,
          -0.2851938412971253,
          -0.2522973723520736,
          -0.24251725608677954,
          -0.31174966513661934,
          -0.28493512040959906,
          -0.39120378686579493,
          -0.47100652184825303,
          -0.38994300414474475,
          -0.35779918546044354,
          -0.3911017397048735,
          -0.3522031281729571,
          -0.3870458602708826,
          -0.33082568053193867,
          -0.330824879318798,
          -0.3239522430487839,
          0.2566742726582343,
          -0.3915798344766392,
          -0.26784962164475346,
          -0.3595856525652997,
          -0.33003698542766907,
          0.8758877066064005,
          -0.27424443088147255,
          -0.34303504396234136,
          0.5684581284833309,
          -0.3736647209255701,
          -0.3721680640255941,
          -0.42584096620936734,
          -0.2877476992089161,
          0.13354165852940075,
          -0.28781841224551147,
          -0.34343812178555083,
          -0.4253461795660395,
          -0.39185200422208855,
          -0.2852679522152441,
          4.418425888066065,
          -0.3594520508594243,
          -0.33046114857046877,
          -0.33096045072229513,
          -0.34133005369245384,
          0.6449201785122527,
          -0.39179289074060475,
          -0.35205537658532426,
          -0.3309161082328844,
          -0.317699965940671,
          0.4376630485085532,
          -0.3193781786619084,
          -0.35844298632922467,
          -0.41830584221408185,
          -0.3308664857638415,
          -0.3953363119235116,
          -0.34810127802680346,
          -0.33073696395100627,
          -0.10216162823685468,
          -0.3905864745067769,
          3.7481829787833676,
          0.1854235900424223,
          -0.2844916827846397,
          -0.3281991365988262,
          -0.3280060501606351,
          -0.3513568334731971,
          0.08307791681657274,
          -0.32987621718069565,
          -0.39116712550784816,
          -0.3505222350065719,
          -0.31745105134905083,
          -0.33098256733698506,
          -0.34644786545862316,
          -0.3445375298312565,
          -0.28388148063953794,
          -0.2683669423460879,
          -0.32653102697805864,
          -0.2343193172290707,
          -0.3704801372030486,
          -0.391869255045174,
          -0.2807898226188259,
          -0.2844286104999702,
          -0.32338046132184783,
          -0.37326399130928456,
          -0.3310099028191202,
          -0.3309916281481514,
          -0.27881417778719103,
          -0.3559821224395731,
          -0.35904680643885284,
          -0.33070835454716263,
          3.9267419122731084,
          -0.3940052231534774,
          -0.35923534150994746,
          -0.3291713978887243,
          -0.27761912230601177,
          -0.20266022985265433,
          -0.28496237416379055,
          -0.134265002163915,
          -0.2852142847349164,
          -0.35339110968853465,
          -0.33018279402344936,
          -0.2115573604386827,
          2.2448795893950786,
          -0.3470683077717024,
          -0.27437196258120744,
          1.0299103979862287,
          -0.37393081435740544,
          -0.3514702912137664,
          -0.39701913090646207,
          -0.16604315655812724,
          -0.36305071311920084,
          -0.3501907599005677,
          -0.32389237408227844,
          -0.34602559048992787,
          -0.39134296823431525,
          -0.28246182630799543,
          -0.3583358770199186,
          -0.3447120450850533,
          -0.3458871093054725,
          -0.19060451284911087,
          -0.344741662286241,
          -0.23536052575966815,
          0.6299758843019864,
          -0.13653992750311053,
          -0.39631428105516814,
          -0.27566118773511417,
          -0.33071231621654257,
          -0.3967700591192157,
          -0.3515871820061082,
          0.575117866959827,
          -0.34650214300678917,
          -0.3301956474641202,
          -0.2752495920927915,
          -0.30814618362494883,
          -0.3889096246826004,
          -0.39157003256789796,
          3.7604160193076517,
          0.10389146139563935,
          -0.38911128940734846,
          -0.3295816666009934,
          -0.33040596090161367,
          -0.275585559455902,
          -0.33092389206887085,
          -0.3832039323597316,
          -0.24469517064388796,
          -0.1008441132358292,
          -0.378955643393311,
          -0.33020270846001587,
          -0.3232720533738416,
          -0.3881411156707988,
          -0.328643089138388,
          -0.3598268055476704,
          -0.32805249278361875,
          -0.31955488563668577,
          3.7437221208457445,
          -0.09263541159291544,
          -0.32583988178819767,
          -0.35667854520032455,
          -0.28821727976812794,
          3.7535837119224933,
          3.7548270167793545,
          -0.25649611765624963,
          -0.3597627144795608,
          -0.3832248413131877,
          2.4743597155634593,
          -0.3290884056962446,
          -0.2856104448215681
         ],
         "y": [
          0.9357010225853016,
          0.9363293821129283,
          1.7027558440001904,
          1.2120968716444975,
          2.119253349681604,
          0.829561671582172,
          0.7352887231664191,
          1.8674687176684492,
          0.9357098582621023,
          0.9361619180275796,
          0.935790284374301,
          0.9357009246874258,
          0.9357015187485073,
          0.35160932843186077,
          0.9345834662387326,
          1.8537196400953626,
          0.07989174231382962,
          0.9357348680034991,
          1.1190303158692105,
          1.2121031237599083,
          1.9395208919470823,
          0.8568631002505592,
          0.8301139696611037,
          0.8414254310443455,
          1.7624703216724085,
          1.7624333798085683,
          0.5476070342239016,
          0.935754377636368,
          0.9357294303718684,
          0.9569646418158052,
          1.1178496058559353,
          1.2120959870786818,
          0.2624727096705601,
          1.7804340248411687,
          1.2120944498021466,
          0.936086091392695,
          0.9357117074177799,
          0.13139732773646237,
          1.2120996117775629,
          0.26251277998129363,
          1.7624463904119174,
          0.935550839868318,
          0.7466723651808801,
          1.7833962659792073,
          0.8295772669133843,
          0.934620780707151,
          0.8414375797497037,
          1.7624207630229813,
          0.8414157762590359,
          0.935702087242722,
          1.762424958693155,
          1.1178096263035018,
          0.9357042893763907,
          1.2120970844256158,
          2.1076640686970034,
          2.019404867843655,
          0.9780852647029844,
          0.8414646428921221,
          1.7624262237145933,
          0.829340109816112,
          1.8675433663958327,
          0.9667643589526307,
          0.8295633984823894,
          1.2132347098753802,
          0.8295674185209162,
          1.6262265926715107,
          0.9356967336119956,
          0.8413902946719367,
          1.2120046455444893,
          0.8427394083042133,
          0.8295592761225823,
          0.3339015385841957,
          1.8537248766073857,
          1.2121742695529394,
          0.829509912123951,
          0.829443287653251,
          1.6189602168800565,
          1.2120778797519176,
          1.5834939035792077,
          0.9357757367214846,
          0.9356928887157182,
          0.9357478035818504,
          1.6680913472962677,
          1.1181201770691758,
          1.2120943992479165,
          0.9357091547584621,
          0.8295614261359137,
          1.2120956909136462,
          0.935697487329513,
          0.9357024296358569,
          0.8415408777594374,
          0.09272821848851831,
          1.868814960286007,
          1.853750162877399,
          0.9357253379537767,
          1.2119016792551003,
          1.8538130889943814,
          1.6681403952543534,
          1.886821235801007,
          1.8536509298225514,
          1.8586169492002538,
          1.068957448700284,
          1.212101565416708,
          1.8290742097600863,
          1.2120977891079112,
          1.8537389109122457,
          0.935703493234384,
          0.9356919832700452,
          1.8537248766073857,
          1.2120849373772915,
          0.8295702579418496,
          0.9357072079395168,
          0.7907019976652457,
          0.9357018490988324,
          0.9355413778376891,
          1.2120952897659263,
          0.9356700156964123,
          0.8575703203886718,
          0.9357001938148727,
          0.9357025737254416,
          1.6093808819098798,
          0.5570521133815738,
          0.9355896428693982,
          0.8295628265043635,
          1.212097682334689,
          0.9357044467785296,
          0.9356955977115382,
          0.8414058178621165,
          0.028203750509869917,
          1.6681460205440646,
          0.9361688327276253,
          0.8414351448090986,
          1.2120797813647475,
          2.176470244631609,
          1.2121479028429414,
          1.8537677286946406,
          1.212085844133757,
          1.8539036754614284,
          1.2120554721146186,
          0.9356994541867032,
          0.9356944902633203,
          0.9354438599744822,
          0.7160417765650825,
          1.212098140483722,
          0.8411168835658653,
          1.8537160563807316,
          0.9356894746815455,
          1.8738544786871791,
          0.7352392170816962,
          1.5835213211364678,
          2.0649310866147754,
          1.6189233150187055,
          1.6189376157055693,
          1.8252736323422205,
          1.7624300871033625,
          0.9293853684139207,
          1.7624334167895186,
          1.7443511685925124,
          1.8253030283303149,
          1.2121026550513931,
          0.8414269165699259,
          2.4729610948786567,
          1.8537025581988968,
          0.9357027692121463,
          0.9357029873683328,
          2.118186628126044,
          1.7215950598740697,
          1.2120943009779397,
          0.5476351330642392,
          0.9356977982504396,
          0.7568164149706753,
          0.9644122629403974,
          0.8296074174604763,
          1.6190204306686125,
          1.8741233357161022,
          0.9356971737800664,
          1.7036310476890268,
          1.7010241117845415,
          0.9357090825445076,
          0.7394935330413804,
          1.212086609639069,
          1.0689913562170863,
          1.631796016421755,
          1.762501429785487,
          0.935727437793818,
          1.5246421749772807,
          1.6093842639873412,
          0.9263872447365475,
          0.9356685006675463,
          1.2121158766771456,
          1.6093660142694632,
          0.9358979395663143,
          0.9357018090571894,
          1.1178106144983075,
          1.58348293209638,
          0.07180610953819737,
          0.12851717486996048,
          0.9358116190206193,
          1.668100249431522,
          0.8397986581874386,
          1.2120911207527976,
          1.5442943962351965,
          0.8414044755800622,
          1.7160817932967936,
          1.618919989176571,
          0.9357008633609354,
          0.9357005923971646,
          0.841482979719026,
          1.7277401676918875,
          1.8537087260446972,
          0.9357004634862323,
          1.2129956042156254,
          1.703710129592641,
          1.8537029516575256,
          0.7543835221324552,
          0.9354004759443232,
          1.310301084801067,
          0.8414392416391284,
          0.940472686217775,
          0.8414120650738062,
          1.859763359208825,
          0.9356950572100385,
          1.7732559528405483,
          0.3088931770875439,
          1.6092116946605577,
          0.7352993539073208,
          1.313301537504639,
          0.8486806010486769,
          1.6093768449551722,
          1.7036632436683687,
          0.8370715913145574,
          0.8510844987604708,
          1.609399274566886,
          0.9354474168761295,
          1.1178126387616232,
          1.2121054296071536,
          0.841429070259105,
          1.8536682053987041,
          0.6944001091071051,
          1.1177903406410963,
          0.9318343901448156,
          2.9357670883605422,
          1.4500184298281664,
          1.4082343854790753,
          1.1302957930631037,
          1.7036719833805032,
          0.12976265341995924,
          0.9357063332152251,
          1.7036686225744253,
          1.6093750760705903,
          0.9387971125373505,
          1.1178082716383024,
          0.9356942935685902,
          1.544325077888671,
          1.8591275391133577,
          1.2119990107160665,
          1.2121055062709065,
          1.069378966715481,
          0.937798969912741,
          1.2122719340731882,
          0.9356520831340603,
          0.9357019751320592,
          0.7352810194209253,
          0.9357080084161529,
          1.2122837265929078,
          0.9337083673890567,
          0.8425297904971736,
          1.2121969514851039,
          0.9357406798120205,
          0.9358912775230482,
          1.21218847790782,
          0.935734979141391,
          1.8537159743617047,
          0.569284025391628,
          0.8295935273234212,
          1.068957022582223,
          0.8460938655698644,
          0.9358065535499496,
          0.5475909869048752,
          1.7624224575687277,
          1.0696513936446508,
          1.0697252601793759,
          0.7357510517528514,
          1.8537200302834942,
          2.456439030301212,
          0.4918370218700777,
          0.9356474712675791,
          0.8414176974307817
         ],
         "z": [
          -0.5857349630988687,
          -0.586025554952051,
          -0.6714267570600602,
          -0.4795764931719312,
          0.039252154792452004,
          -0.34846525196621625,
          -0.02761922645377688,
          -0.6751716954838963,
          -0.5857404164138589,
          -0.5858906698405046,
          -0.5857651188755303,
          -0.5857350036187997,
          -0.5857352779130675,
          -0.40981727638646404,
          -0.48604276649805533,
          -0.1204146494210126,
          -0.3673020306706937,
          -0.5857640611416071,
          -0.15913618968668353,
          -0.4795786053571918,
          -0.6227794998527979,
          -0.2701048325631522,
          -0.34900470303510017,
          -0.26489182470789,
          -0.6453565063204663,
          -0.6453440260549892,
          -0.3300145461835074,
          -0.5858148118643554,
          -0.5857589857411738,
          -0.59291856417318,
          -0.1587373041707626,
          -0.4795729561050362,
          0.1056122573954724,
          -0.2698427524064053,
          -0.47957390860090393,
          -0.5861005712211521,
          -0.5857532926996147,
          -0.43320144952210315,
          -0.47957499010319027,
          0.10561344012360523,
          -0.645348421496013,
          -0.5858314250040532,
          -0.37864658774629334,
          0.00010487220689247191,
          -0.34847729177049974,
          -0.4860547279111795,
          -0.26489354729060094,
          -0.6453415300467119,
          -0.264959780768841,
          -0.5857353227715445,
          -0.6453426530943164,
          -0.15872674164554054,
          -0.5857390107087005,
          -0.4795733266803625,
          -0.44736974290061665,
          -0.7810093088527363,
          -0.2003187480963176,
          -0.26491741006869934,
          -0.6453489684205633,
          -0.34853436113891495,
          -0.6751492658694512,
          -0.4807319895470192,
          -0.3484658353740612,
          -0.483865788404934,
          -0.3484655006972236,
          -0.5161234198937584,
          -0.5857396964813512,
          -0.2649101114341583,
          -0.4795986219542813,
          -0.27990604538015806,
          -0.34846709227622863,
          -0.398263109922965,
          -0.12041936247827587,
          -0.47961044246068185,
          -0.3484773123003728,
          -0.3484992987603869,
          -0.5136818295870184,
          -0.4795872993155654,
          -0.0821087926854385,
          -0.5860546020327341,
          -0.5857387410038122,
          -0.5857654872578604,
          -0.32450549967304737,
          -0.15892542237603788,
          -0.47957977947925623,
          -0.5857509583318619,
          -0.3484650218468733,
          -0.47957329749963673,
          -0.5857368599361193,
          -0.5857354384440302,
          -0.2649284450042165,
          -0.3955081818895586,
          -0.7420900338415506,
          -0.12043585381520136,
          -0.5857431776823779,
          -0.47972811031773194,
          -0.12045210769974288,
          -0.3244929980332563,
          -0.694202313110217,
          -0.12043574354481382,
          -0.7368056822755207,
          0.09312458102046613,
          -0.4795792564853282,
          -0.667982769610137,
          -0.47957413195250737,
          -0.1204285197298181,
          -0.5857414708120651,
          -0.585738091648176,
          -0.12041936247827587,
          -0.47957805491473937,
          -0.3484678583437052,
          -0.5857419102884767,
          -0.11541013467873862,
          -0.5857393638882823,
          -0.5857768058959936,
          -0.47957345637564597,
          -0.5857456845177091,
          -0.275129917590343,
          -0.5857365966909287,
          -0.5857359752031838,
          -0.14044491020139077,
          -0.31184160397999366,
          -0.585770934560432,
          -0.348465494940762,
          -0.4795749055739787,
          -0.5857390638846983,
          -0.5857363589420956,
          -0.2648909129452948,
          -0.3333973465692764,
          -0.3244966684817324,
          -0.5860402048041302,
          -0.26489779221448617,
          -0.4795822009890749,
          -0.6417165750212194,
          -0.4796066868181114,
          -0.12044713002198197,
          -0.4795842492064332,
          -0.12053570263679858,
          -0.47963286803993854,
          -0.585737555633884,
          -0.5857369661332748,
          -0.5857952834200351,
          -0.03215500862172505,
          -0.4795795714114204,
          -0.26507960266844127,
          -0.12041785468373849,
          -0.5857465176912747,
          -0.6905254153665465,
          -0.02763011374528385,
          -0.08212784403309412,
          -0.6625483103331731,
          -0.5136575869210829,
          -0.5136786100805798,
          -0.735467746290596,
          -0.645347329630971,
          -0.5909612588958008,
          -0.6453468203415302,
          -0.07196136245310315,
          -0.7354776772929125,
          -0.4795766080945224,
          -0.26489250702074013,
          1.3546922792411236,
          -0.12041794600265278,
          -0.5857426558078446,
          -0.5857362451012685,
          0.04012907876799079,
          -0.16961191140650692,
          -0.4795763607047104,
          -0.33008236359710535,
          -0.5857361897284147,
          -0.004155075238803628,
          -0.5991146068019494,
          -0.34849218805536253,
          -0.5138655627466746,
          -0.590160480556138,
          -0.5857367540080493,
          -0.46130907234796475,
          0.18706368170025753,
          -0.5857398628498485,
          -0.0303627100576609,
          -0.47959098457423793,
          0.09305792626430709,
          -0.5224209358275258,
          -0.6453979275151501,
          -0.5857747988585763,
          -0.19281280017236171,
          -0.14044678878119796,
          -0.5899483868981058,
          -0.5857460558810883,
          -0.479587035312901,
          -0.14045534327576012,
          -0.5859339676396123,
          -0.5857358175863886,
          -0.15872722269155864,
          -0.08210383494036044,
          0.1714465558277822,
          -0.485134432254939,
          -0.5858064766247315,
          -0.32459682648887556,
          -0.47047207617618364,
          -0.47957499191454284,
          -0.4894358796417458,
          -0.2649006162014795,
          0.1078474501645498,
          -0.5136623512915789,
          -0.5857353508978815,
          -0.5857355537546239,
          -0.2649824844695877,
          -0.023093338763848812,
          -0.12042391577566679,
          -0.5857391901773084,
          0.15489897834366778,
          -0.46133578900621974,
          -0.12042078739239996,
          -0.10439655693365427,
          -0.5863873735885449,
          -0.2101818130523905,
          -0.26489793590778654,
          -0.588848428610445,
          -0.2648914042856277,
          -0.7361028247348068,
          -0.5857453124888244,
          -0.3543091287786866,
          -0.4847393774782869,
          -0.14048122410008868,
          -0.027635736396280034,
          -0.0011123264424379071,
          -0.4252548630051639,
          -0.14044442956920877,
          -0.4612912677210807,
          -0.2659032803027531,
          -0.3250022540886403,
          -0.14046363579948135,
          -0.5857964850669534,
          -0.15873291132290593,
          -0.47958350592392596,
          -0.26492894420714463,
          -0.12042818474119947,
          -0.4748012384316192,
          -0.15873200218279968,
          -0.5870782589906869,
          0.27594651523612096,
          -0.16858876094586517,
          -0.1999962440061416,
          -0.16294206550043924,
          -0.4613014108250316,
          0.1810022978195197,
          -0.5857398483885305,
          -0.4612951287624461,
          -0.1404427088496981,
          -0.59779141181098,
          -0.15872623983214304,
          -0.5857450545037901,
          -0.48951101251811885,
          -0.7366092970412194,
          -0.47960201747197784,
          -0.4795805878449698,
          0.09285337829019837,
          -0.5915956864337302,
          -0.47963239706267197,
          -0.5857478694055109,
          -0.5857432713394798,
          -0.027617875047581595,
          -0.5857373231529189,
          -0.47970998045899993,
          -0.5866073626420532,
          -0.35287106966939535,
          -0.479754264231783,
          -0.585750568687596,
          -0.5858581174993115,
          -0.47963482000265545,
          -0.5857699866452653,
          -0.12041473579720527,
          -0.18804538449200206,
          -0.3484882314714793,
          0.0931195850269334,
          -0.26793989492034254,
          -0.5858147748574568,
          -0.33001742657956395,
          -0.64534035380074,
          0.09290854179204686,
          0.09288358706947934,
          -0.027920776315489577,
          -0.12041605217653803,
          -0.29819952112630743,
          0.06603938137495029,
          -0.5857536713009311,
          -0.264886977540452
         ]
        },
        {
         "customdata": [
          [
           "SHA-256"
          ],
          [
           "Ethash"
          ],
          [
           "Scrypt"
          ],
          [
           "CryptoNight-V7"
          ],
          [
           "Ethash"
          ],
          [
           "Equihash"
          ],
          [
           "Multiple"
          ],
          [
           "Scrypt"
          ],
          [
           "X11"
          ],
          [
           "Scrypt"
          ],
          [
           "Multiple"
          ],
          [
           "Scrypt"
          ],
          [
           "SHA-256"
          ],
          [
           "Scrypt"
          ],
          [
           "Scrypt"
          ],
          [
           "Quark"
          ],
          [
           "Groestl"
          ],
          [
           "Scrypt"
          ],
          [
           "Scrypt"
          ],
          [
           "Scrypt"
          ],
          [
           "X11"
          ],
          [
           "Multiple"
          ],
          [
           "SHA-256"
          ],
          [
           "Scrypt"
          ],
          [
           "Scrypt"
          ],
          [
           "Scrypt"
          ],
          [
           "Scrypt"
          ],
          [
           "Scrypt"
          ],
          [
           "NeoScrypt"
          ],
          [
           "Scrypt"
          ],
          [
           "Scrypt"
          ],
          [
           "Scrypt"
          ],
          [
           "Scrypt"
          ],
          [
           "SHA-256"
          ],
          [
           "Scrypt"
          ],
          [
           "Scrypt"
          ],
          [
           "Scrypt"
          ],
          [
           "Scrypt"
          ],
          [
           "HybridScryptHash256"
          ],
          [
           "Scrypt"
          ],
          [
           "Scrypt"
          ],
          [
           "SHA-256"
          ],
          [
           "Scrypt"
          ],
          [
           "Scrypt"
          ],
          [
           "Scrypt"
          ],
          [
           "Scrypt"
          ],
          [
           "SHA-256"
          ],
          [
           "SHA-256"
          ],
          [
           "SHA-256"
          ],
          [
           "SHA-256"
          ],
          [
           "SHA-256"
          ],
          [
           "X11"
          ],
          [
           "Scrypt"
          ],
          [
           "Lyra2REv2"
          ],
          [
           "Scrypt"
          ],
          [
           "SHA-256"
          ],
          [
           "CryptoNight"
          ],
          [
           "CryptoNight"
          ],
          [
           "Scrypt"
          ],
          [
           "Scrypt"
          ],
          [
           "Scrypt"
          ],
          [
           "Scrypt"
          ],
          [
           "Scrypt"
          ],
          [
           "Scrypt"
          ],
          [
           "Stanford Folding"
          ],
          [
           "Multiple"
          ],
          [
           "QuBit"
          ],
          [
           "Scrypt"
          ],
          [
           "Scrypt"
          ],
          [
           "M7 POW"
          ],
          [
           "Scrypt"
          ],
          [
           "SHA-256"
          ],
          [
           "Scrypt"
          ],
          [
           "X11"
          ],
          [
           "Lyra2RE"
          ],
          [
           "SHA-256"
          ],
          [
           "X11"
          ],
          [
           "Scrypt"
          ],
          [
           "Scrypt"
          ],
          [
           "Ethash"
          ],
          [
           "Blake2b"
          ],
          [
           "X11"
          ],
          [
           "SHA-256"
          ],
          [
           "Scrypt"
          ],
          [
           "1GB AES Pattern Search"
          ],
          [
           "Scrypt"
          ],
          [
           "SHA-256"
          ],
          [
           "X11"
          ],
          [
           "Dagger"
          ],
          [
           "Scrypt"
          ],
          [
           "X11GOST"
          ],
          [
           "Scrypt"
          ],
          [
           "X11"
          ],
          [
           "Scrypt"
          ],
          [
           "X11"
          ],
          [
           "Equihash"
          ],
          [
           "CryptoNight"
          ],
          [
           "SHA-256"
          ],
          [
           "Multiple"
          ],
          [
           "Scrypt"
          ],
          [
           "SHA-256"
          ],
          [
           "Scrypt"
          ],
          [
           "Lyra2Z"
          ],
          [
           "Ethash"
          ],
          [
           "Equihash"
          ],
          [
           "Scrypt"
          ],
          [
           "X11"
          ],
          [
           "X11"
          ],
          [
           "CryptoNight"
          ],
          [
           "Scrypt"
          ],
          [
           "CryptoNight"
          ],
          [
           "Lyra2RE"
          ],
          [
           "X11"
          ],
          [
           "CryptoNight-V7"
          ],
          [
           "Scrypt"
          ],
          [
           "X11"
          ],
          [
           "Equihash"
          ],
          [
           "Scrypt"
          ],
          [
           "Lyra2RE"
          ],
          [
           "Dagger-Hashimoto"
          ],
          [
           "Scrypt"
          ],
          [
           "NIST5"
          ],
          [
           "Scrypt"
          ],
          [
           "SHA-256"
          ],
          [
           "Scrypt"
          ],
          [
           "CryptoNight-V7"
          ],
          [
           "Argon2d"
          ],
          [
           "Blake2b"
          ],
          [
           "Cloverhash"
          ],
          [
           "CryptoNight"
          ],
          [
           "X11"
          ],
          [
           "Scrypt"
          ],
          [
           "Scrypt"
          ],
          [
           "X11"
          ],
          [
           "X11"
          ],
          [
           "CryptoNight"
          ],
          [
           "Time Travel"
          ],
          [
           "Scrypt"
          ],
          [
           "Keccak"
          ],
          [
           "X11"
          ],
          [
           "SHA-256"
          ],
          [
           "Scrypt"
          ],
          [
           "Scrypt"
          ],
          [
           "Scrypt"
          ],
          [
           "Scrypt"
          ],
          [
           "Scrypt"
          ],
          [
           "Scrypt"
          ],
          [
           "CryptoNight"
          ],
          [
           "Equihash"
          ],
          [
           "X11"
          ],
          [
           "NeoScrypt"
          ],
          [
           "Equihash"
          ],
          [
           "Dagger"
          ],
          [
           "Scrypt"
          ],
          [
           "X11"
          ],
          [
           "NeoScrypt"
          ],
          [
           "Ethash"
          ],
          [
           "NeoScrypt"
          ],
          [
           "Multiple"
          ],
          [
           "CryptoNight"
          ],
          [
           "CryptoNight"
          ],
          [
           "Ethash"
          ],
          [
           "X11"
          ],
          [
           "CryptoNight-V7"
          ],
          [
           "Scrypt"
          ],
          [
           "BLAKE256"
          ],
          [
           "X11"
          ],
          [
           "NeoScrypt"
          ],
          [
           "NeoScrypt"
          ],
          [
           "Scrypt"
          ],
          [
           "X11"
          ],
          [
           "SHA-256"
          ],
          [
           "C11"
          ],
          [
           "CryptoNight"
          ],
          [
           "SkunkHash"
          ],
          [
           "CryptoNight"
          ],
          [
           "Scrypt"
          ],
          [
           "Dagger"
          ],
          [
           "Lyra2REv2"
          ],
          [
           "Scrypt"
          ],
          [
           "Scrypt"
          ],
          [
           "X11"
          ],
          [
           "Ethash"
          ],
          [
           "CryptoNight"
          ],
          [
           "Scrypt"
          ],
          [
           "IMesh"
          ],
          [
           "Equihash"
          ],
          [
           "Lyra2Z"
          ],
          [
           "X11"
          ],
          [
           "CryptoNight"
          ],
          [
           "NIST5"
          ],
          [
           "Lyra2RE"
          ],
          [
           "Tribus"
          ],
          [
           "Lyra2Z"
          ],
          [
           "CryptoNight"
          ],
          [
           "CryptoNight Heavy"
          ],
          [
           "CryptoNight"
          ],
          [
           "Jump Consistent Hash"
          ],
          [
           "CryptoNight"
          ],
          [
           "X16R"
          ],
          [
           "HMQ1725"
          ],
          [
           "X11"
          ],
          [
           "Scrypt"
          ],
          [
           "CryptoNight-V7"
          ],
          [
           "Cryptonight-GPU"
          ],
          [
           "XEVAN"
          ],
          [
           "CryptoNight Heavy"
          ],
          [
           "SHA-256"
          ],
          [
           "X11"
          ],
          [
           "X16R"
          ],
          [
           "Equihash"
          ],
          [
           "Lyra2Z"
          ],
          [
           "SHA-256"
          ],
          [
           "CryptoNight"
          ],
          [
           "Blake"
          ],
          [
           "Blake"
          ],
          [
           "Exosis"
          ],
          [
           "Scrypt"
          ],
          [
           "Equihash"
          ],
          [
           "Equihash"
          ],
          [
           "QuBit"
          ],
          [
           "SHA-256"
          ],
          [
           "X13"
          ],
          [
           "SHA-256"
          ],
          [
           "Scrypt"
          ],
          [
           "NeoScrypt"
          ],
          [
           "Blake"
          ],
          [
           "Scrypt"
          ],
          [
           "SHA-256"
          ],
          [
           "Scrypt"
          ],
          [
           "Groestl"
          ],
          [
           "Scrypt"
          ],
          [
           "Scrypt"
          ],
          [
           "Multiple"
          ],
          [
           "Equihash+Scrypt"
          ],
          [
           "Ethash"
          ],
          [
           "CryptoNight"
          ],
          [
           "Equihash"
          ]
         ],
         "hovertemplate": "<b>%{hovertext}</b><br><br>Class=%{marker.color}<br>PC1=%{x}<br>PC2=%{y}<br>PC3=%{z}<br>Algorithm=%{customdata[0]}<extra></extra>",
         "hovertext": [
          "Bitcoin",
          "Ethereum",
          "Litecoin",
          "Monero",
          "Ethereum Classic",
          "ZCash",
          "DigiByte",
          "ProsperCoin",
          "Spreadcoin",
          "Argentum",
          "MyriadCoin",
          "MoonCoin",
          "ZetaCoin",
          "SexCoin",
          "Quatloo",
          "QuarkCoin",
          "Riecoin",
          "Digitalcoin ",
          "Catcoin",
          "CannaCoin",
          "CryptCoin",
          "Verge",
          "DevCoin",
          "EarthCoin",
          "E-Gulden",
          "Einsteinium",
          "Emerald",
          "Franko",
          "FeatherCoin",
          "GrandCoin",
          "GlobalCoin",
          "GoldCoin",
          "Infinite Coin",
          "IXcoin",
          "KrugerCoin",
          "LuckyCoin",
          "Litebar ",
          "MegaCoin",
          "MediterraneanCoin",
          "MinCoin",
          "NobleCoin",
          "Namecoin",
          "NyanCoin",
          "RonPaulCoin",
          "StableCoin",
          "SmartCoin",
          "SysCoin",
          "TigerCoin",
          "TerraCoin",
          "UnbreakableCoin",
          "Unobtanium",
          "UroCoin",
          "ViaCoin",
          "Vertcoin",
          "WorldCoin",
          "JouleCoin",
          "ByteCoin",
          "DigitalNote ",
          "MonaCoin",
          "Gulden",
          "PesetaCoin",
          "Wild Beast Coin",
          "Flo",
          "ArtByte",
          "Folding Coin",
          "Unitus",
          "CypherPunkCoin",
          "OmniCron",
          "GreenCoin",
          "Cryptonite",
          "MasterCoin",
          "SoonCoin",
          "1Credit",
          "MarsCoin ",
          "Crypto",
          "Anarchists Prime",
          "BowsCoin",
          "Song Coin",
          "BitZeny",
          "Expanse",
          "Siacoin",
          "MindCoin",
          "I0coin",
          "Revolution VR",
          "HOdlcoin",
          "Gamecredits",
          "CarpeDiemCoin",
          "Adzcoin",
          "SoilCoin",
          "YoCoin",
          "SibCoin",
          "Francs",
          "BolivarCoin",
          "Omni",
          "PizzaCoin",
          "Komodo",
          "Karbo",
          "ZayedCoin",
          "Circuits of Value",
          "DopeCoin",
          "DollarCoin",
          "Shilling",
          "ZCoin",
          "Elementrem",
          "ZClassic",
          "KiloCoin",
          "ArtexCoin",
          "Kurrent",
          "Cannabis Industry Coin",
          "OsmiumCoin",
          "Bikercoins",
          "HexxCoin",
          "PacCoin",
          "Citadel",
          "BeaverCoin",
          "VaultCoin",
          "Zero",
          "Canada eCoin",
          "Zoin",
          "DubaiCoin",
          "EB3coin",
          "Coinonat",
          "BenjiRolls",
          "ILCoin",
          "EquiTrader",
          "Quantum Resistant Ledger",
          "Dynamic",
          "Nano",
          "ChanCoin",
          "Dinastycoin",
          "DigitalPrice",
          "Unify",
          "SocialCoin",
          "ArcticCoin",
          "DAS",
          "LeviarCoin",
          "Bitcore",
          "gCn Coin",
          "SmartCash",
          "Onix",
          "Bitcoin Cash",
          "Sojourn Coin",
          "NewYorkCoin",
          "FrazCoin",
          "Kronecoin",
          "AdCoin",
          "Linx",
          "Sumokoin",
          "BitcoinZ",
          "Elements",
          "VIVO Coin",
          "Bitcoin Gold",
          "Pirl",
          "eBoost",
          "Pura",
          "Innova",
          "Ellaism",
          "GoByte",
          "SHIELD",
          "UltraNote",
          "BitCoal",
          "DaxxCoin",
          "AC3",
          "Lethean",
          "PopularCoin",
          "Photon",
          "Sucre",
          "SparksPay",
          "GunCoin",
          "IrishCoin",
          "Pioneer Coin",
          "UnitedBitcoin",
          "Interzone",
          "TurtleCoin",
          "MUNcoin",
          "Niobio Cash",
          "ShareChain",
          "Travelflex",
          "KREDS",
          "BitFlip",
          "LottoCoin",
          "Crypto Improvement Fund",
          "Callisto Network",
          "BitTube",
          "Poseidon",
          "Aidos Kuneen",
          "Bitrolium",
          "Alpenschillling",
          "FuturoCoin",
          "Monero Classic",
          "Jumpcoin",
          "Infinex",
          "KEYCO",
          "GINcoin",
          "PlatinCoin",
          "Loki",
          "Newton Coin",
          "MassGrid",
          "PluraCoin",
          "Motion",
          "PlusOneCoin",
          "Axe",
          "HexCoin",
          "Webchain",
          "Ryo",
          "Urals Coin",
          "Qwertycoin",
          "Project Pai",
          "Azart",
          "Xchange",
          "CrypticCoin",
          "Actinium",
          "Bitcoin SV",
          "FREDEnergy",
          "Universal Molecule",
          "Lithium",
          "Exosis",
          "Block-Logic",
          "Beam",
          "Bithereum",
          "SLICE",
          "BLAST",
          "Bitcoin Rhodium",
          "GlobalToken",
          "SolarCoin",
          "UFO Coin",
          "BlakeCoin",
          "Crypto Escudo",
          "Crown Coin",
          "SmileyCoin",
          "Groestlcoin",
          "Bata",
          "Pakcoin",
          "JoinCoin",
          "Vollar",
          "Reality Clash",
          "Beldex",
          "Horizen"
         ],
         "legendgroup": "0",
         "marker": {
          "color": [
           0,
           0,
           0,
           0,
           0,
           0,
           0,
           0,
           0,
           0,
           0,
           0,
           0,
           0,
           0,
           0,
           0,
           0,
           0,
           0,
           0,
           0,
           0,
           0,
           0,
           0,
           0,
           0,
           0,
           0,
           0,
           0,
           0,
           0,
           0,
           0,
           0,
           0,
           0,
           0,
           0,
           0,
           0,
           0,
           0,
           0,
           0,
           0,
           0,
           0,
           0,
           0,
           0,
           0,
           0,
           0,
           0,
           0,
           0,
           0,
           0,
           0,
           0,
           0,
           0,
           0,
           0,
           0,
           0,
           0,
           0,
           0,
           0,
           0,
           0,
           0,
           0,
           0,
           0,
           0,
           0,
           0,
           0,
           0,
           0,
           0,
           0,
           0,
           0,
           0,
           0,
           0,
           0,
           0,
           0,
           0,
           0,
           0,
           0,
           0,
           0,
           0,
           0,
           0,
           0,
           0,
           0,
           0,
           0,
           0,
           0,
           0,
           0,
           0,
           0,
           0,
           0,
           0,
           0,
           0,
           0,
           0,
           0,
           0,
           0,
           0,
           0,
           0,
           0,
           0,
           0,
           0,
           0,
           0,
           0,
           0,
           0,
           0,
           0,
           0,
           0,
           0,
           0,
           0,
           0,
           0,
           0,
           0,
           0,
           0,
           0,
           0,
           0,
           0,
           0,
           0,
           0,
           0,
           0,
           0,
           0,
           0,
           0,
           0,
           0,
           0,
           0,
           0,
           0,
           0,
           0,
           0,
           0,
           0,
           0,
           0,
           0,
           0,
           0,
           0,
           0,
           0,
           0,
           0,
           0,
           0,
           0,
           0,
           0,
           0,
           0,
           0,
           0,
           0,
           0,
           0,
           0,
           0,
           0,
           0,
           0,
           0,
           0,
           0,
           0,
           0,
           0,
           0,
           0,
           0,
           0,
           0,
           0,
           0,
           0,
           0,
           0,
           0,
           0,
           0,
           0,
           0,
           0,
           0,
           0,
           0,
           0,
           0,
           0,
           0,
           0,
           0,
           0,
           0,
           0,
           0,
           0,
           0
          ],
          "coloraxis": "coloraxis",
          "symbol": "diamond"
         },
         "mode": "markers",
         "name": "0",
         "scene": "scene",
         "showlegend": true,
         "type": "scatter3d",
         "x": [
          -0.15238196096645154,
          -0.15955965797672303,
          -0.1612161307407027,
          -0.15007646223252422,
          -0.15800291076366946,
          -0.1532922014120794,
          0.15184883522569279,
          -0.1623615704908938,
          -0.2233342767757743,
          -0.16197840273219224,
          -0.1013741601256516,
          2.557340774139078,
          -0.14946891850167748,
          -0.15923575832527015,
          -0.16178259778990356,
          -0.2237487648055151,
          -0.21386337848866807,
          -0.16183127885576193,
          -0.16234384779824546,
          -0.16243023917788993,
          -0.22342355997642854,
          0.17558800026956065,
          0.22520019475588823,
          0.0861263532043722,
          -0.1621767045633126,
          -0.1577851335889339,
          -0.16211604946746683,
          -0.16248720369662223,
          -0.1837301597109265,
          -0.14172436760549065,
          -0.16128314325985382,
          -0.16156041685759953,
          1.5852055043486684,
          -0.1523433549888692,
          -0.15885175367853652,
          -0.16220312819420996,
          -0.16255769485068658,
          -0.16181746260185165,
          -0.15039065753415823,
          -0.16243904667994563,
          -0.027447253854339205,
          -0.15242091612456957,
          -0.15610736665322225,
          -0.16241851364770316,
          -0.16051432196831478,
          -0.16190561765649097,
          -0.139582158524873,
          -0.1518850550688902,
          -0.15217207147988202,
          -0.15215511033282733,
          -0.1527453502069956,
          -0.22359732324997666,
          -0.16213518581058461,
          -0.1939048678531106,
          -0.15924048677499522,
          -0.1519523047276268,
          3.8531674610132693,
          0.4544989897897862,
          -0.1610035940315718,
          -0.14561408410377327,
          -0.1597232968238815,
          -0.16255990420545602,
          -0.1595884148684655,
          -0.14582177526400844,
          -0.11959225727987316,
          -0.13535683009087748,
          -0.18802628407751304,
          -0.16243306346724126,
          -0.03546326630454895,
          -0.09568021692565178,
          -0.16256878880993553,
          -0.15244867598210315,
          0.4890681997261782,
          -0.22298493669045769,
          -0.1627583536101688,
          -0.152188740966744,
          -0.22326964065506524,
          -0.16069400323414826,
          -0.15988680402345945,
          -0.1606264567310832,
          0.3743285117880337,
          -0.22330500920477048,
          -0.15234447662656087,
          -0.15852945931208565,
          -0.14203906548812553,
          -0.1611331500769314,
          0.26584856533861534,
          -0.2224663424711798,
          -0.13981417433851323,
          -0.16138051532837588,
          -0.1474784631740435,
          -0.16235885618093263,
          -0.22326828633597492,
          -0.1625688472641234,
          -0.22341816213983862,
          -0.2629836077162607,
          0.2995136996911375,
          -0.15260438345549973,
          -0.11544334072489414,
          -0.15973758761320536,
          -0.15256304044342672,
          -0.16223249501465697,
          -0.16099007862132486,
          -0.16036878812460634,
          -0.15331380475163056,
          -0.08935291071370566,
          -0.21001054426773885,
          -0.22124792601251647,
          0.29950805437539363,
          -0.16255059914547304,
          0.29963868274385663,
          -0.16329839045170647,
          0.4912566745424228,
          -0.14884216574540368,
          -0.1625189071542542,
          -0.2161579665717994,
          -0.15332616704252092,
          -0.16065347032139632,
          -0.16301696204161642,
          -0.17392188630730004,
          -0.13346569557241544,
          -0.20486037655583403,
          -0.16208159963755453,
          -0.1189537909914002,
          -0.16190382010445842,
          -0.14869989819137783,
          -0.15971897752196576,
          -0.025721023671822527,
          -0.17648233121974224,
          0.33560483408160935,
          -0.22247474943972712,
          -0.1622228171866187,
          -0.16198641326916355,
          -0.22286913222602311,
          -0.22344616979543272,
          0.29990275272185174,
          -0.16491433030491764,
          3.244732923373171,
          -0.11612536552041924,
          -0.21432535492794524,
          -0.15238112571376705,
          -0.08820196197536266,
          1.5833422513150777,
          -0.16232060351841107,
          -0.16177266955103525,
          -0.16147385320245294,
          -0.16146079241599132,
          0.3000862051048545,
          0.058840820992863925,
          -0.17786412478570696,
          -0.1884155602314124,
          -0.15317232063935143,
          -0.1385742057174709,
          -0.1606516806118703,
          -0.2189938130370916,
          -0.18826109137300215,
          -0.15873532590075712,
          -0.1883612174054635,
          -0.1255956171865537,
          1.1368189575566843,
          0.2994908449880459,
          -0.08368364881088639,
          -0.2187357869464288,
          -0.13781992517971417,
          -0.07876742153709342,
          1.0791707497098877,
          -0.2234201859493991,
          -0.188413113354715,
          -0.18145596326911567,
          -0.16157213131312784,
          -0.22334564446654823,
          -0.15236053519294226,
          -0.2019853587158576,
          8.031243669317256,
          -0.17503176901234477,
          0.30336243707225313,
          0.030337372264302845,
          -0.13807766973429764,
          -0.1794732728645201,
          -0.16214546402474714,
          0.14471446252284612,
          -0.21749083271512787,
          -0.11181098056850124,
          0.3074077895634211,
          -0.16238230202798806,
          -0.1737763127552887,
          -0.1521641091361382,
          -0.15877532614248052,
          -0.2225154960853887,
          0.2996732411819188,
          -0.20491976796419858,
          -0.1631437463073759,
          -0.16084213629455082,
          -0.16107438873365945,
          0.30359827703077474,
          0.567412065233234,
          2.1067947653443757,
          -0.15163129012143914,
          0.313268407172998,
          -0.20624997716082158,
          -0.15643867240249246,
          -0.22340235888115553,
          -0.16240686964524853,
          -0.13770077617683046,
          -0.18761784104337653,
          -0.11109170431344202,
          3.088152844508173,
          -0.11223677035281517,
          -0.22337374738875798,
          -0.20567815492181935,
          -0.0479941739086324,
          -0.1604726099394769,
          -0.1523811632554647,
          0.3793733283338496,
          -0.14589762893029976,
          -0.14628930976180715,
          -0.14853104100251865,
          -0.16129998428944833,
          -0.15123394063026016,
          -0.15300525701419104,
          -0.187237876057447,
          -0.1516578147701386,
          -0.11972994948765632,
          -0.15052659374326996,
          0.5329525856539746,
          -0.11363078589916724,
          -0.09679441798452178,
          -0.14597226619623763,
          -0.15217144232881663,
          0.5527572327354555,
          -0.21342468123203326,
          -0.1624836389680605,
          -0.1604408548211352,
          -0.13609125435265051,
          -0.09485074899575538,
          -0.16040192364188202,
          0.32123255029649983,
          -0.1532932576920064
         ],
         "y": [
          -1.2939331664588853,
          -1.9573405434474571,
          -1.1877820488840944,
          -2.1804963469029635,
          -1.957390507124901,
          -1.8994441370625286,
          -1.7639184524706424,
          -1.1878073654292893,
          -0.9114082406497551,
          -1.1878137696792066,
          -1.7660742567059609,
          -1.286695840704814,
          -1.2938610330235434,
          -1.1877769972340428,
          -1.1878265570151203,
          -0.41972223009218623,
          -1.1889106593646013,
          -1.1877942879360084,
          -1.1878063124985583,
          -1.187806113349886,
          -0.9114121884051466,
          -1.7594928346240153,
          -1.2857314482491504,
          -1.1821877404956822,
          -1.1877963822779058,
          -1.1877245899496103,
          -1.1878002404569945,
          -1.187808205999962,
          -1.5758366682595915,
          -1.1875306964563466,
          -1.1877765333761943,
          -1.1877945299580306,
          -1.1454256211696987,
          -1.2939308728220655,
          -1.1877646435738418,
          -1.1877972737997624,
          -1.1878056879975272,
          -1.187789284422316,
          -2.1889674318134626,
          -1.187804506615608,
          -1.1899528285419672,
          -1.2939354808410013,
          -1.1876501509151782,
          -1.187810748504363,
          -1.187852958544107,
          -1.1878007626075724,
          -1.2937608361260808,
          -1.29392128962954,
          -1.2939349418492239,
          -1.2939597112412824,
          -1.2939406802963367,
          -0.9114103017368723,
          -1.1877952722772545,
          -1.2724033297147948,
          -1.1877877387677596,
          -1.293923920222005,
          -2.194728800638433,
          -2.2782996259088284,
          -1.18778374840043,
          -1.1879377460783054,
          -1.1877492435303991,
          -1.1878066861823238,
          -1.187736898093055,
          -1.187488811277524,
          -2.086443658869453,
          -1.766736527810821,
          -1.5664520567782978,
          -1.1877996546294443,
          -1.187037350578184,
          -2.364469815090011,
          -1.1878058515603107,
          -1.2939371300941747,
          -1.2114984011914351,
          -0.911396304325589,
          -2.1132687525225307,
          -1.2939439095348593,
          -0.9114050788687661,
          -1.1878366627032608,
          -1.1878156767979544,
          -1.9574153918558004,
          -2.278112598013925,
          -0.9114037884444902,
          -1.293930939460179,
          -1.1877079012244,
          -2.5240730206390585,
          -1.1877771188831756,
          -1.2837413033106235,
          -0.9114000894474819,
          -2.3284678922015822,
          -1.187849034421691,
          -2.0312524467961075,
          -1.1878065258240547,
          -0.9114077117833757,
          -1.1878058529777755,
          -0.911416616121044,
          -0.879649730724732,
          -2.2807308673161164,
          -1.2939387400310667,
          -1.766367451684934,
          -1.1877728944275645,
          -1.2939368958516757,
          -1.1878058019665694,
          -2.156851929629168,
          -1.9574063914109776,
          -1.8994454205480864,
          -1.1902390120758142,
          -0.9109422636842364,
          -0.9114253831281411,
          -2.2807386644982808,
          -1.1878061918868938,
          -2.2807336170551684,
          -2.113262992679034,
          -0.936774211211024,
          -2.1805485092389922,
          -1.1878047470363118,
          -0.9116466629920162,
          -1.8994434416329584,
          -1.1877594739237123,
          -2.1132537343977873,
          -2.0317533533408008,
          -1.188789751257085,
          -0.5045893826971506,
          -1.1878005817857122,
          -1.2936287658531715,
          -1.1878147653710445,
          -2.1804857893852243,
          -2.226856686447146,
          -2.3021109464521214,
          -2.1631617292967245,
          -2.2799365458571326,
          -0.9114114424242473,
          -1.187797952972698,
          -1.1878217073825756,
          -0.9114077395077891,
          -0.9114141421968515,
          -2.2807376002577002,
          -2.207275236995097,
          -1.1210415553670905,
          -1.4286783326920227,
          -0.9116056193076323,
          -1.2939331168353072,
          -1.190509804633762,
          -1.084078338376458,
          -1.1878042531782038,
          -1.187815113657491,
          -1.187808214053887,
          -1.1878074380937262,
          -2.2807503677606342,
          -1.9010719904850957,
          -0.9099142459534907,
          -1.575905426315149,
          -1.8994370147729187,
          -2.3284799033125654,
          -1.187759367594488,
          -0.9113742210133596,
          -1.5759084592924542,
          -1.9574815050560816,
          -1.5759054537814743,
          -1.766604307222754,
          -2.2886378249061488,
          -2.280733921007402,
          -1.9596160819587642,
          -0.9114945601441576,
          -2.1804461608137924,
          -1.186218392071362,
          -1.1580970838130102,
          -0.9114132089688314,
          -1.5759012108776853,
          -1.5758128034120333,
          -1.1877896325082482,
          -0.9114109510531543,
          -1.2939313277837348,
          -1.2837089655996867,
          -2.499715020092998,
          -2.1175006569563317,
          -2.280723348475164,
          -1.1831280397386863,
          -2.3284122080500866,
          -1.2722351255138789,
          -1.187807414771586,
          -1.1820355575632724,
          -0.9113866784094724,
          -1.9589129627283413,
          -2.2809334287747016,
          -1.1878085971198085,
          -2.0365611744611547,
          -1.8994103543374836,
          -2.156909334674486,
          -0.9114138632412336,
          -2.2807270868170324,
          -0.504574424991197,
          -2.113264848491064,
          -2.2237346456791904,
          -2.156849544663142,
          -2.2808884200940094,
          -2.1808833254692366,
          -2.2981662355296497,
          -2.2592656533183773,
          -2.2805852410299376,
          -1.2748318777699932,
          -2.0701154495363427,
          -0.9114129638499937,
          -1.18781080646609,
          -2.180948191833985,
          -2.003148263651603,
          -0.5792410046858247,
          -2.156154876671182,
          -1.2929583603033181,
          -0.9114139773766247,
          -1.2748507644802658,
          -1.89832939980668,
          -2.156863650413176,
          -1.293933119065714,
          -2.281460529010547,
          -2.3461953025866467,
          -2.3461643791794287,
          -2.3496805105542617,
          -1.1878114511342992,
          -1.8994858764399976,
          -1.8994337953924114,
          -1.566473050737224,
          -1.2939193126880308,
          -0.36108446951184,
          -1.2939226530084544,
          -1.213029065936556,
          -1.5741574163797152,
          -2.3479551116193558,
          -1.1874977521608563,
          -1.2939349044704516,
          -1.1792240889563852,
          -1.188898840955329,
          -1.1878037641869346,
          -1.187802466351718,
          -1.7667820603791111,
          -2.4695129922809795,
          -1.9574071949193028,
          -2.2803835684727156,
          -1.8994441998176403
         ],
         "z": [
          0.20455117789871297,
          0.4035930319515628,
          -0.032735020300359345,
          0.35076422380651284,
          0.40357899966917116,
          0.4131812170500172,
          0.3337511355651918,
          -0.03271719394500325,
          0.073443554897283,
          -0.03272135991749896,
          0.3372762220694832,
          -0.0558304761426744,
          0.2045049061263609,
          -0.0327611619490718,
          -0.03272233906571568,
          0.0916524679159544,
          0.06696155550220913,
          -0.032725610790044844,
          -0.03271754966216763,
          -0.03271645995799768,
          0.0734451829862589,
          0.3329103049145405,
          0.19869226157173098,
          -0.03659979602351169,
          -0.032720904441193514,
          -0.03278619637621399,
          -0.032721220200394696,
          -0.03271547269264531,
          0.22293555718448826,
          -0.03301668353220791,
          -0.032734822848523915,
          -0.032729073532632054,
          -0.06036837526267063,
          0.2045504030272355,
          -0.03276760537683288,
          -0.03272045605470997,
          -0.03271486818160672,
          -0.032726393524944025,
          0.35011428932411126,
          -0.03271654056489441,
          -0.03419727361171446,
          0.20455195977867321,
          -0.032816821419903455,
          -0.03271605102283708,
          -0.03273549953745986,
          -0.03272387001903087,
          0.2043653371541607,
          0.20454333655260132,
          0.2045486865106149,
          0.20455146092600582,
          0.2045567707160796,
          0.07344719518393575,
          -0.03272157383645896,
          0.2280070237322035,
          -0.032759803005177196,
          0.20454452141912785,
          0.36332417065965367,
          0.41723876636325874,
          -0.03273755498523949,
          -0.032917349791279985,
          -0.03275823023807742,
          -0.032714719079788825,
          -0.03276146095015567,
          -0.03296892053719509,
          0.3791967591085697,
          0.33779435849150685,
          0.24118943586250438,
          -0.03271720400494569,
          -0.03444623030088892,
          0.44459155342277235,
          -0.032714705392265904,
          0.2045525169546058,
          -0.03825273662452014,
          0.07343760879954359,
          0.4241328701182194,
          0.20454998505187677,
          0.07344233953713518,
          -0.03273515221805167,
          -0.032748094627178294,
          0.40361582978208493,
          0.2851491467933321,
          0.0734426395809385,
          0.20455042553994215,
          -0.032778617062533266,
          0.3047424869440747,
          -0.03273668582867455,
          0.19792773262054528,
          0.07343138040168716,
          0.3647043619352565,
          -0.03272480664292099,
          0.5968367505352101,
          -0.03271733039435155,
          0.07344264023288408,
          -0.0327147044673835,
          0.073445648432429,
          0.5573796118187372,
          0.41953064287147634,
          0.20455471889690247,
          0.33749303282888105,
          -0.03275518807521507,
          0.20455396305070972,
          -0.03271904692829791,
          0.387731411243066,
          0.40361142029036234,
          0.41318165065674023,
          -0.033364596043596186,
          0.0732154759432953,
          0.07341872885327955,
          0.4195316578465423,
          -0.03271489877143844,
          0.41952936384637274,
          0.4241391363359811,
          0.06729612564004073,
          0.35075461428193383,
          -0.03271548194137401,
          0.0733798474244551,
          0.4131815709050994,
          -0.03274500210170669,
          0.424134389373383,
          0.4624561215193776,
          -0.032971013896799746,
          0.03935909871979636,
          -0.03272162308663363,
          0.20408343447308372,
          -0.032722201129124266,
          0.35074520121633074,
          0.3068354312172431,
          0.2932065467214434,
          0.22901158022495385,
          0.4189693671684209,
          0.07343286065500228,
          -0.032720120151851814,
          -0.032720297469410665,
          0.07343749763648309,
          0.07344571056701582,
          0.41952644074369283,
          0.2600565708916401,
          -0.08470973670010806,
          0.0773922510273796,
          0.07335126152583439,
          0.20455116113411148,
          -0.033346712226781906,
          -0.06775742924616389,
          -0.032718098174333576,
          -0.032723849852876595,
          -0.03272853596543927,
          -0.032728798112169256,
          0.41952561844969755,
          0.41064307695746843,
          0.07267681665566064,
          0.22300427055306052,
          0.41317881088920483,
          0.3646898274960833,
          -0.03274503802347149,
          0.07338348621519242,
          0.22300264561903382,
          0.4035994380567449,
          0.22300357327727188,
          0.3376525384137309,
          0.40969145483166514,
          0.4195313065188386,
          0.40288979983741424,
          0.07339470123419518,
          0.3506001465606583,
          -0.03398690872020883,
          0.05950116755672648,
          0.07344526281061156,
          0.22300372962310408,
          0.22290335417150928,
          -0.032729514305775996,
          0.07344402897041367,
          0.20455067949325612,
          0.08254798730544192,
          0.3463137568719113,
          0.43775664972949724,
          0.4194801158891741,
          -0.035766933482513634,
          0.36467524593812367,
          0.22780064429949076,
          -0.032719974055177875,
          -0.0373735109904989,
          0.07336561492320198,
          0.40316745761324807,
          0.41945334833708575,
          -0.03271677783647312,
          0.539592521550793,
          0.4131625913053678,
          0.3877097950705158,
          0.07343367849242355,
          0.41952812921440763,
          0.039358056944135904,
          0.42413736689599546,
          0.3310790393458208,
          0.38773220998574365,
          0.41949702231346464,
          0.43610284781473213,
          0.39833779379227074,
          0.38452922200757683,
          0.4193357182275367,
          0.12777628058485144,
          0.39111804390365745,
          0.07344500336209606,
          -0.03271619413485509,
          0.3506592748378694,
          0.2902377319132824,
          0.0635720267566879,
          0.4006169975190215,
          0.2039158273897797,
          0.07344475697142909,
          0.12777119080830782,
          0.4116889987400975,
          0.3877261562843299,
          0.2045511618876216,
          0.4185892529489113,
          0.37280405458271554,
          0.37280536746398785,
          0.3263211461008539,
          -0.032730386344100595,
          0.41315972538271234,
          0.4131762680601802,
          0.24118180846942705,
          0.2045401680517834,
          -0.09232027848440717,
          0.204525987840795,
          -0.038633537545200214,
          0.22182890973609007,
          0.3723836612017228,
          -0.03296589999123509,
          0.20454867388274645,
          -0.042973783203390625,
          0.06695447164881178,
          -0.032716055388835104,
          -0.03274254805467777,
          0.3378093288431428,
          0.47588502465619414,
          0.4036119445719878,
          0.41920867377811455,
          0.4131812382509094
         ]
        },
        {
         "customdata": [
          [
           "Proof-of-BibleHash"
          ],
          [
           "SHA-256 + Hive"
          ],
          [
           "Proof-of-Authority"
          ],
          [
           "ECC 256K1"
          ],
          [
           "Leased POS"
          ]
         ],
         "hovertemplate": "<b>%{hovertext}</b><br><br>Class=%{marker.color}<br>PC1=%{x}<br>PC2=%{y}<br>PC3=%{z}<br>Algorithm=%{customdata[0]}<extra></extra>",
         "hovertext": [
          "BiblePay",
          "LitecoinCash",
          "Poa Network",
          "Acute Angle Cloud",
          "Waves"
         ],
         "legendgroup": "1",
         "marker": {
          "color": [
           1,
           1,
           1,
           1,
           1
          ],
          "coloraxis": "coloraxis",
          "symbol": "square"
         },
         "mode": "markers",
         "name": "1",
         "scene": "scene",
         "showlegend": true,
         "type": "scatter3d",
         "x": [
          -0.20162733570539976,
          -0.35580104380053207,
          -0.4036375997191964,
          -0.33610813397786915,
          -0.4151107250050536
         ],
         "y": [
          2.5840394184223547,
          3.6843841990697253,
          2.358777690901938,
          1.8909764120482646,
          4.026371041379307
         ],
         "z": [
          10.983686970790712,
          15.604875102494288,
          12.95505797819629,
          13.915780027064237,
          16.37408173209102
         ]
        },
        {
         "customdata": [
          [
           "TRC10"
          ]
         ],
         "hovertemplate": "<b>%{hovertext}</b><br><br>Class=%{marker.color}<br>PC1=%{x}<br>PC2=%{y}<br>PC3=%{z}<br>Algorithm=%{customdata[0]}<extra></extra>",
         "hovertext": [
          "BitTorrent"
         ],
         "legendgroup": "2",
         "marker": {
          "color": [
           2
          ],
          "coloraxis": "coloraxis",
          "symbol": "x"
         },
         "mode": "markers",
         "name": "2",
         "scene": "scene",
         "showlegend": true,
         "type": "scatter3d",
         "x": [
          34.04807377581182
         ],
         "y": [
          2.256426682035669
         ],
         "z": [
          -0.4728368370850029
         ]
        }
       ],
       "layout": {
        "coloraxis": {
         "colorbar": {
          "title": {
           "text": "Class"
          }
         },
         "colorscale": [
          [
           0,
           "#0d0887"
          ],
          [
           0.1111111111111111,
           "#46039f"
          ],
          [
           0.2222222222222222,
           "#7201a8"
          ],
          [
           0.3333333333333333,
           "#9c179e"
          ],
          [
           0.4444444444444444,
           "#bd3786"
          ],
          [
           0.5555555555555556,
           "#d8576b"
          ],
          [
           0.6666666666666666,
           "#ed7953"
          ],
          [
           0.7777777777777778,
           "#fb9f3a"
          ],
          [
           0.8888888888888888,
           "#fdca26"
          ],
          [
           1,
           "#f0f921"
          ]
         ]
        },
        "legend": {
         "title": {
          "text": "Class"
         },
         "tracegroupgap": 0,
         "x": 0,
         "y": 1
        },
        "margin": {
         "t": 60
        },
        "scene": {
         "domain": {
          "x": [
           0,
           1
          ],
          "y": [
           0,
           1
          ]
         },
         "xaxis": {
          "title": {
           "text": "PC1"
          }
         },
         "yaxis": {
          "title": {
           "text": "PC2"
          }
         },
         "zaxis": {
          "title": {
           "text": "PC3"
          }
         }
        },
        "template": {
         "data": {
          "bar": [
           {
            "error_x": {
             "color": "#2a3f5f"
            },
            "error_y": {
             "color": "#2a3f5f"
            },
            "marker": {
             "line": {
              "color": "#E5ECF6",
              "width": 0.5
             },
             "pattern": {
              "fillmode": "overlay",
              "size": 10,
              "solidity": 0.2
             }
            },
            "type": "bar"
           }
          ],
          "barpolar": [
           {
            "marker": {
             "line": {
              "color": "#E5ECF6",
              "width": 0.5
             },
             "pattern": {
              "fillmode": "overlay",
              "size": 10,
              "solidity": 0.2
             }
            },
            "type": "barpolar"
           }
          ],
          "carpet": [
           {
            "aaxis": {
             "endlinecolor": "#2a3f5f",
             "gridcolor": "white",
             "linecolor": "white",
             "minorgridcolor": "white",
             "startlinecolor": "#2a3f5f"
            },
            "baxis": {
             "endlinecolor": "#2a3f5f",
             "gridcolor": "white",
             "linecolor": "white",
             "minorgridcolor": "white",
             "startlinecolor": "#2a3f5f"
            },
            "type": "carpet"
           }
          ],
          "choropleth": [
           {
            "colorbar": {
             "outlinewidth": 0,
             "ticks": ""
            },
            "type": "choropleth"
           }
          ],
          "contour": [
           {
            "colorbar": {
             "outlinewidth": 0,
             "ticks": ""
            },
            "colorscale": [
             [
              0,
              "#0d0887"
             ],
             [
              0.1111111111111111,
              "#46039f"
             ],
             [
              0.2222222222222222,
              "#7201a8"
             ],
             [
              0.3333333333333333,
              "#9c179e"
             ],
             [
              0.4444444444444444,
              "#bd3786"
             ],
             [
              0.5555555555555556,
              "#d8576b"
             ],
             [
              0.6666666666666666,
              "#ed7953"
             ],
             [
              0.7777777777777778,
              "#fb9f3a"
             ],
             [
              0.8888888888888888,
              "#fdca26"
             ],
             [
              1,
              "#f0f921"
             ]
            ],
            "type": "contour"
           }
          ],
          "contourcarpet": [
           {
            "colorbar": {
             "outlinewidth": 0,
             "ticks": ""
            },
            "type": "contourcarpet"
           }
          ],
          "heatmap": [
           {
            "colorbar": {
             "outlinewidth": 0,
             "ticks": ""
            },
            "colorscale": [
             [
              0,
              "#0d0887"
             ],
             [
              0.1111111111111111,
              "#46039f"
             ],
             [
              0.2222222222222222,
              "#7201a8"
             ],
             [
              0.3333333333333333,
              "#9c179e"
             ],
             [
              0.4444444444444444,
              "#bd3786"
             ],
             [
              0.5555555555555556,
              "#d8576b"
             ],
             [
              0.6666666666666666,
              "#ed7953"
             ],
             [
              0.7777777777777778,
              "#fb9f3a"
             ],
             [
              0.8888888888888888,
              "#fdca26"
             ],
             [
              1,
              "#f0f921"
             ]
            ],
            "type": "heatmap"
           }
          ],
          "heatmapgl": [
           {
            "colorbar": {
             "outlinewidth": 0,
             "ticks": ""
            },
            "colorscale": [
             [
              0,
              "#0d0887"
             ],
             [
              0.1111111111111111,
              "#46039f"
             ],
             [
              0.2222222222222222,
              "#7201a8"
             ],
             [
              0.3333333333333333,
              "#9c179e"
             ],
             [
              0.4444444444444444,
              "#bd3786"
             ],
             [
              0.5555555555555556,
              "#d8576b"
             ],
             [
              0.6666666666666666,
              "#ed7953"
             ],
             [
              0.7777777777777778,
              "#fb9f3a"
             ],
             [
              0.8888888888888888,
              "#fdca26"
             ],
             [
              1,
              "#f0f921"
             ]
            ],
            "type": "heatmapgl"
           }
          ],
          "histogram": [
           {
            "marker": {
             "pattern": {
              "fillmode": "overlay",
              "size": 10,
              "solidity": 0.2
             }
            },
            "type": "histogram"
           }
          ],
          "histogram2d": [
           {
            "colorbar": {
             "outlinewidth": 0,
             "ticks": ""
            },
            "colorscale": [
             [
              0,
              "#0d0887"
             ],
             [
              0.1111111111111111,
              "#46039f"
             ],
             [
              0.2222222222222222,
              "#7201a8"
             ],
             [
              0.3333333333333333,
              "#9c179e"
             ],
             [
              0.4444444444444444,
              "#bd3786"
             ],
             [
              0.5555555555555556,
              "#d8576b"
             ],
             [
              0.6666666666666666,
              "#ed7953"
             ],
             [
              0.7777777777777778,
              "#fb9f3a"
             ],
             [
              0.8888888888888888,
              "#fdca26"
             ],
             [
              1,
              "#f0f921"
             ]
            ],
            "type": "histogram2d"
           }
          ],
          "histogram2dcontour": [
           {
            "colorbar": {
             "outlinewidth": 0,
             "ticks": ""
            },
            "colorscale": [
             [
              0,
              "#0d0887"
             ],
             [
              0.1111111111111111,
              "#46039f"
             ],
             [
              0.2222222222222222,
              "#7201a8"
             ],
             [
              0.3333333333333333,
              "#9c179e"
             ],
             [
              0.4444444444444444,
              "#bd3786"
             ],
             [
              0.5555555555555556,
              "#d8576b"
             ],
             [
              0.6666666666666666,
              "#ed7953"
             ],
             [
              0.7777777777777778,
              "#fb9f3a"
             ],
             [
              0.8888888888888888,
              "#fdca26"
             ],
             [
              1,
              "#f0f921"
             ]
            ],
            "type": "histogram2dcontour"
           }
          ],
          "mesh3d": [
           {
            "colorbar": {
             "outlinewidth": 0,
             "ticks": ""
            },
            "type": "mesh3d"
           }
          ],
          "parcoords": [
           {
            "line": {
             "colorbar": {
              "outlinewidth": 0,
              "ticks": ""
             }
            },
            "type": "parcoords"
           }
          ],
          "pie": [
           {
            "automargin": true,
            "type": "pie"
           }
          ],
          "scatter": [
           {
            "marker": {
             "colorbar": {
              "outlinewidth": 0,
              "ticks": ""
             }
            },
            "type": "scatter"
           }
          ],
          "scatter3d": [
           {
            "line": {
             "colorbar": {
              "outlinewidth": 0,
              "ticks": ""
             }
            },
            "marker": {
             "colorbar": {
              "outlinewidth": 0,
              "ticks": ""
             }
            },
            "type": "scatter3d"
           }
          ],
          "scattercarpet": [
           {
            "marker": {
             "colorbar": {
              "outlinewidth": 0,
              "ticks": ""
             }
            },
            "type": "scattercarpet"
           }
          ],
          "scattergeo": [
           {
            "marker": {
             "colorbar": {
              "outlinewidth": 0,
              "ticks": ""
             }
            },
            "type": "scattergeo"
           }
          ],
          "scattergl": [
           {
            "marker": {
             "colorbar": {
              "outlinewidth": 0,
              "ticks": ""
             }
            },
            "type": "scattergl"
           }
          ],
          "scattermapbox": [
           {
            "marker": {
             "colorbar": {
              "outlinewidth": 0,
              "ticks": ""
             }
            },
            "type": "scattermapbox"
           }
          ],
          "scatterpolar": [
           {
            "marker": {
             "colorbar": {
              "outlinewidth": 0,
              "ticks": ""
             }
            },
            "type": "scatterpolar"
           }
          ],
          "scatterpolargl": [
           {
            "marker": {
             "colorbar": {
              "outlinewidth": 0,
              "ticks": ""
             }
            },
            "type": "scatterpolargl"
           }
          ],
          "scatterternary": [
           {
            "marker": {
             "colorbar": {
              "outlinewidth": 0,
              "ticks": ""
             }
            },
            "type": "scatterternary"
           }
          ],
          "surface": [
           {
            "colorbar": {
             "outlinewidth": 0,
             "ticks": ""
            },
            "colorscale": [
             [
              0,
              "#0d0887"
             ],
             [
              0.1111111111111111,
              "#46039f"
             ],
             [
              0.2222222222222222,
              "#7201a8"
             ],
             [
              0.3333333333333333,
              "#9c179e"
             ],
             [
              0.4444444444444444,
              "#bd3786"
             ],
             [
              0.5555555555555556,
              "#d8576b"
             ],
             [
              0.6666666666666666,
              "#ed7953"
             ],
             [
              0.7777777777777778,
              "#fb9f3a"
             ],
             [
              0.8888888888888888,
              "#fdca26"
             ],
             [
              1,
              "#f0f921"
             ]
            ],
            "type": "surface"
           }
          ],
          "table": [
           {
            "cells": {
             "fill": {
              "color": "#EBF0F8"
             },
             "line": {
              "color": "white"
             }
            },
            "header": {
             "fill": {
              "color": "#C8D4E3"
             },
             "line": {
              "color": "white"
             }
            },
            "type": "table"
           }
          ]
         },
         "layout": {
          "annotationdefaults": {
           "arrowcolor": "#2a3f5f",
           "arrowhead": 0,
           "arrowwidth": 1
          },
          "autotypenumbers": "strict",
          "coloraxis": {
           "colorbar": {
            "outlinewidth": 0,
            "ticks": ""
           }
          },
          "colorscale": {
           "diverging": [
            [
             0,
             "#8e0152"
            ],
            [
             0.1,
             "#c51b7d"
            ],
            [
             0.2,
             "#de77ae"
            ],
            [
             0.3,
             "#f1b6da"
            ],
            [
             0.4,
             "#fde0ef"
            ],
            [
             0.5,
             "#f7f7f7"
            ],
            [
             0.6,
             "#e6f5d0"
            ],
            [
             0.7,
             "#b8e186"
            ],
            [
             0.8,
             "#7fbc41"
            ],
            [
             0.9,
             "#4d9221"
            ],
            [
             1,
             "#276419"
            ]
           ],
           "sequential": [
            [
             0,
             "#0d0887"
            ],
            [
             0.1111111111111111,
             "#46039f"
            ],
            [
             0.2222222222222222,
             "#7201a8"
            ],
            [
             0.3333333333333333,
             "#9c179e"
            ],
            [
             0.4444444444444444,
             "#bd3786"
            ],
            [
             0.5555555555555556,
             "#d8576b"
            ],
            [
             0.6666666666666666,
             "#ed7953"
            ],
            [
             0.7777777777777778,
             "#fb9f3a"
            ],
            [
             0.8888888888888888,
             "#fdca26"
            ],
            [
             1,
             "#f0f921"
            ]
           ],
           "sequentialminus": [
            [
             0,
             "#0d0887"
            ],
            [
             0.1111111111111111,
             "#46039f"
            ],
            [
             0.2222222222222222,
             "#7201a8"
            ],
            [
             0.3333333333333333,
             "#9c179e"
            ],
            [
             0.4444444444444444,
             "#bd3786"
            ],
            [
             0.5555555555555556,
             "#d8576b"
            ],
            [
             0.6666666666666666,
             "#ed7953"
            ],
            [
             0.7777777777777778,
             "#fb9f3a"
            ],
            [
             0.8888888888888888,
             "#fdca26"
            ],
            [
             1,
             "#f0f921"
            ]
           ]
          },
          "colorway": [
           "#636efa",
           "#EF553B",
           "#00cc96",
           "#ab63fa",
           "#FFA15A",
           "#19d3f3",
           "#FF6692",
           "#B6E880",
           "#FF97FF",
           "#FECB52"
          ],
          "font": {
           "color": "#2a3f5f"
          },
          "geo": {
           "bgcolor": "white",
           "lakecolor": "white",
           "landcolor": "#E5ECF6",
           "showlakes": true,
           "showland": true,
           "subunitcolor": "white"
          },
          "hoverlabel": {
           "align": "left"
          },
          "hovermode": "closest",
          "mapbox": {
           "style": "light"
          },
          "paper_bgcolor": "white",
          "plot_bgcolor": "#E5ECF6",
          "polar": {
           "angularaxis": {
            "gridcolor": "white",
            "linecolor": "white",
            "ticks": ""
           },
           "bgcolor": "#E5ECF6",
           "radialaxis": {
            "gridcolor": "white",
            "linecolor": "white",
            "ticks": ""
           }
          },
          "scene": {
           "xaxis": {
            "backgroundcolor": "#E5ECF6",
            "gridcolor": "white",
            "gridwidth": 2,
            "linecolor": "white",
            "showbackground": true,
            "ticks": "",
            "zerolinecolor": "white"
           },
           "yaxis": {
            "backgroundcolor": "#E5ECF6",
            "gridcolor": "white",
            "gridwidth": 2,
            "linecolor": "white",
            "showbackground": true,
            "ticks": "",
            "zerolinecolor": "white"
           },
           "zaxis": {
            "backgroundcolor": "#E5ECF6",
            "gridcolor": "white",
            "gridwidth": 2,
            "linecolor": "white",
            "showbackground": true,
            "ticks": "",
            "zerolinecolor": "white"
           }
          },
          "shapedefaults": {
           "line": {
            "color": "#2a3f5f"
           }
          },
          "ternary": {
           "aaxis": {
            "gridcolor": "white",
            "linecolor": "white",
            "ticks": ""
           },
           "baxis": {
            "gridcolor": "white",
            "linecolor": "white",
            "ticks": ""
           },
           "bgcolor": "#E5ECF6",
           "caxis": {
            "gridcolor": "white",
            "linecolor": "white",
            "ticks": ""
           }
          },
          "title": {
           "x": 0.05
          },
          "xaxis": {
           "automargin": true,
           "gridcolor": "white",
           "linecolor": "white",
           "ticks": "",
           "title": {
            "standoff": 15
           },
           "zerolinecolor": "white",
           "zerolinewidth": 2
          },
          "yaxis": {
           "automargin": true,
           "gridcolor": "white",
           "linecolor": "white",
           "ticks": "",
           "title": {
            "standoff": 15
           },
           "zerolinecolor": "white",
           "zerolinewidth": 2
          }
         }
        },
        "width": 800
       }
      }
     },
     "metadata": {},
     "output_type": "display_data"
    }
   ],
   "source": [
    "# Scale data to create the scatter plot\n",
    "fig = px.scatter_3d(\n",
    "    clustered_df,\n",
    "    hover_name=\"CoinName\",\n",
    "    hover_data=[\"Algorithm\"],\n",
    "    x=\"PC1\",\n",
    "    y=\"PC2\",\n",
    "    z=\"PC3\",\n",
    "    color=\"Class\",\n",
    "    symbol=\"Class\",\n",
    "    width=800,\n",
    ")\n",
    "fig.update_layout(legend=dict(x=0, y=1))\n",
    "fig.show()\n"
   ]
  },
  {
   "cell_type": "code",
   "execution_count": 38,
   "metadata": {},
   "outputs": [
    {
     "data": {},
     "metadata": {},
     "output_type": "display_data"
    },
    {
     "data": {
      "application/vnd.holoviews_exec.v0+json": "",
      "text/html": [
       "<div id='1120'>\n",
       "\n",
       "\n",
       "\n",
       "\n",
       "\n",
       "  <div class=\"bk-root\" id=\"a2af551c-30df-4e52-8a27-d3ac6a154063\" data-root-id=\"1120\"></div>\n",
       "</div>\n",
       "<script type=\"application/javascript\">(function(root) {\n",
       "  function embed_document(root) {\n",
       "    var docs_json = {\"88e5a3e3-c3f1-4fad-8817-80652bbb4c72\":{\"defs\":[{\"extends\":null,\"module\":null,\"name\":\"ReactiveHTML1\",\"overrides\":[],\"properties\":[]},{\"extends\":null,\"module\":null,\"name\":\"FlexBox1\",\"overrides\":[],\"properties\":[{\"default\":\"flex-start\",\"kind\":null,\"name\":\"align_content\"},{\"default\":\"flex-start\",\"kind\":null,\"name\":\"align_items\"},{\"default\":\"row\",\"kind\":null,\"name\":\"flex_direction\"},{\"default\":\"wrap\",\"kind\":null,\"name\":\"flex_wrap\"},{\"default\":\"flex-start\",\"kind\":null,\"name\":\"justify_content\"}]},{\"extends\":null,\"module\":null,\"name\":\"TemplateActions1\",\"overrides\":[],\"properties\":[{\"default\":0,\"kind\":null,\"name\":\"open_modal\"},{\"default\":0,\"kind\":null,\"name\":\"close_modal\"}]},{\"extends\":null,\"module\":null,\"name\":\"MaterialTemplateActions1\",\"overrides\":[],\"properties\":[{\"default\":0,\"kind\":null,\"name\":\"open_modal\"},{\"default\":0,\"kind\":null,\"name\":\"close_modal\"}]}],\"roots\":{\"references\":[{\"attributes\":{\"tools\":[{\"id\":\"1124\"},{\"id\":\"1145\"},{\"id\":\"1146\"},{\"id\":\"1147\"},{\"id\":\"1148\"},{\"id\":\"1149\"}]},\"id\":\"1151\",\"type\":\"Toolbar\"},{\"attributes\":{},\"id\":\"1226\",\"type\":\"UnionRenderers\"},{\"attributes\":{\"label\":{\"value\":\"1\"},\"renderers\":[{\"id\":\"1191\"}]},\"id\":\"1205\",\"type\":\"LegendItem\"},{\"attributes\":{\"fill_alpha\":{\"value\":0.2},\"fill_color\":{\"value\":\"#fc4f30\"},\"hatch_alpha\":{\"value\":0.2},\"hatch_color\":{\"value\":\"#fc4f30\"},\"line_alpha\":{\"value\":0.2},\"line_color\":{\"value\":\"#fc4f30\"},\"size\":{\"value\":5.477225575051661},\"x\":{\"field\":\"TotalCoinsMined\"},\"y\":{\"field\":\"TotalCoinSupply\"}},\"id\":\"1190\",\"type\":\"Scatter\"},{\"attributes\":{},\"id\":\"1159\",\"type\":\"BasicTickFormatter\"},{\"attributes\":{},\"id\":\"1160\",\"type\":\"AllLabels\"},{\"attributes\":{\"coordinates\":null,\"data_source\":{\"id\":\"1185\"},\"glyph\":{\"id\":\"1188\"},\"group\":null,\"hover_glyph\":null,\"muted_glyph\":{\"id\":\"1190\"},\"nonselection_glyph\":{\"id\":\"1189\"},\"selection_glyph\":{\"id\":\"1206\"},\"view\":{\"id\":\"1192\"}},\"id\":\"1191\",\"type\":\"GlyphRenderer\"},{\"attributes\":{},\"id\":\"1163\",\"type\":\"AllLabels\"},{\"attributes\":{\"source\":{\"id\":\"1185\"}},\"id\":\"1192\",\"type\":\"CDSView\"},{\"attributes\":{},\"id\":\"1179\",\"type\":\"UnionRenderers\"},{\"attributes\":{\"bottom_units\":\"screen\",\"coordinates\":null,\"fill_alpha\":0.5,\"fill_color\":\"lightgrey\",\"group\":null,\"left_units\":\"screen\",\"level\":\"overlay\",\"line_alpha\":1.0,\"line_color\":\"black\",\"line_dash\":[4,4],\"line_width\":2,\"right_units\":\"screen\",\"syncable\":false,\"top_units\":\"screen\"},\"id\":\"1150\",\"type\":\"BoxAnnotation\"},{\"attributes\":{\"angle\":{\"value\":0.0},\"fill_alpha\":{\"value\":1.0},\"fill_color\":{\"value\":\"#30a2da\"},\"hatch_alpha\":{\"value\":1.0},\"hatch_color\":{\"value\":\"#30a2da\"},\"hatch_scale\":{\"value\":12.0},\"hatch_weight\":{\"value\":1.0},\"line_alpha\":{\"value\":1.0},\"line_cap\":{\"value\":\"butt\"},\"line_color\":{\"value\":\"#30a2da\"},\"line_dash\":{\"value\":[]},\"line_dash_offset\":{\"value\":0},\"line_join\":{\"value\":\"bevel\"},\"line_width\":{\"value\":1},\"marker\":{\"value\":\"circle\"},\"size\":{\"value\":5.477225575051661},\"x\":{\"field\":\"TotalCoinsMined\"},\"y\":{\"field\":\"TotalCoinSupply\"}},\"id\":\"1184\",\"type\":\"Scatter\"},{\"attributes\":{\"angle\":{\"value\":0.0},\"fill_alpha\":{\"value\":1.0},\"fill_color\":{\"value\":\"#6d904f\"},\"hatch_alpha\":{\"value\":1.0},\"hatch_color\":{\"value\":\"#6d904f\"},\"hatch_scale\":{\"value\":12.0},\"hatch_weight\":{\"value\":1.0},\"line_alpha\":{\"value\":1.0},\"line_cap\":{\"value\":\"butt\"},\"line_color\":{\"value\":\"#6d904f\"},\"line_dash\":{\"value\":[]},\"line_dash_offset\":{\"value\":0},\"line_join\":{\"value\":\"bevel\"},\"line_width\":{\"value\":1},\"marker\":{\"value\":\"circle\"},\"size\":{\"value\":5.477225575051661},\"x\":{\"field\":\"TotalCoinsMined\"},\"y\":{\"field\":\"TotalCoinSupply\"}},\"id\":\"1256\",\"type\":\"Scatter\"},{\"attributes\":{},\"id\":\"1202\",\"type\":\"UnionRenderers\"},{\"attributes\":{\"fill_alpha\":{\"value\":0.1},\"fill_color\":{\"value\":\"#fc4f30\"},\"hatch_alpha\":{\"value\":0.1},\"hatch_color\":{\"value\":\"#fc4f30\"},\"line_alpha\":{\"value\":0.1},\"line_color\":{\"value\":\"#fc4f30\"},\"size\":{\"value\":5.477225575051661},\"x\":{\"field\":\"TotalCoinsMined\"},\"y\":{\"field\":\"TotalCoinSupply\"}},\"id\":\"1189\",\"type\":\"Scatter\"},{\"attributes\":{},\"id\":\"1232\",\"type\":\"Selection\"},{\"attributes\":{\"axis_label\":\"TotalCoinsMined\",\"coordinates\":null,\"formatter\":{\"id\":\"1159\"},\"group\":null,\"major_label_policy\":{\"id\":\"1160\"},\"ticker\":{\"id\":\"1138\"}},\"id\":\"1137\",\"type\":\"LinearAxis\"},{\"attributes\":{},\"id\":\"1162\",\"type\":\"BasicTickFormatter\"},{\"attributes\":{},\"id\":\"1147\",\"type\":\"WheelZoomTool\"},{\"attributes\":{},\"id\":\"1149\",\"type\":\"ResetTool\"},{\"attributes\":{\"label\":{\"value\":\"0\"},\"renderers\":[{\"id\":\"1170\"}]},\"id\":\"1183\",\"type\":\"LegendItem\"},{\"attributes\":{},\"id\":\"1135\",\"type\":\"LinearScale\"},{\"attributes\":{\"angle\":{\"value\":0.0},\"fill_alpha\":{\"value\":1.0},\"fill_color\":{\"value\":\"#e5ae38\"},\"hatch_alpha\":{\"value\":1.0},\"hatch_color\":{\"value\":\"#e5ae38\"},\"hatch_scale\":{\"value\":12.0},\"hatch_weight\":{\"value\":1.0},\"line_alpha\":{\"value\":1.0},\"line_cap\":{\"value\":\"butt\"},\"line_color\":{\"value\":\"#e5ae38\"},\"line_dash\":{\"value\":[]},\"line_dash_offset\":{\"value\":0},\"line_join\":{\"value\":\"bevel\"},\"line_width\":{\"value\":1},\"marker\":{\"value\":\"circle\"},\"size\":{\"value\":5.477225575051661},\"x\":{\"field\":\"TotalCoinsMined\"},\"y\":{\"field\":\"TotalCoinSupply\"}},\"id\":\"1230\",\"type\":\"Scatter\"},{\"attributes\":{\"callback\":null,\"renderers\":[{\"id\":\"1170\"},{\"id\":\"1191\"},{\"id\":\"1213\"},{\"id\":\"1237\"}],\"tags\":[\"hv_created\"],\"tooltips\":[[\"Class\",\"@{Class}\"],[\"TotalCoinsMined\",\"@{TotalCoinsMined}\"],[\"TotalCoinSupply\",\"@{TotalCoinSupply}\"],[\"CoinName\",\"@{CoinName}\"]]},\"id\":\"1124\",\"type\":\"HoverTool\"},{\"attributes\":{\"data\":{\"Class\":[0,0,0,0,0,0,0,0,0,0,0,0,0,0,0,0,0,0,0,0,0,0,0,0,0,0,0,0,0,0,0,0,0,0,0,0,0,0,0,0,0,0,0,0,0,0,0,0,0,0,0,0,0,0,0,0,0,0,0,0,0,0,0,0,0,0,0,0,0,0,0,0,0,0,0,0,0,0,0,0,0,0,0,0,0,0,0,0,0,0,0,0,0,0,0,0,0,0,0,0,0,0,0,0,0,0,0,0,0,0,0,0,0,0,0,0,0,0,0,0,0,0,0,0,0,0,0,0,0,0,0,0,0,0,0,0,0,0,0,0,0,0,0,0,0,0,0,0,0,0,0,0,0,0,0,0,0,0,0,0,0,0,0,0,0,0,0,0,0,0,0,0,0,0,0,0,0,0,0,0,0,0,0,0,0,0,0,0,0,0,0,0,0,0,0,0,0,0,0,0,0,0,0,0,0,0,0,0,0,0,0,0,0,0,0,0,0,0,0,0,0,0,0,0,0,0,0,0,0,0,0,0,0,0,0,0,0,0],\"CoinName\":[\"Bitcoin\",\"Ethereum\",\"Litecoin\",\"Monero\",\"Ethereum Classic\",\"ZCash\",\"DigiByte\",\"ProsperCoin\",\"Spreadcoin\",\"Argentum\",\"MyriadCoin\",\"MoonCoin\",\"ZetaCoin\",\"SexCoin\",\"Quatloo\",\"QuarkCoin\",\"Riecoin\",\"Digitalcoin \",\"Catcoin\",\"CannaCoin\",\"CryptCoin\",\"Verge\",\"DevCoin\",\"EarthCoin\",\"E-Gulden\",\"Einsteinium\",\"Emerald\",\"Franko\",\"FeatherCoin\",\"GrandCoin\",\"GlobalCoin\",\"GoldCoin\",\"Infinite Coin\",\"IXcoin\",\"KrugerCoin\",\"LuckyCoin\",\"Litebar \",\"MegaCoin\",\"MediterraneanCoin\",\"MinCoin\",\"NobleCoin\",\"Namecoin\",\"NyanCoin\",\"RonPaulCoin\",\"StableCoin\",\"SmartCoin\",\"SysCoin\",\"TigerCoin\",\"TerraCoin\",\"UnbreakableCoin\",\"Unobtanium\",\"UroCoin\",\"ViaCoin\",\"Vertcoin\",\"WorldCoin\",\"JouleCoin\",\"ByteCoin\",\"DigitalNote \",\"MonaCoin\",\"Gulden\",\"PesetaCoin\",\"Wild Beast Coin\",\"Flo\",\"ArtByte\",\"Folding Coin\",\"Unitus\",\"CypherPunkCoin\",\"OmniCron\",\"GreenCoin\",\"Cryptonite\",\"MasterCoin\",\"SoonCoin\",\"1Credit\",\"MarsCoin \",\"Crypto\",\"Anarchists Prime\",\"BowsCoin\",\"Song Coin\",\"BitZeny\",\"Expanse\",\"Siacoin\",\"MindCoin\",\"I0coin\",\"Revolution VR\",\"HOdlcoin\",\"Gamecredits\",\"CarpeDiemCoin\",\"Adzcoin\",\"SoilCoin\",\"YoCoin\",\"SibCoin\",\"Francs\",\"BolivarCoin\",\"Omni\",\"PizzaCoin\",\"Komodo\",\"Karbo\",\"ZayedCoin\",\"Circuits of Value\",\"DopeCoin\",\"DollarCoin\",\"Shilling\",\"ZCoin\",\"Elementrem\",\"ZClassic\",\"KiloCoin\",\"ArtexCoin\",\"Kurrent\",\"Cannabis Industry Coin\",\"OsmiumCoin\",\"Bikercoins\",\"HexxCoin\",\"PacCoin\",\"Citadel\",\"BeaverCoin\",\"VaultCoin\",\"Zero\",\"Canada eCoin\",\"Zoin\",\"DubaiCoin\",\"EB3coin\",\"Coinonat\",\"BenjiRolls\",\"ILCoin\",\"EquiTrader\",\"Quantum Resistant Ledger\",\"Dynamic\",\"Nano\",\"ChanCoin\",\"Dinastycoin\",\"DigitalPrice\",\"Unify\",\"SocialCoin\",\"ArcticCoin\",\"DAS\",\"LeviarCoin\",\"Bitcore\",\"gCn Coin\",\"SmartCash\",\"Onix\",\"Bitcoin Cash\",\"Sojourn Coin\",\"NewYorkCoin\",\"FrazCoin\",\"Kronecoin\",\"AdCoin\",\"Linx\",\"Sumokoin\",\"BitcoinZ\",\"Elements\",\"VIVO Coin\",\"Bitcoin Gold\",\"Pirl\",\"eBoost\",\"Pura\",\"Innova\",\"Ellaism\",\"GoByte\",\"SHIELD\",\"UltraNote\",\"BitCoal\",\"DaxxCoin\",\"AC3\",\"Lethean\",\"PopularCoin\",\"Photon\",\"Sucre\",\"SparksPay\",\"GunCoin\",\"IrishCoin\",\"Pioneer Coin\",\"UnitedBitcoin\",\"Interzone\",\"TurtleCoin\",\"MUNcoin\",\"Niobio Cash\",\"ShareChain\",\"Travelflex\",\"KREDS\",\"BitFlip\",\"LottoCoin\",\"Crypto Improvement Fund\",\"Callisto Network\",\"BitTube\",\"Poseidon\",\"Aidos Kuneen\",\"Bitrolium\",\"Alpenschillling\",\"FuturoCoin\",\"Monero Classic\",\"Jumpcoin\",\"Infinex\",\"KEYCO\",\"GINcoin\",\"PlatinCoin\",\"Loki\",\"Newton Coin\",\"MassGrid\",\"PluraCoin\",\"Motion\",\"PlusOneCoin\",\"Axe\",\"HexCoin\",\"Webchain\",\"Ryo\",\"Urals Coin\",\"Qwertycoin\",\"Project Pai\",\"Azart\",\"Xchange\",\"CrypticCoin\",\"Actinium\",\"Bitcoin SV\",\"FREDEnergy\",\"Universal Molecule\",\"Lithium\",\"Exosis\",\"Block-Logic\",\"Beam\",\"Bithereum\",\"SLICE\",\"BLAST\",\"Bitcoin Rhodium\",\"GlobalToken\",\"SolarCoin\",\"UFO Coin\",\"BlakeCoin\",\"Crypto Escudo\",\"Crown Coin\",\"SmileyCoin\",\"Groestlcoin\",\"Bata\",\"Pakcoin\",\"JoinCoin\",\"Vollar\",\"Reality Clash\",\"Beldex\",\"Horizen\"],\"TotalCoinSupply\":{\"__ndarray__\":\"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\",\"dtype\":\"float64\",\"order\":\"little\",\"shape\":[238]},\"TotalCoinsMined\":{\"__ndarray__\":\"Nqs+V1vtMUC4bPNNyutaQNgNqewFhU9AYzf9HX4zMUB6UbtfBVdcQBUdyeU/iB1AG/LPDBxHxkBQwkzbvxIXQM7BPe+pTCZAf35DBV5pKEAIrBxaBGGaQKIm+nyUERc/2BZiXIpGZUAVyqdFHB5gQM7dEcJhbh1Ap/bBJeo4cECvdbQJOMZIQKESkdezuEBAseuoUDzhHECdvNzKxdASQGcWsfPp/BNA/Tr37MMcz0AUrkfhdlXSQOlLpPGBfchAYYuYIxXpNEDDH32T5ltrQM+fO2MtfzNA4naJgaFI8j/YRb01aRVqQCyeeqQBoYtAc3Ap2g1rUEAJuuGTTtREQLJDXQw8HvZApqJ0k98WNUD0YawlU+5iQAl3wqaJUzNAH3zL2mSr8T9/rVu8dBNDQKYGPxZHN0RAlhl0fIE3F0DhRtTyIXyiQH6MuWsJeS1AIRq5+ljrdEDqUf34oKrxP2aSRyYWNzhAgGkrKP+XOUDcqJA8sZqBQBQ/xty1xEVAKc+8HHbvNkAoDwu1pjkCQLgz+kJ6t8k/4iNiSiRR8z/rpX7eoCY3QL19/5Q8lklAgGYQH9jmXUCcWsf8DZlDQAQ8aaEWeAZBb1GibZb6ukA6QZeNdQxRQMh71cqE8HlAM1T9n5AwYUApx+E4IUnHPxuVWkmpCGNANV66SUzEiEATZtr+VXuGQJIkCFdAR1BAoOBiRQ12GUBCmL3ns0ckQDvKPTRXArJAKZZbWg0khkB47dKGw9LjP3fzVIfc7ChAGQEVjiCVtj+/5VCQXBxAQC7+tidIfCtAQtyY/5B+LUDnHafoSLovQOM2GsBbSEBAF9nO91PnUkBJ2/gTlf0kQIl7LH1JKeBAMc7fhEK8L0BzytGkWv80QAAAAAAAQGpA0SSxpNzlJkDhC5OpgnVRQEKxFTT+OtVAYfvJGB+ORkCK48Cr5c4WQCWc87rmXeQ/8zy4O2tDMUDto2jNgUgaQFN2uubjTitAT+j1J/G54z+Qozmy8gv2P4Yhcvp6+VxAAsrZzStKH0CZ02UxsfkYQAAAAAAAQI9Ad2ouNxg2XUD6DKg3ozYiQMxdS8gHPSZAICwXhetFHkB0DTM0njQ6QNzXgXNGdBZAAYV6+oiJaEAAAAAAAMCJQOwTQDGyrk5AlN43vvZM7z8ewvhp3JvsP42WAz3UtiJAQwYcIrIE/j8EAp1J28eAQCn9doRK8CVAptHkYgzsCEDCTNu/smI+QPmjNwrGrxtAcG/fZvr1WED2C3bDtosyQESlETP73AFAya1JtyUGUEACvAUSFD8kQCvGBG+uRjRACtejcP2WlEC+PFm6yFgrQC0NjRlOQlFAru9d8sLIM0A91owM8qdgQEt8siFCaDJAOQ68Wt5FnEAW+8vuyZFBQKD9SBEZIjJAeVioNc2rFEB/7z5k2Ao6QA0Xuaer+wRAFcrC19dSLEDHWgAJR80xQHsUrsd45wNBcvc0rwSCoUDFKgDccJ5eQPi0jfbe/jFAD+1jBb8N3z+Uh6Fb9XQBQVcFajF4aCNAaeDD6yh0MUAChl4VyFJAQOpdvB+320BAEVK3s6/kIUBGOVGijVu0QKdWOhq2HaVARDlrZ/OpEEBRNrPvzTMxQC7nUlxV/kBAX1s5L1z/WECDMSJR6OZlQD1Q4edDgBlAGYwRiUKDKUCfceFASFQXQG5UkWawG35Al+UJknTU0kAAAAAAAAASQNF5jV0iR4BAC/FIvDwUVEBSqbb0AJR7QMGQFwpn+K5AbChb+mpi3UAobweYieoQQN/Ill7BYx9A7GtdasS8ckDRb46P1L1GQHcrjhfK9CBA0SLb+X4qNEBkXeUIS9UnQGo6Erp68ulAJcbzp/pFE0DFS6jG1r1gQAAAAAAAiMNA+/SZKNHUWkC8md4GXh6EQAhfNThn5ChAsB2M2IFNzEBcMy1BhmlqQMmqCDeZ825AdbegLCQDVEAEIZSx5UcQQAAAAAAAADlAu16aIsDWUUBTVcEdK1c7QH5Aco8szT9A0Xr4MlEEMEBWjg2twBE1QFa3g8UIZBRAJnFWRE106T9AFpvDEvIbQE2EDU+vlLU/fJ4/bVQnM0AMsfqj0CnkQA3dhemY+2BAbXfQB7CAgUDGm0lhcUAgQDpbXq1ySiFAXnIECt34E0ABwR7kpqr2P5B7QOIPKS9ABWucTUeQE0BSvFTHB34tQGvZucQRTvhAAAAAAABooEABP+k0QxAUQOinbP7rgSNAYLGGixyLsEAwuycPC0UrQClWnXAV/jFATsCzMDgsnUBN1A/oo0D5PxZWjHKFsS9AHdxC/Gj92T+TWsOccaRBQEesxacA2EFARiV1ApomOUCZ28gzAdopQPxfSXCcJUpAthDkoIS58j8hSsgHPSdVQByQS2xUyEtAvJLkuV7hrUA8SmeZVls3QCNKe4OvYYhAyl5xYqf8NkAKFhFR/+PcQMnxwcUVU1JANEYTONE1FEBSMi8ezmtRQAvSjEXTqQpAAAAAAAAAWUAt033n6Xw4QAYq49/HoY5AgSbChqcvHUA=\",\"dtype\":\"float64\",\"order\":\"little\",\"shape\":[238]}},\"selected\":{\"id\":\"1165\"},\"selection_policy\":{\"id\":\"1179\"}},\"id\":\"1164\",\"type\":\"ColumnDataSource\"},{\"attributes\":{\"fill_color\":{\"value\":\"#30a2da\"},\"hatch_color\":{\"value\":\"#30a2da\"},\"line_color\":{\"value\":\"#30a2da\"},\"size\":{\"value\":5.477225575051661},\"x\":{\"field\":\"TotalCoinsMined\"},\"y\":{\"field\":\"TotalCoinSupply\"}},\"id\":\"1167\",\"type\":\"Scatter\"},{\"attributes\":{\"fill_alpha\":{\"value\":0.2},\"fill_color\":{\"value\":\"#6d904f\"},\"hatch_alpha\":{\"value\":0.2},\"hatch_color\":{\"value\":\"#6d904f\"},\"line_alpha\":{\"value\":0.2},\"line_color\":{\"value\":\"#6d904f\"},\"size\":{\"value\":5.477225575051661},\"x\":{\"field\":\"TotalCoinsMined\"},\"y\":{\"field\":\"TotalCoinSupply\"}},\"id\":\"1236\",\"type\":\"Scatter\"},{\"attributes\":{\"source\":{\"id\":\"1231\"}},\"id\":\"1238\",\"type\":\"CDSView\"},{\"attributes\":{},\"id\":\"1142\",\"type\":\"BasicTicker\"},{\"attributes\":{\"axis_label\":\"TotalCoinSupply\",\"coordinates\":null,\"formatter\":{\"id\":\"1162\"},\"group\":null,\"major_label_policy\":{\"id\":\"1163\"},\"ticker\":{\"id\":\"1142\"}},\"id\":\"1141\",\"type\":\"LinearAxis\"},{\"attributes\":{\"margin\":[5,5,5,5],\"name\":\"HSpacer01888\",\"sizing_mode\":\"stretch_width\"},\"id\":\"1401\",\"type\":\"Spacer\"},{\"attributes\":{\"coordinates\":null,\"data_source\":{\"id\":\"1231\"},\"glyph\":{\"id\":\"1234\"},\"group\":null,\"hover_glyph\":null,\"muted_glyph\":{\"id\":\"1236\"},\"nonselection_glyph\":{\"id\":\"1235\"},\"selection_glyph\":{\"id\":\"1256\"},\"view\":{\"id\":\"1238\"}},\"id\":\"1237\",\"type\":\"GlyphRenderer\"},{\"attributes\":{\"fill_alpha\":{\"value\":0.2},\"fill_color\":{\"value\":\"#30a2da\"},\"hatch_alpha\":{\"value\":0.2},\"hatch_color\":{\"value\":\"#30a2da\"},\"line_alpha\":{\"value\":0.2},\"line_color\":{\"value\":\"#30a2da\"},\"size\":{\"value\":5.477225575051661},\"x\":{\"field\":\"TotalCoinsMined\"},\"y\":{\"field\":\"TotalCoinSupply\"}},\"id\":\"1169\",\"type\":\"Scatter\"},{\"attributes\":{\"fill_alpha\":{\"value\":0.1},\"fill_color\":{\"value\":\"#30a2da\"},\"hatch_alpha\":{\"value\":0.1},\"hatch_color\":{\"value\":\"#30a2da\"},\"line_alpha\":{\"value\":0.1},\"line_color\":{\"value\":\"#30a2da\"},\"size\":{\"value\":5.477225575051661},\"x\":{\"field\":\"TotalCoinsMined\"},\"y\":{\"field\":\"TotalCoinSupply\"}},\"id\":\"1168\",\"type\":\"Scatter\"},{\"attributes\":{\"angle\":{\"value\":0.0},\"fill_alpha\":{\"value\":1.0},\"fill_color\":{\"value\":\"#fc4f30\"},\"hatch_alpha\":{\"value\":1.0},\"hatch_color\":{\"value\":\"#fc4f30\"},\"hatch_scale\":{\"value\":12.0},\"hatch_weight\":{\"value\":1.0},\"line_alpha\":{\"value\":1.0},\"line_cap\":{\"value\":\"butt\"},\"line_color\":{\"value\":\"#fc4f30\"},\"line_dash\":{\"value\":[]},\"line_dash_offset\":{\"value\":0},\"line_join\":{\"value\":\"bevel\"},\"line_width\":{\"value\":1},\"marker\":{\"value\":\"circle\"},\"size\":{\"value\":5.477225575051661},\"x\":{\"field\":\"TotalCoinsMined\"},\"y\":{\"field\":\"TotalCoinSupply\"}},\"id\":\"1206\",\"type\":\"Scatter\"},{\"attributes\":{\"source\":{\"id\":\"1164\"}},\"id\":\"1171\",\"type\":\"CDSView\"},{\"attributes\":{\"axis\":{\"id\":\"1137\"},\"coordinates\":null,\"grid_line_color\":null,\"group\":null,\"ticker\":null},\"id\":\"1140\",\"type\":\"Grid\"},{\"attributes\":{\"overlay\":{\"id\":\"1150\"}},\"id\":\"1148\",\"type\":\"BoxZoomTool\"},{\"attributes\":{},\"id\":\"1145\",\"type\":\"SaveTool\"},{\"attributes\":{\"fill_alpha\":{\"value\":0.1},\"fill_color\":{\"value\":\"#6d904f\"},\"hatch_alpha\":{\"value\":0.1},\"hatch_color\":{\"value\":\"#6d904f\"},\"line_alpha\":{\"value\":0.1},\"line_color\":{\"value\":\"#6d904f\"},\"size\":{\"value\":5.477225575051661},\"x\":{\"field\":\"TotalCoinsMined\"},\"y\":{\"field\":\"TotalCoinSupply\"}},\"id\":\"1235\",\"type\":\"Scatter\"},{\"attributes\":{\"source\":{\"id\":\"1207\"}},\"id\":\"1214\",\"type\":\"CDSView\"},{\"attributes\":{},\"id\":\"1133\",\"type\":\"LinearScale\"},{\"attributes\":{\"margin\":[5,5,5,5],\"name\":\"HSpacer01887\",\"sizing_mode\":\"stretch_width\"},\"id\":\"1121\",\"type\":\"Spacer\"},{\"attributes\":{\"fill_color\":{\"value\":\"#6d904f\"},\"hatch_color\":{\"value\":\"#6d904f\"},\"line_color\":{\"value\":\"#6d904f\"},\"size\":{\"value\":5.477225575051661},\"x\":{\"field\":\"TotalCoinsMined\"},\"y\":{\"field\":\"TotalCoinSupply\"}},\"id\":\"1234\",\"type\":\"Scatter\"},{\"attributes\":{\"fill_alpha\":{\"value\":0.1},\"fill_color\":{\"value\":\"#e5ae38\"},\"hatch_alpha\":{\"value\":0.1},\"hatch_color\":{\"value\":\"#e5ae38\"},\"line_alpha\":{\"value\":0.1},\"line_color\":{\"value\":\"#e5ae38\"},\"size\":{\"value\":5.477225575051661},\"x\":{\"field\":\"TotalCoinsMined\"},\"y\":{\"field\":\"TotalCoinSupply\"}},\"id\":\"1211\",\"type\":\"Scatter\"},{\"attributes\":{},\"id\":\"1252\",\"type\":\"UnionRenderers\"},{\"attributes\":{\"data\":{\"Class\":[3,3,3,3,3,3,3,3,3,3,3,3,3,3,3,3,3,3,3,3,3,3,3,3,3,3,3,3,3,3,3,3,3,3,3,3,3,3,3,3,3,3,3,3,3,3,3,3,3,3,3,3,3,3,3,3,3,3,3,3,3,3,3,3,3,3,3,3,3,3,3,3,3,3,3,3,3,3,3,3,3,3,3,3,3,3,3,3,3,3,3,3,3,3,3,3,3,3,3,3,3,3,3,3,3,3,3,3,3,3,3,3,3,3,3,3,3,3,3,3,3,3,3,3,3,3,3,3,3,3,3,3,3,3,3,3,3,3,3,3,3,3,3,3,3,3,3,3,3,3,3,3,3,3,3,3,3,3,3,3,3,3,3,3,3,3,3,3,3,3,3,3,3,3,3,3,3,3,3,3,3,3,3,3,3,3,3,3,3,3,3,3,3,3,3,3,3,3,3,3,3,3,3,3,3,3,3,3,3,3,3,3,3,3,3,3,3,3,3,3,3,3,3,3,3,3,3,3,3,3,3,3,3,3,3,3,3,3,3,3,3,3,3,3,3,3,3,3,3,3,3,3,3,3,3,3,3,3,3,3,3,3,3,3,3,3,3,3,3,3,3,3,3,3,3,3,3,3,3,3,3,3,3,3,3,3,3,3],\"CoinName\":[\"42 Coin\",\"404Coin\",\"EliteCoin\",\"Dash\",\"Bitshares\",\"BitcoinDark\",\"PayCoin\",\"KoboCoin\",\"Aurora Coin\",\"BlueCoin\",\"EnergyCoin\",\"BitBar\",\"CryptoBullion\",\"CasinoCoin\",\"Diamond\",\"Exclusive Coin\",\"FlutterCoin\",\"HoboNickels\",\"HyperStake\",\"IOCoin\",\"MaxCoin\",\"MintCoin\",\"MazaCoin\",\"Nautilus Coin\",\"NavCoin\",\"OpalCoin\",\"Orbitcoin\",\"PotCoin\",\"PhoenixCoin\",\"Reddcoin\",\"SuperCoin\",\"SyncCoin\",\"TeslaCoin\",\"TittieCoin\",\"TorCoin\",\"UnitaryStatus Dollar\",\"UltraCoin\",\"VeriCoin\",\"X11 Coin\",\"Crypti\",\"StealthCoin\",\"ZCC Coin\",\"BurstCoin\",\"StorjCoin\",\"Neutron\",\"FairCoin\",\"RubyCoin\",\"Kore\",\"Dnotes\",\"8BIT Coin\",\"Sativa Coin\",\"Ucoin\",\"Vtorrent\",\"IslaCoin\",\"Nexus\",\"Droidz\",\"Squall Coin\",\"Diggits\",\"Paycon\",\"Emercoin\",\"EverGreenCoin\",\"Decred\",\"EDRCoin\",\"Hitcoin\",\"DubaiCoin\",\"PWR Coin\",\"BillaryCoin\",\"GPU Coin\",\"EuropeCoin\",\"ZeitCoin\",\"SwingCoin\",\"SafeExchangeCoin\",\"Nebuchadnezzar\",\"Ratecoin\",\"Revenu\",\"Clockcoin\",\"VIP Tokens\",\"BitSend\",\"Let it Ride\",\"PutinCoin\",\"iBankCoin\",\"Frankywillcoin\",\"MudraCoin\",\"Lutetium Coin\",\"GoldBlocks\",\"CarterCoin\",\"BitTokens\",\"MustangCoin\",\"ZoneCoin\",\"RootCoin\",\"BitCurrency\",\"Swiscoin\",\"BuzzCoin\",\"Opair\",\"PesoBit\",\"Halloween Coin\",\"CoffeeCoin\",\"RoyalCoin\",\"GanjaCoin V2\",\"TeamUP\",\"LanaCoin\",\"ARK\",\"InsaneCoin\",\"EmberCoin\",\"XenixCoin\",\"FreeCoin\",\"PLNCoin\",\"AquariusCoin\",\"Creatio\",\"Eternity\",\"Eurocoin\",\"BitcoinFast\",\"Stakenet\",\"BitConnect Coin\",\"MoneyCoin\",\"Enigma\",\"Russiacoin\",\"PandaCoin\",\"GameUnits\",\"GAKHcoin\",\"Allsafe\",\"LiteCreed\",\"Klingon Empire Darsek\",\"Internet of People\",\"KushCoin\",\"Printerium\",\"Impeach\",\"Zilbercoin\",\"FirstCoin\",\"FindCoin\",\"OpenChat\",\"RenosCoin\",\"VirtacoinPlus\",\"TajCoin\",\"Impact\",\"Atmos\",\"HappyCoin\",\"MacronCoin\",\"Condensate\",\"Independent Money System\",\"ArgusCoin\",\"LomoCoin\",\"ProCurrency\",\"GoldReserve\",\"GrowthCoin\",\"Phreak\",\"Degas Coin\",\"HTML5 Coin\",\"Ultimate Secure Cash\",\"QTUM\",\"Espers\",\"Denarius\",\"Virta Unique Coin\",\"Bitcoin Planet\",\"BritCoin\",\"Linda\",\"DeepOnion\",\"Signatum\",\"Cream\",\"Monoeci\",\"Draftcoin\",\"Vechain\",\"Stakecoin\",\"CoinonatX\",\"Ethereum Dark\",\"Obsidian\",\"Cardano\",\"Regalcoin\",\"TrezarCoin\",\"TerraNovaCoin\",\"Rupee\",\"WomenCoin\",\"Theresa May Coin\",\"NamoCoin\",\"LUXCoin\",\"Xios\",\"Bitcloud 2.0\",\"KekCoin\",\"BlackholeCoin\",\"Infinity Economics\",\"Magnet\",\"Lamden Tau\",\"Electra\",\"Bitcoin Diamond\",\"Cash & Back Coin\",\"Bulwark\",\"Kalkulus\",\"GermanCoin\",\"LiteCoin Ultra\",\"PhantomX\",\"Digiwage\",\"Trollcoin\",\"Litecoin Plus\",\"Monkey Project\",\"TokenPay\",\"1717 Masonic Commemorative Token\",\"My Big Coin\",\"Unified Society USDEX\",\"Tokyo Coin\",\"Stipend\",\"Pushi\",\"Ellerium\",\"Velox\",\"Ontology\",\"Bitspace\",\"Briacoin\",\"Ignition\",\"MedicCoin\",\"Bitcoin Green\",\"Deviant Coin\",\"Abjcoin\",\"Semux\",\"Carebit\",\"Zealium\",\"Proton\",\"iDealCash\",\"Bitcoin Incognito\",\"HollyWoodCoin\",\"Swisscoin\",\"Xt3ch\",\"TheVig\",\"EmaratCoin\",\"Dekado\",\"Lynx\",\"Poseidon Quark\",\"BitcoinWSpectrum\",\"Muse\",\"Trivechain\",\"Dystem\",\"Giant\",\"Peony Coin\",\"Absolute Coin\",\"Vitae\",\"TPCash\",\"ARENON\",\"EUNO\",\"MMOCoin\",\"Ketan\",\"XDNA\",\"PAXEX\",\"ThunderStake\",\"Kcash\",\"Bettex coin\",\"BitMoney\",\"Junson Ming Chan Coin\",\"HerbCoin\",\"PirateCash\",\"Oduwa\",\"Galilel\",\"Crypto Sports\",\"Credit\",\"Dash Platinum\",\"Nasdacoin\",\"Beetle Coin\",\"Titan Coin\",\"Award\",\"Insane Coin\",\"ALAX\",\"LiteDoge\",\"TruckCoin\",\"OrangeCoin\",\"BitstarCoin\",\"NeosCoin\",\"HyperCoin\",\"PinkCoin\",\"AudioCoin\",\"IncaKoin\",\"Piggy Coin\",\"Genstake\",\"XiaoMiCoin\",\"CapriCoin\",\" ClubCoin\",\"Radium\",\"Creditbit \",\"OKCash\",\"Lisk\",\"HiCoin\",\"WhiteCoin\",\"FriendshipCoin\",\"Triangles Coin\",\"EOS\",\"Oxycoin\",\"TigerCash\",\"Particl\",\"Nxt\",\"ZEPHYR\",\"Gapcoin\",\"BitcoinPlus\"],\"TotalCoinSupply\":{\"__ndarray__\":\"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\",\"dtype\":\"float64\",\"order\":\"little\",\"shape\":[288]},\"TotalCoinsMined\":{\"__ndarray__\":\"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\",\"dtype\":\"float64\",\"order\":\"little\",\"shape\":[288]}},\"selected\":{\"id\":\"1232\"},\"selection_policy\":{\"id\":\"1252\"}},\"id\":\"1231\",\"type\":\"ColumnDataSource\"},{\"attributes\":{\"children\":[{\"id\":\"1121\"},{\"id\":\"1128\"},{\"id\":\"1401\"}],\"margin\":[0,0,0,0],\"name\":\"Row01883\",\"tags\":[\"embedded\"]},\"id\":\"1120\",\"type\":\"Row\"},{\"attributes\":{\"coordinates\":null,\"data_source\":{\"id\":\"1164\"},\"glyph\":{\"id\":\"1167\"},\"group\":null,\"hover_glyph\":null,\"muted_glyph\":{\"id\":\"1169\"},\"nonselection_glyph\":{\"id\":\"1168\"},\"selection_glyph\":{\"id\":\"1184\"},\"view\":{\"id\":\"1171\"}},\"id\":\"1170\",\"type\":\"GlyphRenderer\"},{\"attributes\":{\"coordinates\":null,\"group\":null,\"text_color\":\"black\",\"text_font_size\":\"12pt\"},\"id\":\"1129\",\"type\":\"Title\"},{\"attributes\":{\"click_policy\":\"mute\",\"coordinates\":null,\"group\":null,\"items\":[{\"id\":\"1183\"},{\"id\":\"1205\"},{\"id\":\"1229\"},{\"id\":\"1255\"}],\"location\":[0,0],\"title\":\"Class\"},\"id\":\"1182\",\"type\":\"Legend\"},{\"attributes\":{\"data\":{\"Class\":[2],\"CoinName\":[\"BitTorrent\"],\"TotalCoinSupply\":{\"__ndarray__\":\"AAAAAGA2LkE=\",\"dtype\":\"float64\",\"order\":\"little\",\"shape\":[1]},\"TotalCoinsMined\":{\"__ndarray__\":\"MfZHbUk2LkE=\",\"dtype\":\"float64\",\"order\":\"little\",\"shape\":[1]}},\"selected\":{\"id\":\"1208\"},\"selection_policy\":{\"id\":\"1226\"}},\"id\":\"1207\",\"type\":\"ColumnDataSource\"},{\"attributes\":{},\"id\":\"1146\",\"type\":\"PanTool\"},{\"attributes\":{\"fill_color\":{\"value\":\"#fc4f30\"},\"hatch_color\":{\"value\":\"#fc4f30\"},\"line_color\":{\"value\":\"#fc4f30\"},\"size\":{\"value\":5.477225575051661},\"x\":{\"field\":\"TotalCoinsMined\"},\"y\":{\"field\":\"TotalCoinSupply\"}},\"id\":\"1188\",\"type\":\"Scatter\"},{\"attributes\":{\"label\":{\"value\":\"3\"},\"renderers\":[{\"id\":\"1237\"}]},\"id\":\"1255\",\"type\":\"LegendItem\"},{\"attributes\":{},\"id\":\"1138\",\"type\":\"BasicTicker\"},{\"attributes\":{},\"id\":\"1186\",\"type\":\"Selection\"},{\"attributes\":{\"axis\":{\"id\":\"1141\"},\"coordinates\":null,\"dimension\":1,\"grid_line_color\":null,\"group\":null,\"ticker\":null},\"id\":\"1144\",\"type\":\"Grid\"},{\"attributes\":{\"end\":1100000.0,\"reset_end\":1100000.0,\"reset_start\":-100000.0,\"start\":-100000.0,\"tags\":[[[\"TotalCoinSupply\",\"TotalCoinSupply\",null]]]},\"id\":\"1123\",\"type\":\"Range1d\"},{\"attributes\":{\"below\":[{\"id\":\"1137\"}],\"center\":[{\"id\":\"1140\"},{\"id\":\"1144\"}],\"height\":300,\"left\":[{\"id\":\"1141\"}],\"margin\":[5,5,5,5],\"min_border_bottom\":10,\"min_border_left\":10,\"min_border_right\":10,\"min_border_top\":10,\"renderers\":[{\"id\":\"1170\"},{\"id\":\"1191\"},{\"id\":\"1213\"},{\"id\":\"1237\"}],\"right\":[{\"id\":\"1182\"}],\"sizing_mode\":\"fixed\",\"title\":{\"id\":\"1129\"},\"toolbar\":{\"id\":\"1151\"},\"width\":700,\"x_range\":{\"id\":\"1122\"},\"x_scale\":{\"id\":\"1133\"},\"y_range\":{\"id\":\"1123\"},\"y_scale\":{\"id\":\"1135\"}},\"id\":\"1128\",\"subtype\":\"Figure\",\"type\":\"Plot\"},{\"attributes\":{\"fill_color\":{\"value\":\"#e5ae38\"},\"hatch_color\":{\"value\":\"#e5ae38\"},\"line_color\":{\"value\":\"#e5ae38\"},\"size\":{\"value\":5.477225575051661},\"x\":{\"field\":\"TotalCoinsMined\"},\"y\":{\"field\":\"TotalCoinSupply\"}},\"id\":\"1210\",\"type\":\"Scatter\"},{\"attributes\":{\"end\":1032416.8011566912,\"reset_end\":1032416.8011566912,\"reset_start\":-42428.08767504215,\"start\":-42428.08767504215,\"tags\":[[[\"TotalCoinsMined\",\"TotalCoinsMined\",null]]]},\"id\":\"1122\",\"type\":\"Range1d\"},{\"attributes\":{\"data\":{\"Class\":[1,1,1,1,1],\"CoinName\":[\"BiblePay\",\"LitecoinCash\",\"Poa Network\",\"Acute Angle Cloud\",\"Waves\"],\"TotalCoinSupply\":{\"__ndarray__\":\"AAAAAABQtEAAAAAAAECKQOY/pN++jm9AAAAAAABAj0AAAAAAAABZQA==\",\"dtype\":\"float64\",\"order\":\"little\",\"shape\":[5]},\"TotalCoinsMined\":{\"__ndarray__\":\"vv5Av12wm0AzXjAED/ODQEbQmElUj2lAAAAAAABAj0AAAAAAAABZQA==\",\"dtype\":\"float64\",\"order\":\"little\",\"shape\":[5]}},\"selected\":{\"id\":\"1186\"},\"selection_policy\":{\"id\":\"1202\"}},\"id\":\"1185\",\"type\":\"ColumnDataSource\"},{\"attributes\":{\"label\":{\"value\":\"2\"},\"renderers\":[{\"id\":\"1213\"}]},\"id\":\"1229\",\"type\":\"LegendItem\"},{\"attributes\":{},\"id\":\"1208\",\"type\":\"Selection\"},{\"attributes\":{\"coordinates\":null,\"data_source\":{\"id\":\"1207\"},\"glyph\":{\"id\":\"1210\"},\"group\":null,\"hover_glyph\":null,\"muted_glyph\":{\"id\":\"1212\"},\"nonselection_glyph\":{\"id\":\"1211\"},\"selection_glyph\":{\"id\":\"1230\"},\"view\":{\"id\":\"1214\"}},\"id\":\"1213\",\"type\":\"GlyphRenderer\"},{\"attributes\":{\"fill_alpha\":{\"value\":0.2},\"fill_color\":{\"value\":\"#e5ae38\"},\"hatch_alpha\":{\"value\":0.2},\"hatch_color\":{\"value\":\"#e5ae38\"},\"line_alpha\":{\"value\":0.2},\"line_color\":{\"value\":\"#e5ae38\"},\"size\":{\"value\":5.477225575051661},\"x\":{\"field\":\"TotalCoinsMined\"},\"y\":{\"field\":\"TotalCoinSupply\"}},\"id\":\"1212\",\"type\":\"Scatter\"},{\"attributes\":{},\"id\":\"1165\",\"type\":\"Selection\"}],\"root_ids\":[\"1120\"]},\"title\":\"Bokeh Application\",\"version\":\"2.4.2\"}};\n",
       "    var render_items = [{\"docid\":\"88e5a3e3-c3f1-4fad-8817-80652bbb4c72\",\"root_ids\":[\"1120\"],\"roots\":{\"1120\":\"a2af551c-30df-4e52-8a27-d3ac6a154063\"}}];\n",
       "    root.Bokeh.embed.embed_items_notebook(docs_json, render_items);\n",
       "  }\n",
       "  if (root.Bokeh !== undefined && root.Bokeh.Panel !== undefined) {\n",
       "    embed_document(root);\n",
       "  } else {\n",
       "    var attempts = 0;\n",
       "    var timer = setInterval(function(root) {\n",
       "      if (root.Bokeh !== undefined && root.Bokeh.Panel !== undefined) {\n",
       "        clearInterval(timer);\n",
       "        embed_document(root);\n",
       "      } else if (document.readyState == \"complete\") {\n",
       "        attempts++;\n",
       "        if (attempts > 200) {\n",
       "          clearInterval(timer);\n",
       "          console.log(\"Bokeh: ERROR: Unable to run BokehJS code because BokehJS library is missing\");\n",
       "        }\n",
       "      }\n",
       "    }, 25, root)\n",
       "  }\n",
       "})(window);</script>"
      ],
      "text/plain": [
       ":NdOverlay   [Class]\n",
       "   :Scatter   [TotalCoinsMined]   (TotalCoinSupply,CoinName)"
      ]
     },
     "execution_count": 38,
     "metadata": {
      "application/vnd.holoviews_exec.v0+json": {
       "id": "1120"
      }
     },
     "output_type": "execute_result"
    }
   ],
   "source": [
    "# Plot the scatter with x=\"TotalCoinsMined\" and y=\"TotalCoinSupply\"\n",
    "clustered_df['TotalCoinsMined'] = clustered_df['TotalCoinsMined'].astype(\n",
    "    float) / 1000000\n",
    "clustered_df['TotalCoinSupply'] = clustered_df['TotalCoinSupply'].astype(\n",
    "    float) / 1000000\n",
    "clustered_df.hvplot.scatter(x=\"TotalCoinsMined\", y=\"TotalCoinSupply\",\n",
    "                            by=\"Class\", colormap=\"viridis\", hover_cols=[\"CoinName\"])\n"
   ]
  },
  {
   "cell_type": "markdown",
   "metadata": {},
   "source": [
    "#### Table of Tradable Cryptocurrencies"
   ]
  },
  {
   "cell_type": "code",
   "execution_count": 39,
   "metadata": {},
   "outputs": [],
   "source": [
    "# Table with tradable cryptos\n",
    "columns = ['CoinName', 'Algorithm', 'ProofType','TotalCoinSupply', 'TotalCoinsMined', 'Class']\n"
   ]
  },
  {
   "cell_type": "code",
   "execution_count": 40,
   "metadata": {},
   "outputs": [
    {
     "data": {},
     "metadata": {},
     "output_type": "display_data"
    },
    {
     "data": {
      "application/vnd.holoviews_exec.v0+json": "",
      "text/html": [
       "<div id='1483'>\n",
       "\n",
       "\n",
       "\n",
       "\n",
       "\n",
       "  <div class=\"bk-root\" id=\"8fdb581f-e970-429a-9971-191b27b2ff2f\" data-root-id=\"1483\"></div>\n",
       "</div>\n",
       "<script type=\"application/javascript\">(function(root) {\n",
       "  function embed_document(root) {\n",
       "    var docs_json = {\"5a85c120-75ae-4385-85c3-e9b01ec6c5a1\":{\"defs\":[{\"extends\":null,\"module\":null,\"name\":\"ReactiveHTML1\",\"overrides\":[],\"properties\":[]},{\"extends\":null,\"module\":null,\"name\":\"FlexBox1\",\"overrides\":[],\"properties\":[{\"default\":\"flex-start\",\"kind\":null,\"name\":\"align_content\"},{\"default\":\"flex-start\",\"kind\":null,\"name\":\"align_items\"},{\"default\":\"row\",\"kind\":null,\"name\":\"flex_direction\"},{\"default\":\"wrap\",\"kind\":null,\"name\":\"flex_wrap\"},{\"default\":\"flex-start\",\"kind\":null,\"name\":\"justify_content\"}]},{\"extends\":null,\"module\":null,\"name\":\"TemplateActions1\",\"overrides\":[],\"properties\":[{\"default\":0,\"kind\":null,\"name\":\"open_modal\"},{\"default\":0,\"kind\":null,\"name\":\"close_modal\"}]},{\"extends\":null,\"module\":null,\"name\":\"MaterialTemplateActions1\",\"overrides\":[],\"properties\":[{\"default\":0,\"kind\":null,\"name\":\"open_modal\"},{\"default\":0,\"kind\":null,\"name\":\"close_modal\"}]}],\"roots\":{\"references\":[{\"attributes\":{},\"id\":\"1487\",\"type\":\"StringFormatter\"},{\"attributes\":{},\"id\":\"1508\",\"type\":\"NumberEditor\"},{\"attributes\":{\"margin\":[5,5,5,5],\"name\":\"HSpacer02595\",\"sizing_mode\":\"stretch_width\"},\"id\":\"1484\",\"type\":\"Spacer\"},{\"attributes\":{\"editor\":{\"id\":\"1508\"},\"field\":\"TotalCoinsMined\",\"formatter\":{\"id\":\"1507\"},\"title\":\"TotalCoinsMined\"},\"id\":\"1509\",\"type\":\"TableColumn\"},{\"attributes\":{},\"id\":\"1498\",\"type\":\"StringEditor\"},{\"attributes\":{},\"id\":\"1497\",\"type\":\"StringFormatter\"},{\"attributes\":{\"editor\":{\"id\":\"1503\"},\"field\":\"TotalCoinSupply\",\"formatter\":{\"id\":\"1502\"},\"title\":\"TotalCoinSupply\"},\"id\":\"1504\",\"type\":\"TableColumn\"},{\"attributes\":{\"children\":[{\"id\":\"1484\"},{\"id\":\"1517\"},{\"id\":\"1524\"}],\"margin\":[0,0,0,0],\"name\":\"Row02591\",\"tags\":[\"embedded\"]},\"id\":\"1483\",\"type\":\"Row\"},{\"attributes\":{\"editor\":{\"id\":\"1493\"},\"field\":\"Algorithm\",\"formatter\":{\"id\":\"1492\"},\"title\":\"Algorithm\"},\"id\":\"1494\",\"type\":\"TableColumn\"},{\"attributes\":{\"editor\":{\"id\":\"1498\"},\"field\":\"ProofType\",\"formatter\":{\"id\":\"1497\"},\"title\":\"ProofType\"},\"id\":\"1499\",\"type\":\"TableColumn\"},{\"attributes\":{\"margin\":[5,5,5,5],\"name\":\"HSpacer02596\",\"sizing_mode\":\"stretch_width\"},\"id\":\"1524\",\"type\":\"Spacer\"},{\"attributes\":{\"data\":{\"Algorithm\":[\"Scrypt\",\"Scrypt\",\"X13\",\"SHA-256\",\"Ethash\",\"Scrypt\",\"X11\",\"CryptoNight-V7\",\"Ethash\",\"Equihash\",\"SHA-512\",\"Multiple\",\"SHA-256\",\"SHA-256\",\"Scrypt\",\"X15\",\"X11\",\"Scrypt\",\"Scrypt\",\"Scrypt\",\"Multiple\",\"Scrypt\",\"SHA-256\",\"Scrypt\",\"Scrypt\",\"Scrypt\",\"Quark\",\"Groestl\",\"Scrypt\",\"Scrypt\",\"Scrypt\",\"Scrypt\",\"Scrypt\",\"X11\",\"Scrypt\",\"Groestl\",\"Multiple\",\"SHA-256\",\"Scrypt\",\"Scrypt\",\"Scrypt\",\"Scrypt\",\"PoS\",\"Scrypt\",\"Scrypt\",\"NeoScrypt\",\"Scrypt\",\"Scrypt\",\"Scrypt\",\"Scrypt\",\"X11\",\"Scrypt\",\"X11\",\"SHA-256\",\"Scrypt\",\"Scrypt\",\"Scrypt\",\"SHA3\",\"Scrypt\",\"HybridScryptHash256\",\"Scrypt\",\"Scrypt\",\"SHA-256\",\"Scrypt\",\"X13\",\"Scrypt\",\"SHA-256\",\"Scrypt\",\"X13\",\"NeoScrypt\",\"Scrypt\",\"Scrypt\",\"Scrypt\",\"Scrypt\",\"Scrypt\",\"Scrypt\",\"X11\",\"X11\",\"SHA-256\",\"Multiple\",\"SHA-256\",\"PHI1612\",\"X11\",\"SHA-256\",\"SHA-256\",\"SHA-256\",\"X11\",\"Scrypt\",\"Scrypt\",\"Scrypt\",\"Scrypt\",\"Lyra2REv2\",\"Scrypt\",\"X11\",\"Multiple\",\"SHA-256\",\"X13\",\"Scrypt\",\"CryptoNight\",\"CryptoNight\",\"Shabal256\",\"Counterparty\",\"Scrypt\",\"SHA-256\",\"Groestl\",\"Scrypt\",\"Scrypt\",\"Scrypt\",\"X13\",\"Scrypt\",\"Scrypt\",\"Scrypt\",\"Scrypt\",\"X13\",\"Scrypt\",\"Stanford Folding\",\"X11\",\"Multiple\",\"QuBit\",\"Scrypt\",\"Scrypt\",\"Scrypt\",\"M7 POW\",\"Scrypt\",\"SHA-256\",\"Scrypt\",\"X11\",\"SHA3\",\"X11\",\"Lyra2RE\",\"SHA-256\",\"QUAIT\",\"X11\",\"X11\",\"Scrypt\",\"Scrypt\",\"Scrypt\",\"Ethash\",\"X13\",\"Blake2b\",\"SHA-256\",\"X15\",\"X11\",\"SHA-256\",\"BLAKE256\",\"Scrypt\",\"1GB AES Pattern Search\",\"SHA-256\",\"X11\",\"Scrypt\",\"SHA-256\",\"SHA-256\",\"NIST5\",\"Scrypt\",\"Scrypt\",\"X11\",\"Dagger\",\"Scrypt\",\"X11GOST\",\"X11\",\"Scrypt\",\"SHA-256\",\"Scrypt\",\"PoS\",\"Scrypt\",\"X11\",\"X11\",\"SHA-256\",\"SHA-256\",\"NIST5\",\"X11\",\"Scrypt\",\"POS 3.0\",\"Scrypt\",\"Scrypt\",\"Scrypt\",\"X13\",\"X11\",\"X11\",\"Equihash\",\"X11\",\"Scrypt\",\"CryptoNight\",\"SHA-256\",\"SHA-256\",\"X11\",\"Scrypt\",\"Multiple\",\"Scrypt\",\"Scrypt\",\"Scrypt\",\"SHA-256\",\"Scrypt\",\"Scrypt\",\"SHA-256D\",\"PoS\",\"Scrypt\",\"X11\",\"Lyra2Z\",\"PoS\",\"X13\",\"X14\",\"PoS\",\"SHA-256D\",\"Ethash\",\"Equihash\",\"DPoS\",\"X11\",\"Scrypt\",\"X11\",\"X13\",\"X11\",\"PoS\",\"Scrypt\",\"Scrypt\",\"X11\",\"PoS\",\"X11\",\"SHA-256\",\"Scrypt\",\"X11\",\"Scrypt\",\"Scrypt\",\"X11\",\"CryptoNight\",\"Scrypt\",\"Scrypt\",\"Scrypt\",\"Scrypt\",\"Quark\",\"QuBit\",\"Scrypt\",\"CryptoNight\",\"Lyra2RE\",\"Scrypt\",\"SHA-256\",\"X11\",\"Scrypt\",\"X11\",\"Scrypt\",\"CryptoNight-V7\",\"Scrypt\",\"Scrypt\",\"Scrypt\",\"X13\",\"X11\",\"Equihash\",\"Scrypt\",\"Scrypt\",\"Lyra2RE\",\"Scrypt\",\"Dagger-Hashimoto\",\"X11\",\"Blake2S\",\"X11\",\"Scrypt\",\"PoS\",\"X11\",\"NIST5\",\"PoS\",\"X11\",\"Scrypt\",\"Scrypt\",\"Scrypt\",\"SHA-256\",\"X11\",\"Scrypt\",\"Scrypt\",\"SHA-256\",\"PoS\",\"Scrypt\",\"X15\",\"SHA-256\",\"Scrypt\",\"POS 3.0\",\"CryptoNight-V7\",\"536\",\"Argon2d\",\"Blake2b\",\"Cloverhash\",\"CryptoNight\",\"NIST5\",\"X11\",\"NIST5\",\"Skein\",\"Scrypt\",\"X13\",\"Scrypt\",\"X11\",\"X11\",\"Scrypt\",\"CryptoNight\",\"X13\",\"Time Travel\",\"Scrypt\",\"Keccak\",\"SkunkHash v2 Raptor\",\"X11\",\"Skein\",\"SHA-256\",\"X11\",\"Scrypt\",\"VeChainThor Authority\",\"Scrypt\",\"PoS\",\"Scrypt\",\"Scrypt\",\"Scrypt\",\"Scrypt\",\"Scrypt\",\"Scrypt\",\"Scrypt\",\"CryptoNight\",\"SHA-512\",\"Ouroboros\",\"X11\",\"Equihash\",\"NeoScrypt\",\"X11\",\"Scrypt\",\"NeoScrypt\",\"Lyra2REv2\",\"Equihash\",\"Scrypt\",\"SHA-256\",\"NIST5\",\"PHI1612\",\"Dagger\",\"Scrypt\",\"Quark\",\"Scrypt\",\"POS 2.0\",\"Scrypt\",\"SHA-256\",\"X11\",\"NeoScrypt\",\"Ethash\",\"NeoScrypt\",\"X11\",\"DPoS\",\"NIST5\",\"X13\",\"Multiple\",\"Scrypt\",\"CryptoNight\",\"CryptoNight\",\"Ethash\",\"NIST5\",\"Quark\",\"X11\",\"CryptoNight-V7\",\"Scrypt\",\"Scrypt\",\"Scrypt\",\"X11\",\"BLAKE256\",\"X11\",\"NeoScrypt\",\"Quark\",\"NeoScrypt\",\"Scrypt\",\"Scrypt\",\"Scrypt\",\"X11\",\"X11\",\"SHA-256\",\"C11\",\"POS 3.0\",\"Ethash\",\"Scrypt\",\"CryptoNight\",\"SkunkHash\",\"Scrypt\",\"CryptoNight\",\"Scrypt\",\"Dagger\",\"Lyra2REv2\",\"X13\",\"Proof-of-BibleHash\",\"SHA-256 + Hive\",\"Scrypt\",\"Scrypt\",\"X11\",\"C11\",\"Proof-of-Authority\",\"X11\",\"XEVAN\",\"Scrypt\",\"VBFT\",\"Ethash\",\"CryptoNight\",\"Scrypt\",\"IMesh\",\"NIST5\",\"Scrypt\",\"Scrypt\",\"Equihash\",\"Scrypt\",\"Lyra2Z\",\"Green Protocol\",\"PoS\",\"Scrypt\",\"Semux BFT consensus\",\"X11\",\"Quark\",\"PoS\",\"CryptoNight\",\"X16R\",\"Scrypt\",\"NIST5\",\"Lyra2RE\",\"XEVAN\",\"Tribus\",\"Scrypt\",\"Lyra2Z\",\"CryptoNight\",\"CryptoNight Heavy\",\"CryptoNight\",\"Scrypt\",\"Scrypt\",\"Jump Consistent Hash\",\"SHA-256D\",\"CryptoNight\",\"Scrypt\",\"X15\",\"Scrypt\",\"Quark\",\"SHA-256\",\"DPoS\",\"X16R\",\"HMQ1725\",\"X11\",\"X16R\",\"Quark\",\"Quark\",\"Scrypt\",\"Lyra2REv2\",\"Quark\",\"Scrypt\",\"Scrypt\",\"CryptoNight-V7\",\"Cryptonight-GPU\",\"XEVAN\",\"CryptoNight Heavy\",\"X11\",\"X11\",\"Scrypt\",\"PoS\",\"SHA-256\",\"Keccak\",\"X11\",\"X11\",\"Scrypt\",\"SHA-512\",\"X16R\",\"ECC 256K1\",\"Equihash\",\"XEVAN\",\"Lyra2Z\",\"SHA-256\",\"XEVAN\",\"X11\",\"CryptoNight\",\"Quark\",\"Blake\",\"Blake\",\"Equihash\",\"Exosis\",\"Scrypt\",\"Scrypt\",\"Equihash\",\"Quark\",\"Equihash\",\"Quark\",\"Scrypt\",\"QuBit\",\"X11\",\"Scrypt\",\"XEVAN\",\"SHA-256D\",\"X11\",\"SHA-256\",\"X13\",\"SHA-256\",\"X11\",\"DPoS\",\"Scrypt\",\"Scrypt\",\"X11\",\"NeoScrypt\",\"Scrypt\",\"Blake\",\"Scrypt\",\"SHA-256\",\"Scrypt\",\"X11\",\"Scrypt\",\"Scrypt\",\"SHA-256\",\"X11\",\"SHA-256\",\"Scrypt\",\"Scrypt\",\"Scrypt\",\"Groestl\",\"X11\",\"Scrypt\",\"PoS\",\"Scrypt\",\"Scrypt\",\"X11\",\"SHA-256\",\"DPoS\",\"Scrypt\",\"Scrypt\",\"NeoScrypt\",\"Multiple\",\"X13\",\"Equihash+Scrypt\",\"DPoS\",\"Ethash\",\"DPoS\",\"SHA-256\",\"Leased POS\",\"PoS\",\"TRC10\",\"PoS\",\"SHA-256\",\"Scrypt\",\"CryptoNight\",\"Equihash\",\"Scrypt\"],\"Class\":{\"__ndarray__\":\"AwAAAAMAAAADAAAAAAAAAAAAAAAAAAAAAwAAAAAAAAAAAAAAAAAAAAMAAAAAAAAAAwAAAAMAAAAAAAAAAwAAAAAAAAAAAAAAAwAAAAMAAAAAAAAAAAAAAAAAAAAAAAAAAAAAAAMAAAAAAAAAAAAAAAAAAAADAAAAAAAAAAMAAAAAAAAAAAAAAAMAAAADAAAAAAAAAAAAAAAAAAAAAAAAAAAAAAAAAAAAAwAAAAMAAAAAAAAAAAAAAAAAAAAAAAAAAAAAAAMAAAADAAAAAAAAAAMAAAAAAAAAAAAAAAAAAAAAAAAAAwAAAAAAAAAAAAAAAwAAAAAAAAADAAAAAwAAAAMAAAAAAAAAAAAAAAAAAAADAAAAAwAAAAMAAAADAAAAAwAAAAAAAAAAAAAAAAAAAAMAAAADAAAAAAAAAAMAAAAAAAAAAwAAAAMAAAAAAAAAAAAAAAAAAAAAAAAAAwAAAAMAAAAAAAAAAwAAAAAAAAAAAAAAAwAAAAMAAAAAAAAAAwAAAAMAAAAAAAAAAAAAAAMAAAADAAAAAAAAAAMAAAADAAAAAAAAAAMAAAAAAAAAAwAAAAAAAAADAAAAAAAAAAMAAAADAAAAAAAAAAAAAAADAAAAAAAAAAAAAAAAAAAAAwAAAAAAAAAAAAAAAAAAAAAAAAAAAAAAAwAAAAMAAAAAAAAAAAAAAAAAAAADAAAAAAAAAAMAAAAAAAAAAAAAAAMAAAAAAAAAAwAAAAAAAAADAAAAAwAAAAAAAAAAAAAAAwAAAAAAAAAAAAAAAwAAAAMAAAAAAAAAAwAAAAAAAAADAAAAAwAAAAMAAAAAAAAAAAAAAAAAAAAAAAAAAwAAAAMAAAADAAAAAwAAAAMAAAAAAAAAAAAAAAMAAAADAAAAAwAAAAMAAAADAAAAAAAAAAMAAAADAAAAAwAAAAMAAAADAAAAAAAAAAMAAAAAAAAAAwAAAAMAAAAAAAAAAwAAAAAAAAADAAAAAwAAAAAAAAADAAAAAAAAAAMAAAAAAAAAAwAAAAAAAAADAAAAAwAAAAMAAAADAAAAAAAAAAMAAAADAAAAAwAAAAMAAAADAAAAAAAAAAAAAAADAAAAAwAAAAAAAAAAAAAAAwAAAAMAAAADAAAAAwAAAAMAAAAAAAAAAwAAAAMAAAADAAAAAwAAAAMAAAADAAAAAwAAAAMAAAAAAAAAAwAAAAMAAAADAAAAAwAAAAMAAAADAAAAAAAAAAAAAAAAAAAAAwAAAAMAAAADAAAAAwAAAAAAAAADAAAAAAAAAAMAAAADAAAAAAAAAAMAAAAAAAAAAAAAAAMAAAAAAAAAAAAAAAMAAAAAAAAAAwAAAAMAAAADAAAAAAAAAAMAAAADAAAAAAAAAAMAAAADAAAAAwAAAAMAAAADAAAAAwAAAAMAAAAAAAAAAwAAAAAAAAADAAAAAwAAAAMAAAADAAAAAAAAAAMAAAAAAAAAAwAAAAAAAAAAAAAAAAAAAAAAAAADAAAAAAAAAAMAAAADAAAAAAAAAAMAAAAAAAAAAAAAAAAAAAADAAAAAAAAAAMAAAAAAAAAAAAAAAAAAAADAAAAAAAAAAMAAAAAAAAAAwAAAAMAAAADAAAAAAAAAAMAAAAAAAAAAAAAAAAAAAAAAAAAAAAAAAMAAAADAAAAAAAAAAMAAAADAAAAAwAAAAAAAAADAAAAAAAAAAMAAAAAAAAAAwAAAAAAAAADAAAAAwAAAAMAAAADAAAAAAAAAAMAAAADAAAAAAAAAAMAAAADAAAAAwAAAAAAAAAAAAAAAAAAAAAAAAADAAAAAwAAAAMAAAADAAAAAAAAAAMAAAAAAAAAAAAAAAAAAAADAAAAAwAAAAAAAAAAAAAAAwAAAAMAAAAAAAAAAwAAAAAAAAAAAAAAAAAAAAMAAAAAAAAAAAAAAAMAAAADAAAAAwAAAAAAAAAAAAAAAAAAAAMAAAADAAAAAwAAAAAAAAAAAAAAAwAAAAAAAAAAAAAAAAAAAAAAAAADAAAAAQAAAAEAAAAAAAAAAAAAAAAAAAADAAAAAQAAAAMAAAADAAAAAwAAAAMAAAAAAAAAAAAAAAAAAAAAAAAAAwAAAAMAAAADAAAAAAAAAAMAAAAAAAAAAwAAAAMAAAADAAAAAwAAAAAAAAADAAAAAwAAAAAAAAADAAAAAwAAAAAAAAAAAAAAAwAAAAAAAAADAAAAAAAAAAAAAAAAAAAAAAAAAAMAAAADAAAAAAAAAAMAAAAAAAAAAwAAAAMAAAADAAAAAwAAAAMAAAADAAAAAAAAAAAAAAAAAAAAAwAAAAMAAAADAAAAAwAAAAMAAAADAAAAAAAAAAMAAAAAAAAAAAAAAAAAAAAAAAAAAwAAAAMAAAADAAAAAwAAAAAAAAADAAAAAwAAAAAAAAADAAAAAwAAAAAAAAABAAAAAAAAAAMAAAAAAAAAAAAAAAMAAAADAAAAAAAAAAMAAAAAAAAAAAAAAAMAAAAAAAAAAAAAAAMAAAAAAAAAAwAAAAAAAAADAAAAAwAAAAAAAAADAAAAAwAAAAMAAAADAAAAAwAAAAAAAAAAAAAAAAAAAAMAAAADAAAAAwAAAAAAAAADAAAAAAAAAAMAAAAAAAAAAwAAAAMAAAADAAAAAwAAAAAAAAADAAAAAwAAAAMAAAAAAAAAAwAAAAAAAAADAAAAAAAAAAMAAAADAAAAAwAAAAAAAAAAAAAAAwAAAAMAAAADAAAAAwAAAAMAAAADAAAAAAAAAAMAAAAAAAAAAwAAAAAAAAADAAAAAwAAAAEAAAADAAAAAgAAAAMAAAADAAAAAwAAAAAAAAAAAAAAAwAAAA==\",\"dtype\":\"int32\",\"order\":\"little\",\"shape\":[532]},\"CoinName\":[\"42 Coin\",\"404Coin\",\"EliteCoin\",\"Bitcoin\",\"Ethereum\",\"Litecoin\",\"Dash\",\"Monero\",\"Ethereum Classic\",\"ZCash\",\"Bitshares\",\"DigiByte\",\"BitcoinDark\",\"PayCoin\",\"ProsperCoin\",\"KoboCoin\",\"Spreadcoin\",\"Argentum\",\"Aurora Coin\",\"BlueCoin\",\"MyriadCoin\",\"MoonCoin\",\"ZetaCoin\",\"SexCoin\",\"Quatloo\",\"EnergyCoin\",\"QuarkCoin\",\"Riecoin\",\"Digitalcoin \",\"BitBar\",\"Catcoin\",\"CryptoBullion\",\"CannaCoin\",\"CryptCoin\",\"CasinoCoin\",\"Diamond\",\"Verge\",\"DevCoin\",\"EarthCoin\",\"E-Gulden\",\"Einsteinium\",\"Emerald\",\"Exclusive Coin\",\"FlutterCoin\",\"Franko\",\"FeatherCoin\",\"GrandCoin\",\"GlobalCoin\",\"GoldCoin\",\"HoboNickels\",\"HyperStake\",\"Infinite Coin\",\"IOCoin\",\"IXcoin\",\"KrugerCoin\",\"LuckyCoin\",\"Litebar \",\"MaxCoin\",\"MegaCoin\",\"MediterraneanCoin\",\"MintCoin\",\"MinCoin\",\"MazaCoin\",\"Nautilus Coin\",\"NavCoin\",\"NobleCoin\",\"Namecoin\",\"NyanCoin\",\"OpalCoin\",\"Orbitcoin\",\"PotCoin\",\"PhoenixCoin\",\"Reddcoin\",\"RonPaulCoin\",\"StableCoin\",\"SmartCoin\",\"SuperCoin\",\"SyncCoin\",\"SysCoin\",\"TeslaCoin\",\"TigerCoin\",\"TittieCoin\",\"TorCoin\",\"TerraCoin\",\"UnbreakableCoin\",\"Unobtanium\",\"UroCoin\",\"UnitaryStatus Dollar\",\"UltraCoin\",\"ViaCoin\",\"VeriCoin\",\"Vertcoin\",\"WorldCoin\",\"X11 Coin\",\"Crypti\",\"JouleCoin\",\"StealthCoin\",\"ZCC Coin\",\"ByteCoin\",\"DigitalNote \",\"BurstCoin\",\"StorjCoin\",\"MonaCoin\",\"Neutron\",\"FairCoin\",\"Gulden\",\"RubyCoin\",\"PesetaCoin\",\"Kore\",\"Wild Beast Coin\",\"Dnotes\",\"Flo\",\"8BIT Coin\",\"Sativa Coin\",\"ArtByte\",\"Folding Coin\",\"Ucoin\",\"Unitus\",\"CypherPunkCoin\",\"OmniCron\",\"Vtorrent\",\"GreenCoin\",\"Cryptonite\",\"MasterCoin\",\"SoonCoin\",\"1Credit\",\"IslaCoin\",\"Nexus\",\"MarsCoin \",\"Crypto\",\"Anarchists Prime\",\"Droidz\",\"BowsCoin\",\"Squall Coin\",\"Song Coin\",\"BitZeny\",\"Diggits\",\"Expanse\",\"Paycon\",\"Siacoin\",\"Emercoin\",\"EverGreenCoin\",\"MindCoin\",\"I0coin\",\"Decred\",\"Revolution VR\",\"HOdlcoin\",\"EDRCoin\",\"Hitcoin\",\"Gamecredits\",\"DubaiCoin\",\"CarpeDiemCoin\",\"PWR Coin\",\"BillaryCoin\",\"GPU Coin\",\"Adzcoin\",\"SoilCoin\",\"YoCoin\",\"SibCoin\",\"EuropeCoin\",\"ZeitCoin\",\"SwingCoin\",\"SafeExchangeCoin\",\"Nebuchadnezzar\",\"Francs\",\"BolivarCoin\",\"Ratecoin\",\"Revenu\",\"Clockcoin\",\"VIP Tokens\",\"BitSend\",\"Omni\",\"Let it Ride\",\"PutinCoin\",\"iBankCoin\",\"Frankywillcoin\",\"MudraCoin\",\"PizzaCoin\",\"Lutetium Coin\",\"Komodo\",\"GoldBlocks\",\"CarterCoin\",\"Karbo\",\"BitTokens\",\"ZayedCoin\",\"MustangCoin\",\"ZoneCoin\",\"Circuits of Value\",\"RootCoin\",\"DopeCoin\",\"BitCurrency\",\"DollarCoin\",\"Swiscoin\",\"Shilling\",\"BuzzCoin\",\"Opair\",\"PesoBit\",\"Halloween Coin\",\"ZCoin\",\"CoffeeCoin\",\"RoyalCoin\",\"GanjaCoin V2\",\"TeamUP\",\"LanaCoin\",\"Elementrem\",\"ZClassic\",\"ARK\",\"InsaneCoin\",\"KiloCoin\",\"ArtexCoin\",\"EmberCoin\",\"XenixCoin\",\"FreeCoin\",\"PLNCoin\",\"AquariusCoin\",\"Kurrent\",\"Creatio\",\"Eternity\",\"Eurocoin\",\"BitcoinFast\",\"Stakenet\",\"BitConnect Coin\",\"MoneyCoin\",\"Enigma\",\"Cannabis Industry Coin\",\"Russiacoin\",\"PandaCoin\",\"GameUnits\",\"GAKHcoin\",\"Allsafe\",\"LiteCreed\",\"OsmiumCoin\",\"Bikercoins\",\"HexxCoin\",\"Klingon Empire Darsek\",\"Internet of People\",\"KushCoin\",\"Printerium\",\"PacCoin\",\"Impeach\",\"Citadel\",\"Zilbercoin\",\"FirstCoin\",\"BeaverCoin\",\"FindCoin\",\"VaultCoin\",\"Zero\",\"OpenChat\",\"Canada eCoin\",\"Zoin\",\"RenosCoin\",\"DubaiCoin\",\"VirtacoinPlus\",\"TajCoin\",\"Impact\",\"EB3coin\",\"Atmos\",\"HappyCoin\",\"Coinonat\",\"MacronCoin\",\"Condensate\",\"Independent Money System\",\"ArgusCoin\",\"LomoCoin\",\"ProCurrency\",\"GoldReserve\",\"BenjiRolls\",\"GrowthCoin\",\"ILCoin\",\"Phreak\",\"Degas Coin\",\"HTML5 Coin\",\"Ultimate Secure Cash\",\"EquiTrader\",\"QTUM\",\"Quantum Resistant Ledger\",\"Espers\",\"Dynamic\",\"Nano\",\"ChanCoin\",\"Dinastycoin\",\"Denarius\",\"DigitalPrice\",\"Virta Unique Coin\",\"Bitcoin Planet\",\"Unify\",\"BritCoin\",\"SocialCoin\",\"ArcticCoin\",\"DAS\",\"Linda\",\"LeviarCoin\",\"DeepOnion\",\"Bitcore\",\"gCn Coin\",\"SmartCash\",\"Signatum\",\"Onix\",\"Cream\",\"Bitcoin Cash\",\"Monoeci\",\"Draftcoin\",\"Vechain\",\"Sojourn Coin\",\"Stakecoin\",\"NewYorkCoin\",\"FrazCoin\",\"Kronecoin\",\"AdCoin\",\"Linx\",\"CoinonatX\",\"Ethereum Dark\",\"Sumokoin\",\"Obsidian\",\"Cardano\",\"Regalcoin\",\"BitcoinZ\",\"TrezarCoin\",\"Elements\",\"TerraNovaCoin\",\"VIVO Coin\",\"Rupee\",\"Bitcoin Gold\",\"WomenCoin\",\"Theresa May Coin\",\"NamoCoin\",\"LUXCoin\",\"Pirl\",\"Xios\",\"Bitcloud 2.0\",\"eBoost\",\"KekCoin\",\"BlackholeCoin\",\"Infinity Economics\",\"Pura\",\"Innova\",\"Ellaism\",\"GoByte\",\"Magnet\",\"Lamden Tau\",\"Electra\",\"Bitcoin Diamond\",\"SHIELD\",\"Cash & Back Coin\",\"UltraNote\",\"BitCoal\",\"DaxxCoin\",\"Bulwark\",\"Kalkulus\",\"AC3\",\"Lethean\",\"GermanCoin\",\"LiteCoin Ultra\",\"PopularCoin\",\"PhantomX\",\"Photon\",\"Sucre\",\"SparksPay\",\"Digiwage\",\"GunCoin\",\"IrishCoin\",\"Trollcoin\",\"Litecoin Plus\",\"Monkey Project\",\"Pioneer Coin\",\"UnitedBitcoin\",\"Interzone\",\"TokenPay\",\"1717 Masonic Commemorative Token\",\"My Big Coin\",\"TurtleCoin\",\"MUNcoin\",\"Unified Society USDEX\",\"Niobio Cash\",\"ShareChain\",\"Travelflex\",\"KREDS\",\"Tokyo Coin\",\"BiblePay\",\"LitecoinCash\",\"BitFlip\",\"LottoCoin\",\"Crypto Improvement Fund\",\"Stipend\",\"Poa Network\",\"Pushi\",\"Ellerium\",\"Velox\",\"Ontology\",\"Callisto Network\",\"BitTube\",\"Poseidon\",\"Aidos Kuneen\",\"Bitspace\",\"Briacoin\",\"Ignition\",\"Bitrolium\",\"MedicCoin\",\"Alpenschillling\",\"Bitcoin Green\",\"Deviant Coin\",\"Abjcoin\",\"Semux\",\"FuturoCoin\",\"Carebit\",\"Zealium\",\"Monero Classic\",\"Proton\",\"iDealCash\",\"Jumpcoin\",\"Infinex\",\"Bitcoin Incognito\",\"KEYCO\",\"HollyWoodCoin\",\"GINcoin\",\"PlatinCoin\",\"Loki\",\"Newton Coin\",\"Swisscoin\",\"Xt3ch\",\"MassGrid\",\"TheVig\",\"PluraCoin\",\"EmaratCoin\",\"Dekado\",\"Lynx\",\"Poseidon Quark\",\"BitcoinWSpectrum\",\"Muse\",\"Motion\",\"PlusOneCoin\",\"Axe\",\"Trivechain\",\"Dystem\",\"Giant\",\"Peony Coin\",\"Absolute Coin\",\"Vitae\",\"HexCoin\",\"TPCash\",\"Webchain\",\"Ryo\",\"Urals Coin\",\"Qwertycoin\",\"ARENON\",\"EUNO\",\"MMOCoin\",\"Ketan\",\"Project Pai\",\"XDNA\",\"PAXEX\",\"Azart\",\"ThunderStake\",\"Kcash\",\"Xchange\",\"Acute Angle Cloud\",\"CrypticCoin\",\"Bettex coin\",\"Actinium\",\"Bitcoin SV\",\"BitMoney\",\"Junson Ming Chan Coin\",\"FREDEnergy\",\"HerbCoin\",\"Universal Molecule\",\"Lithium\",\"PirateCash\",\"Exosis\",\"Block-Logic\",\"Oduwa\",\"Beam\",\"Galilel\",\"Bithereum\",\"Crypto Sports\",\"Credit\",\"SLICE\",\"Dash Platinum\",\"Nasdacoin\",\"Beetle Coin\",\"Titan Coin\",\"Award\",\"BLAST\",\"Bitcoin Rhodium\",\"GlobalToken\",\"Insane Coin\",\"ALAX\",\"LiteDoge\",\"SolarCoin\",\"TruckCoin\",\"UFO Coin\",\"OrangeCoin\",\"BlakeCoin\",\"BitstarCoin\",\"NeosCoin\",\"HyperCoin\",\"PinkCoin\",\"Crypto Escudo\",\"AudioCoin\",\"IncaKoin\",\"Piggy Coin\",\"Crown Coin\",\"Genstake\",\"SmileyCoin\",\"XiaoMiCoin\",\"Groestlcoin\",\"CapriCoin\",\" ClubCoin\",\"Radium\",\"Bata\",\"Pakcoin\",\"Creditbit \",\"OKCash\",\"Lisk\",\"HiCoin\",\"WhiteCoin\",\"FriendshipCoin\",\"JoinCoin\",\"Triangles Coin\",\"Vollar\",\"EOS\",\"Reality Clash\",\"Oxycoin\",\"TigerCash\",\"Waves\",\"Particl\",\"BitTorrent\",\"Nxt\",\"ZEPHYR\",\"Gapcoin\",\"Beldex\",\"Horizen\",\"BitcoinPlus\"],\"ProofType\":[\"PoW/PoS\",\"PoW/PoS\",\"PoW/PoS\",\"PoW\",\"PoW\",\"PoW\",\"PoW/PoS\",\"PoW\",\"PoW\",\"PoW\",\"PoS\",\"PoW\",\"PoW/PoS\",\"PoS\",\"PoW\",\"PoW/PoS\",\"PoW\",\"PoW\",\"PoW/PoS\",\"PoW/PoS\",\"PoW\",\"PoW\",\"PoW\",\"PoW\",\"PoW\",\"PoW/PoS\",\"PoW\",\"PoW\",\"PoW\",\"PoW/PoS\",\"PoW\",\"PoW/PoS\",\"PoW\",\"PoW\",\"PoC\",\"PoW/PoS\",\"PoW\",\"PoW\",\"PoW\",\"PoW\",\"PoW\",\"PoW\",\"PoS\",\"PoS/PoW/PoT\",\"PoW\",\"PoW\",\"PoW\",\"PoW\",\"PoW\",\"PoW/PoS\",\"PoS\",\"PoW\",\"PoW/PoS\",\"PoW\",\"PoW\",\"PoW\",\"PoW\",\"PoW/PoS\",\"PoW\",\"PoW\",\"PoS\",\"PoW\",\"PoW/PoS\",\"PoS\",\"PoW/PoS\",\"PoW\",\"PoW\",\"PoW\",\"PoW/PoS\",\"PoW/PoS\",\"PoW/PoS\",\"PoW/PoS\",\"PoW/PoS\",\"PoW\",\"PoW\",\"PoW\",\"PoS\",\"PoW/PoS\",\"PoW\",\"PoS\",\"PoW\",\"PoS\",\"PoW/PoS\",\"PoW\",\"PoW\",\"PoW\",\"PoW\",\"PoW/PoS\",\"PoW/PoS\",\"PoW\",\"PoST\",\"PoW\",\"PoW\",\"PoW/PoS\",\"PoS\",\"PoW\",\"PoW/PoS\",\"PoW/PoS\",\"PoW\",\"PoW\",\"PoC\",\"PoS\",\"PoW\",\"PoW/PoS\",\"PoW/PoS\",\"PoW\",\"PoS\",\"PoW\",\"PoW/PoS\",\"PoW\",\"PoS\",\"PoW\",\"PoW/PoS\",\"PoW/PoS\",\"PoW\",\"PoW\",\"PoS\",\"PoW\",\"PoW\",\"PoW\",\"PoW/PoS\",\"PoW\",\"PoW\",\"PoW\",\"PoW\",\"PoW\",\"PoW/PoS\",\"PoW/nPoS\",\"PoW\",\"PoW\",\"PoW\",\"PoW/PoS\",\"PoW\",\"PoS/PoW\",\"PoW\",\"PoW\",\"PoS\",\"PoW\",\"PoW/PoS\",\"PoW\",\"PoW/PoS\",\"PoW/PoS\",\"PoW\",\"PoW\",\"PoW/PoS\",\"PoW\",\"PoW\",\"PoW/PoS\",\"PoW/PoS\",\"PoW\",\"PoW/PoS\",\"PoW\",\"PoW/PoS\",\"PoW/PoS\",\"PoS\",\"PoW\",\"PoW\",\"PoW\",\"PoW\",\"PoW/PoS\",\"PoS\",\"PoW/PoS\",\"PoC\",\"PoS\",\"PoW\",\"PoW\",\"PoW/PoS\",\"PoW/PoS\",\"PoW/PoS\",\"PoW/PoS\",\"PoW/PoS\",\"PoW\",\"PoS\",\"PoW/PoS\",\"PoW/PoS\",\"PoW/PoS\",\"PoS\",\"PoW\",\"PoS\",\"dPoW/PoW\",\"PoW/PoS\",\"PoW/PoS\",\"PoW\",\"PoW/PoS\",\"PoW\",\"PoW/PoS\",\"PoW/PoS\",\"PoW\",\"PoW/PoS\",\"PoW\",\"PoS\",\"PoW\",\"PoW/PoW\",\"PoW\",\"PoW/PoS\",\"PoS\",\"PoW/PoS\",\"PoW/PoS\",\"PoW\",\"PoS\",\"PoS\",\"PoW/PoS\",\"PoS\",\"PoW/PoS\",\"PoW\",\"PoW\",\"DPoS\",\"PoW/PoS\",\"PoW\",\"PoW\",\"PoW/PoS\",\"PoW/PoS\",\"PoS\",\"PoW/PoS\",\"PoW/PoS\",\"PoW\",\"PoS\",\"PoW/PoS\",\"PoW/PoS\",\"PoW/PoS\",\"TPoS\",\"PoW/PoS\",\"PoW/PoS\",\"PoW/PoS\",\"PoW\",\"PoW/PoS\",\"PoS\",\"PoW/PoS\",\"PoW/PoS\",\"PoS\",\"PoW/PoS\",\"PoW\",\"PoW\",\"PoW\",\"PoW/PoS\",\"PoW/PoS\",\"PoW/PoS\",\"PoW/PoS\",\"PoW\",\"PoW/PoS\",\"PoW\",\"PoS\",\"PoW/PoS \",\"PoW\",\"PoS\",\"PoW\",\"PoW\",\"PoW/PoS\",\"PoW\",\"PoW\",\"PoS\",\"PoW\",\"PoW/PoS\",\"PoW/PoS\",\"PoW/PoS\",\"PoW\",\"PoS\",\"PoW/PoS\",\"PoW\",\"PoS\",\"PoW/PoS\",\"PoW/PoS\",\"PoW/PoS\",\"PoW/PoS\",\"PoS\",\"PoW/PoS\",\"PoW\",\"PoS\",\"PoW\",\"PoS\",\"PoW/PoS\",\"PoW/PoS\",\"PoS\",\"PoW\",\"PoS\",\"PoW\",\"PoW/PoS\",\"PoW\",\"PoW\",\"PoW\",\"PoW\",\"PoW/PoS\",\"PoW\",\"PoW/PoS\",\"PoW/PoS\",\"PoW\",\"PoW/PoS\",\"PoW\",\"PoW\",\"PoW\",\"PoW/PoS\",\"PoW\",\"PoW/PoS\",\"PoW\",\"PoW\",\"PoW\",\"PoS\",\"PoW\",\"PoW/PoS\",\"PoW\",\"PoW/PoS\",\"PoS\",\"Proof of Authority\",\"PoW\",\"PoS\",\"PoW\",\"PoW\",\"PoW\",\"PoW\",\"PoW\",\"PoW/PoS\",\"PoW/PoS\",\"PoW\",\"PoS\",\"PoS\",\"PoW/PoS\",\"PoW\",\"PoW/PoS\",\"PoW\",\"PoW/PoS\",\"PoW\",\"PoS\",\"PoW\",\"PoW/PoS\",\"PoW/PoS\",\"PoW/PoS\",\"PoW/PoS\",\"PoW\",\"PoW/PoS\",\"PoW/PoS\",\"PoW\",\"PoS\",\"PoW/PoS\",\"PoS\",\"PoW\",\"PoW\",\"PoW\",\"PoW\",\"PoW/PoS\",\"DPoS\",\"PoW/PoS\",\"PoW/PoS\",\"PoW\",\"PoW/PoS\",\"PoW\",\"PoW\",\"PoW\",\"PoS\",\"PoS\",\"PoW\",\"PoW\",\"PoW/PoS\",\"PoW/PoS\",\"PoW\",\"PoW/PoS\",\"PoW\",\"PoW\",\"PoW\",\"PoS\",\"PoW\",\"PoW\",\"PoW/PoS\",\"PoW/PoS\",\"PoS\",\"PoW\",\"PoW\",\"PoW\",\"PoS\",\"PoS\",\"PoW and PoS\",\"PoW\",\"PoW\",\"PoW/PoS\",\"PoW\",\"PoW\",\"PoW\",\"PoW\",\"PoS\",\"POBh\",\"PoW + Hive\",\"PoW\",\"PoW\",\"PoW\",\"PoW/PoS\",\"PoA\",\"PoW/PoS\",\"PoW/PoS\",\"PoS\",\"PoS\",\"PoW\",\"PoW\",\"PoW\",\"PoW\",\"PoW/PoS\",\"PoW/PoS\",\"PoW/PoS\",\"PoW\",\"PoS\",\"PoW\",\"PoS\",\"PoS\",\"PoW/PoS\",\"DPoS\",\"PoW\",\"PoW/PoS\",\"PoS\",\"PoW\",\"PoS\",\"PoW/PoS\",\"PoW\",\"PoW\",\"PoS/PoW\",\"PoW\",\"PoS\",\"PoW\",\"PoW\",\"PoW\",\"PoW\",\"PoW/PoS\",\"PoS\",\"PoW\",\"PoW/PoS\",\"PoW\",\"PoW/PoS\",\"PoS\",\"HPoW\",\"PoS\",\"PoS\",\"PoS\",\"PoW\",\"PoW\",\"PoW\",\"PoW/PoS\",\"PoS\",\"PoW/PoS\",\"PoS\",\"PoW/PoS\",\"PoS\",\"PoW\",\"PoW/PoS\",\"PoW\",\"PoW\",\"PoW\",\"PoW\",\"PoS\",\"PoW/PoS\",\"PoS\",\"PoS\",\"PoW\",\"PoW/PoS\",\"PoS\",\"PoW\",\"PoW/PoS\",\"Zero-Knowledge Proof\",\"PoW\",\"DPOS\",\"PoW\",\"PoS\",\"PoW\",\"PoW\",\"Pos\",\"PoS\",\"PoW\",\"PoW/PoS\",\"PoW\",\"PoW\",\"PoS\",\"PoW\",\"PoW\",\"PoW/PoS\",\"PoW\",\"PoW/PoS\",\"PoW\",\"PoS\",\"PoW/PoS\",\"PoW\",\"PoS\",\"PoW/PoS\",\"PoW/PoS\",\"PoW/PoS\",\"PoW/PoS\",\"PoW\",\"PoW\",\"PoW\",\"PoW/PoS\",\"DPoS\",\"PoW/PoS\",\"PoW\",\"PoW/PoS\",\"PoW\",\"PoW/PoS\",\"PoW\",\"PoW/PoS\",\"PoS\",\"PoW/PoS\",\"PoW/PoS\",\"PoW\",\"PoW/PoS\",\"PoW/PoS\",\"PoW/PoS\",\"PoW\",\"PoW/PoS\",\"PoW\",\"PoW/PoS\",\"PoW\",\"PoW/PoS\",\"PoW/PoS\",\"PoS\",\"PoW\",\"PoW\",\"Proof of Trust\",\"PoW/PoS\",\"DPoS\",\"PoS\",\"PoW/PoS\",\"PoW/PoS\",\"PoW\",\"PoW/PoS\",\"PoW\",\"DPoS\",\"PoW\",\"DPoS\",\"PoS\",\"LPoS\",\"PoS\",\"DPoS\",\"PoS/LPoS\",\"DPoS\",\"PoW/PoS\",\"PoW\",\"PoW\",\"PoS\"],\"TotalCoinSupply\":{\"__ndarray__\":\"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\",\"dtype\":\"float64\",\"order\":\"little\",\"shape\":[532]},\"TotalCoinsMined\":{\"__ndarray__\":\"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\",\"dtype\":\"float64\",\"order\":\"little\",\"shape\":[532]}},\"selected\":{\"id\":\"1486\"},\"selection_policy\":{\"id\":\"1520\"}},\"id\":\"1485\",\"type\":\"ColumnDataSource\"},{\"attributes\":{},\"id\":\"1503\",\"type\":\"NumberEditor\"},{\"attributes\":{},\"id\":\"1486\",\"type\":\"Selection\"},{\"attributes\":{},\"id\":\"1513\",\"type\":\"IntEditor\"},{\"attributes\":{},\"id\":\"1520\",\"type\":\"UnionRenderers\"},{\"attributes\":{\"format\":\"0,0.0[00000]\"},\"id\":\"1507\",\"type\":\"NumberFormatter\"},{\"attributes\":{},\"id\":\"1512\",\"type\":\"NumberFormatter\"},{\"attributes\":{\"editor\":{\"id\":\"1488\"},\"field\":\"CoinName\",\"formatter\":{\"id\":\"1487\"},\"title\":\"CoinName\"},\"id\":\"1489\",\"type\":\"TableColumn\"},{\"attributes\":{\"editor\":{\"id\":\"1513\"},\"field\":\"Class\",\"formatter\":{\"id\":\"1512\"},\"title\":\"Class\"},\"id\":\"1514\",\"type\":\"TableColumn\"},{\"attributes\":{},\"id\":\"1488\",\"type\":\"StringEditor\"},{\"attributes\":{},\"id\":\"1493\",\"type\":\"StringEditor\"},{\"attributes\":{\"columns\":[{\"id\":\"1489\"},{\"id\":\"1494\"},{\"id\":\"1499\"},{\"id\":\"1504\"},{\"id\":\"1509\"},{\"id\":\"1514\"}],\"height\":300,\"reorderable\":false,\"source\":{\"id\":\"1485\"},\"view\":{\"id\":\"1519\"},\"width\":700},\"id\":\"1517\",\"type\":\"DataTable\"},{\"attributes\":{},\"id\":\"1492\",\"type\":\"StringFormatter\"},{\"attributes\":{\"format\":\"0,0.0[00000]\"},\"id\":\"1502\",\"type\":\"NumberFormatter\"},{\"attributes\":{\"source\":{\"id\":\"1485\"}},\"id\":\"1519\",\"type\":\"CDSView\"}],\"root_ids\":[\"1483\"]},\"title\":\"Bokeh Application\",\"version\":\"2.4.2\"}};\n",
       "    var render_items = [{\"docid\":\"5a85c120-75ae-4385-85c3-e9b01ec6c5a1\",\"root_ids\":[\"1483\"],\"roots\":{\"1483\":\"8fdb581f-e970-429a-9971-191b27b2ff2f\"}}];\n",
       "    root.Bokeh.embed.embed_items_notebook(docs_json, render_items);\n",
       "  }\n",
       "  if (root.Bokeh !== undefined && root.Bokeh.Panel !== undefined) {\n",
       "    embed_document(root);\n",
       "  } else {\n",
       "    var attempts = 0;\n",
       "    var timer = setInterval(function(root) {\n",
       "      if (root.Bokeh !== undefined && root.Bokeh.Panel !== undefined) {\n",
       "        clearInterval(timer);\n",
       "        embed_document(root);\n",
       "      } else if (document.readyState == \"complete\") {\n",
       "        attempts++;\n",
       "        if (attempts > 200) {\n",
       "          clearInterval(timer);\n",
       "          console.log(\"Bokeh: ERROR: Unable to run BokehJS code because BokehJS library is missing\");\n",
       "        }\n",
       "      }\n",
       "    }, 25, root)\n",
       "  }\n",
       "})(window);</script>"
      ],
      "text/plain": [
       ":Table   [CoinName,Algorithm,ProofType,TotalCoinSupply,TotalCoinsMined,Class]"
      ]
     },
     "execution_count": 40,
     "metadata": {
      "application/vnd.holoviews_exec.v0+json": {
       "id": "1483"
      }
     },
     "output_type": "execute_result"
    }
   ],
   "source": [
    "# Print the total number of tradable cryptocurrencies\n",
    "clustered_df.hvplot.table(columns,sortable=True, selectable=True)"
   ]
  }
 ],
 "metadata": {
  "file_extension": ".py",
  "kernelspec": {
   "display_name": "Python 3",
   "language": "python",
   "name": "python3"
  },
  "language_info": {
   "codemirror_mode": {
    "name": "ipython",
    "version": 3
   },
   "file_extension": ".py",
   "mimetype": "text/x-python",
   "name": "python",
   "nbconvert_exporter": "python",
   "pygments_lexer": "ipython3",
   "version": "3.9.1"
  },
  "mimetype": "text/x-python",
  "name": "python",
  "npconvert_exporter": "python",
  "pygments_lexer": "ipython3",
  "version": 3
 },
 "nbformat": 4,
 "nbformat_minor": 4
}
